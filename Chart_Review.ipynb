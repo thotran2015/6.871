{
  "nbformat": 4,
  "nbformat_minor": 0,
  "metadata": {
    "colab": {
      "name": "Chart Review.ipynb",
      "provenance": [],
      "private_outputs": true,
      "collapsed_sections": [],
      "include_colab_link": true
    },
    "kernelspec": {
      "name": "python3",
      "display_name": "Python 3"
    }
  },
  "cells": [
    {
      "cell_type": "markdown",
      "metadata": {
        "id": "view-in-github",
        "colab_type": "text"
      },
      "source": [
        "<a href=\"https://colab.research.google.com/github/thotran2015/6.871/blob/master/Chart_Review.ipynb\" target=\"_parent\"><img src=\"https://colab.research.google.com/assets/colab-badge.svg\" alt=\"Open In Colab\"/></a>"
      ]
    },
    {
      "cell_type": "markdown",
      "metadata": {
        "id": "aAAJZSP9yQle",
        "colab_type": "text"
      },
      "source": [
        "<h1>Chart Review</h1>\n",
        "\n",
        "Welcome to chart review!\n",
        "\n",
        "We hope that you find this exercise useful in understanding the clinical care received by patients. When everything is just dataframes and vectors, it might be easy to lose sight of the fact that we are trying to use data to help real people with serious problems.\n",
        "\n",
        "In this notebook, we will walk through one patient's hospital course together. Then you will analyze a second patient's course and include that description in your pset writeup.\n",
        "\n",
        "(The code in this notebook was inspired by a visualization project by Anu Vajapey, Willie Boag, Emily Alsentzer, and Matthew McDermott.)"
      ]
    },
    {
      "cell_type": "code",
      "metadata": {
        "id": "v26R9b4cyL15",
        "colab_type": "code",
        "colab": {}
      },
      "source": [
        "from google.colab import auth\n",
        "from google.colab import widgets\n",
        "\n",
        "from collections import Counter\n",
        "import numpy as np\n",
        "import pandas as pd\n",
        "import pickle"
      ],
      "execution_count": 0,
      "outputs": []
    },
    {
      "cell_type": "code",
      "metadata": {
        "id": "GcJlmKOvHg95",
        "colab_type": "code",
        "colab": {}
      },
      "source": [
        "auth.authenticate_user()\n",
        "!gsutil cp gs://hst-956/chartreview.pkl ./"
      ],
      "execution_count": 0,
      "outputs": []
    },
    {
      "cell_type": "code",
      "metadata": {
        "id": "XvCZeTNIbSM2",
        "colab_type": "code",
        "colab": {}
      },
      "source": [
        "with open('chartreview.pkl', 'rb') as f:\n",
        "    notes       = pickle.load(f)\n",
        "    backgrounds = pickle.load(f)"
      ],
      "execution_count": 0,
      "outputs": []
    },
    {
      "cell_type": "code",
      "metadata": {
        "id": "T1yXKqclgHEy",
        "colab_type": "code",
        "colab": {}
      },
      "source": [
        " def view_background(hadm_id):\n",
        "    display(backgrounds[backgrounds.index==hadm_id].T)\n",
        "\n",
        "\n",
        " def visualize_notes(hadm_id):\n",
        "    # When did this patient arrive (useful for getting first 48 hours)\n",
        "    admittime = notes[notes.hadm_id==hadm_id].admittime.values[0]\n",
        "\n",
        "    # Get the notes for this patient\n",
        "    notes_subject = notes.loc[notes.hadm_id==hadm_id]\n",
        "\n",
        "    # How many notes for each category?\n",
        "    category_counts = Counter(notes_subject.category.values)\n",
        "    category_sorted = sorted(category_counts.keys(), \n",
        "                             key=lambda t:category_counts[t], reverse=True)\n",
        "\n",
        "    # Outer tab is for different category of notes\n",
        "    outer_tab = widgets.TabBar(category_sorted, location='top')\n",
        "    for category in category_sorted:\n",
        "      with outer_tab.output_to(category):\n",
        "        notes_cat = notes_subject.loc[notes_subject.category==category]\n",
        "        titles = []\n",
        "        for num,(i,row) in enumerate(notes_cat.iterrows()):\n",
        "          # Format the text with additional metadata\n",
        "          time_offset = (row.charttime - admittime).total_seconds()/3600.\n",
        "          time_offset = int(time_offset) if not np.isnan(time_offset) else 'n/a'\n",
        "            \n",
        "          # Only first 48 hours of data\n",
        "          titles += ['%s Note #%d (%s Hours)' % (category,num,time_offset)]\n",
        "\n",
        "        # Inner tab is for each note in a category\n",
        "        inner_tab = widgets.TabBar(titles, location='start')\n",
        "        for i in range(len(titles)):\n",
        "          with inner_tab.output_to(titles[i]):\n",
        "            print(notes_cat.iloc[i][\"text\"])\n",
        "        "
      ],
      "execution_count": 0,
      "outputs": []
    },
    {
      "cell_type": "markdown",
      "metadata": {
        "id": "bCZi6qieyce_",
        "colab_type": "text"
      },
      "source": [
        "<h1>Patient 1</h1>\n",
        "\n",
        "We will look at this patient together for you to get a sense for what information to focus on when trying to learn about the patient's trajectory. Let's begin! \n",
        "\n",
        "First let's look at the overview of their stay\n"
      ]
    },
    {
      "cell_type": "code",
      "metadata": {
        "id": "9Oy39XD4y8JA",
        "colab_type": "code",
        "colab": {}
      },
      "source": [
        "# Admission_id\n",
        "hadm_id = 142861\n",
        "\n",
        "view_background(hadm_id)"
      ],
      "execution_count": 0,
      "outputs": []
    },
    {
      "cell_type": "markdown",
      "metadata": {
        "id": "7h_6rBSLzK06",
        "colab_type": "text"
      },
      "source": [
        "We can see that this patient is a 79 year-old female who came to the hospital via the emergency room. Her admitting diagnosis was cellulitis.\n",
        "\n",
        "Let's look at what information we can find in their notes:"
      ]
    },
    {
      "cell_type": "code",
      "metadata": {
        "id": "_DxGnjgwgPtu",
        "colab_type": "code",
        "colab": {}
      },
      "source": [
        "tab = visualize_notes(hadm_id)"
      ],
      "execution_count": 0,
      "outputs": []
    },
    {
      "cell_type": "markdown",
      "metadata": {
        "id": "xGnjxNbF0aie",
        "colab_type": "text"
      },
      "source": [
        "**<h3>Kinds of Notes</h3>**\n",
        "\n",
        "We can see that during her stay, there were 3 categories of notes written: nursing/progress notes, ECG reports, and a discharge summary. There are other note categories as well, including radiology reports, physician notes, echo, nutrition notes (rare), social work notes (rare), and others. Let's look a little closer at these 3 note categories that are here.\n",
        "\n",
        "<h4>Nursing Notes</h4>\n",
        "\n",
        "Nursing notes often tell the most comprehensive narrative of the patient's care. As is usually the case, the notes tend to be spaced 12 hours apart because that is the length of a nursing shift. Theese notes are how one nurse communicates to his/her successor nurse the current state of the patient. As a result, these notes tend to be one of the most readable parts of the picture.\n",
        "\n",
        "Another interesting observation to note is that the first note is timestamped 148 hours. That time offset is 148 hours from the patient was admitted to the hospital. As we will see when we dig deeper, this patient arrived to the emergency department and was admitted to a non-ICU ward in the hospital. Because MIMIC is an ICU database, we don't have access to the progress notes written while she was there. Once she transferred to the medical ICU, the MICU nurses began taking notes.\n",
        "\n",
        "You might find the deidentification notation (e.g. \\[\\*\\*Hospital Ward Name \\*\\*\\] or \\[\\*\\*Name (NI) 8830\\*\\*\\]) unintuitive. These symbols indicate that a piece of Protected Health Information (PHI) was originally in the note collected at the Beth Israel. As a condition for them sharing their data to MIMIC, the data was de-identified to be compliant with privacy laws like HIPAA.\n",
        "\n",
        "\n",
        "<h4>ECG Reports</h4>\n",
        "\n",
        "The ECG report is far less interpertable to non-experts. An electrocardiogram test was ordered to measure something about the patient's heart, and the report was written by a doctor. To be honest, for a variety of reasons, I tend to not use ECG notes very often.\n",
        "\n",
        "Also, observe that the time offset is \"n/a\". This is because some note categories (e.g. ECG, echo, discharge summary) do not have their timestamp recorded in the EHR system. Such inconsistencies can make Machine Learning tasks hard. For instance, if we wanted to only use the first 48 hours' data as input, we can't readily tell whether a given ECG report actually was recorded in that timeframe. As a result, these notes are often excluded as a preprocessing step.\n",
        "\n",
        "for more ECG info: https://www.medicinenet.com/electrocardiogram_ecg_or_ekg/article.htm#how_is_an_ecg_ekg_performed\n",
        "\n",
        "\n",
        "<h4>Discharge Summary</h4>\n",
        "\n",
        "The discharge summary also does not have a timestamp, but we know that every discharge summary is written at the end of the hospital admission. Note that there is not a summary per ICU stay, so even if a patient transfered from ED -> general ward -> MICU -> general ward -> CICU, they would still only have one discharge summary at the end of their hospital stay.\n",
        "\n",
        "The discharge summary is often the best place to start for trying to understand the care a patient received. Despite the messiness of the layout, there is usually a consistent set of very helpful sections for understanding the patient's path, such as: History of Present Illness (HPI), Hospital Course, Social History, etc.\n"
      ]
    },
    {
      "cell_type": "markdown",
      "metadata": {
        "id": "CjJvhpph0eXZ",
        "colab_type": "text"
      },
      "source": [
        "**<h3>Length of Stay</h3>**\n",
        "\n",
        "The discharge summary says that the patient was admitted \\[\\*\\*2134-12-26\\*\\*\\] .\n",
        "\n",
        "She was discharged on \\[\\*\\*2135-1-2\\*\\*\\].\n",
        "\n",
        "Although these timestamps (e.g. Dec 26, 2134) are clearly fictious, it's important to note that they are all coherent with one another. The actual dates were shifted forward into the future by the same constant offset. As a result, we can tell that her length-of-stay was 7 days."
      ]
    },
    {
      "cell_type": "markdown",
      "metadata": {
        "id": "moZXVBs-0flq",
        "colab_type": "text"
      },
      "source": [
        "**<h3>History of Present Illness</h3>**\n",
        "\n",
        "It can be very helpful to understand the 2-3 sentence summary of the patient. Recall from the structured admission information, we knew that the patient is a 79 year-old female who came to the hospital via the emergency room with an admitting diagnosis was cellulitis. But if we navigate to the History of Present Illness section of the discharge summary, we can see even more detail:\n",
        "\n",
        "\n",
        "> History of Present Illness:\n",
        "> Pt is a 79 yo female with chf, htn, chronic venous stasis of\n",
        "> legs who comes in with inability to ambulate since friday due to\n",
        "> pain in her legs.  She says that the pain is much worse in the\n",
        "> right leg (\"like a knife\") and worsened with ambulation. She\n",
        "> denies fevers, chills, n/v/d.  On further questioning she does\n",
        "> report intermittant sob and cp with ambulation.\n",
        "\n",
        "She has chronic heart failure (cnf), hypertension (htn), and the veins in her legs are not pumping enough blood. She feels a lot of pain in her legs, and it gets worse when she walks. Also when she walks, she feels shortness of breath (sob) and chest pain (cp)."
      ]
    },
    {
      "cell_type": "markdown",
      "metadata": {
        "id": "efiNsF3y0f0i",
        "colab_type": "text"
      },
      "source": [
        "**<h3>Care Timeline</h3>**\n",
        "\n",
        "Let's look at this patient's Hospital Course to identify some of the major moments/events during her hospital stay.\n",
        "\n",
        "**Dec 26**: Patient was admitted to the hospital.\n",
        "\n",
        "**Dec 26**: Patient developed diarrhea.\n",
        "\n",
        "**Dec 30**: White Blood Cell (wbc) count increased on to 19.5.\n",
        "\n",
        "**Jan 1**: Patient's condition started to deteriorate \n",
        "\n",
        "**Jan 1 or 2**: Patient was made Do Not Resuscitate / Do Not Intubate (DNR/DNI).\n",
        "\n",
        "**Jan 2**: In the MICU she was treated supportively, but her condition deteriorated further and she passed away."
      ]
    },
    {
      "cell_type": "markdown",
      "metadata": {
        "id": "jQ2M2Pvg2D7J",
        "colab_type": "text"
      },
      "source": [
        "**<h3>End of Life</h3>**\n",
        "\n",
        "Unfortunately, this patient passed away. We can see a fuller account of this moment in the last nursing note:\n",
        " `Nursing/other Note #3 (174 Hours)`\n",
        "\n",
        "\n",
        "> Accepted patient at 1900, family at bedside.\n",
        "> \n",
        "> Patient decided to stop all medication sustaining the patient's blood pressure and to remain at bedside.\n",
        "> \n",
        "> All drips stopped at \\[\\*\\*2059\\*\\*\\] and patient expired at \\[\\*\\*2069\\*\\*\\] with family at bedside.\n",
        "> \n",
        "> Physician spoke with family and they are remaining at bedside until funeral home comes to ICU to remove patient.  They are \\[\\*\\*Hospital1 \\*\\*\\] and this is their wishes.  Son is in from \\[\\*\\*Country \\*\\*\\] and at bedside along with his sister.\n"
      ]
    },
    {
      "cell_type": "markdown",
      "metadata": {
        "id": "0ZrsIQ102ED0",
        "colab_type": "text"
      },
      "source": [
        "**<h1>Patient 2</h1>**\n",
        "\n",
        "Now you can give it a shot.\n",
        "\n",
        "1) What is the patient's History of Present Illness?\n",
        "\n",
        "2) How long were they in the hospital?\n",
        "\n",
        "3) What are some of the major events in the timeline of this patient's care?\n",
        "\n",
        "4) What stood out to you most when reading the nursing notes?\n"
      ]
    },
    {
      "cell_type": "markdown",
      "metadata": {
        "id": "jQ7KXmc3rbWN",
        "colab_type": "text"
      },
      "source": [
        "1. The patient's History of Present Illness is that she has a history of CVA with right hemiparesis and expressive aphasia, vascular dementia, atrial fibrillation, status post pacemaker implantation, and lower GI bleed.\n",
        "2. The length of her stay is 2 days.\n",
        "3. Three major events in the timeline of this patient's care include\n",
        "4. What stood out to you most when reading the nursing notes?"
      ]
    },
    {
      "cell_type": "code",
      "metadata": {
        "id": "rKR59UXq28s8",
        "colab_type": "code",
        "colab": {}
      },
      "source": [
        "hadm_id_2 = 194001\n",
        "\n",
        "view_background(hadm_id_2)"
      ],
      "execution_count": 0,
      "outputs": []
    },
    {
      "cell_type": "code",
      "metadata": {
        "id": "i3Pkwgmk2cW4",
        "colab_type": "code",
        "colab": {}
      },
      "source": [
        "visualize_notes(194001)"
      ],
      "execution_count": 0,
      "outputs": []
    }
  ]
}
{
  "nbformat": 4,
  "nbformat_minor": 0,
  "metadata": {
    "colab": {
      "name": "ICU Mortality Skeleton.ipynb",
      "provenance": [],
      "private_outputs": true,
      "toc_visible": true,
      "include_colab_link": true
    },
    "kernelspec": {
      "name": "python3",
      "display_name": "Python 3"
    },
    "accelerator": "GPU"
  },
  "cells": [
    {
      "cell_type": "markdown",
      "metadata": {
        "id": "view-in-github",
        "colab_type": "text"
      },
      "source": [
        "<a href=\"https://colab.research.google.com/github/thotran2015/6.871/blob/master/ICU_Mortality_Skeleton.ipynb\" target=\"_parent\"><img src=\"https://colab.research.google.com/assets/colab-badge.svg\" alt=\"Open In Colab\"/></a>"
      ]
    },
    {
      "cell_type": "code",
      "metadata": {
        "id": "ElpqUAmUvI7w",
        "colab_type": "code",
        "colab": {}
      },
      "source": [
        "from google.colab import auth\n",
        "import pandas as pd\n",
        "from sklearn import preprocessing\n",
        "from sklearn.model_selection import GridSearchCV\n",
        "from sklearn.linear_model import LogisticRegression\n",
        "from sklearn.metrics import roc_auc_score\n",
        "from sklearn.metrics import confusion_matrix\n",
        "from sklearn.feature_extraction.text import CountVectorizer\n",
        "import matplotlib.pyplot as plt\n",
        "import numpy as np"
      ],
      "execution_count": 0,
      "outputs": []
    },
    {
      "cell_type": "markdown",
      "metadata": {
        "id": "PIyJAXiowph8",
        "colab_type": "text"
      },
      "source": [
        "## Loading Data\n"
      ]
    },
    {
      "cell_type": "code",
      "metadata": {
        "id": "Nbm57eDfvNVO",
        "colab_type": "code",
        "colab": {}
      },
      "source": [
        "auth.authenticate_user()"
      ],
      "execution_count": 0,
      "outputs": []
    },
    {
      "cell_type": "markdown",
      "metadata": {
        "id": "_QLGMNMKvwIx",
        "colab_type": "text"
      },
      "source": [
        "#### Lab Data"
      ]
    },
    {
      "cell_type": "code",
      "metadata": {
        "id": "x15yHLWbvOcd",
        "colab_type": "code",
        "colab": {}
      },
      "source": [
        "!gsutil cp gs://hst-956/adult_icu.gz ./\n"
      ],
      "execution_count": 0,
      "outputs": []
    },
    {
      "cell_type": "code",
      "metadata": {
        "id": "6-Lq03V-vhzW",
        "colab_type": "code",
        "colab": {}
      },
      "source": [
        "lab_df = pd.read_csv('adult_icu.gz')"
      ],
      "execution_count": 0,
      "outputs": []
    },
    {
      "cell_type": "markdown",
      "metadata": {
        "id": "4j84nlbOwAYH",
        "colab_type": "text"
      },
      "source": [
        "#### Note Data"
      ]
    },
    {
      "cell_type": "code",
      "metadata": {
        "id": "d6s5t1m_wDMj",
        "colab_type": "code",
        "colab": {}
      },
      "source": [
        "!gsutil cp gs://hst-956/adult_notes.gz ./\n"
      ],
      "execution_count": 0,
      "outputs": []
    },
    {
      "cell_type": "code",
      "metadata": {
        "id": "oiwcD0kJwJkQ",
        "colab_type": "code",
        "colab": {}
      },
      "source": [
        "note_df = pd.read_csv('adult_notes.gz')"
      ],
      "execution_count": 0,
      "outputs": []
    },
    {
      "cell_type": "code",
      "metadata": {
        "id": "vKaQMvjeOam3",
        "colab_type": "code",
        "colab": {}
      },
      "source": [
        "def get_best_model(model, parameters, X_val, y_val):\n",
        "  clf = GridSearchCV(model, parameters)\n",
        "  clf.fit(X_val, y_val)\n",
        "  return clf.best_estimator_"
      ],
      "execution_count": 0,
      "outputs": []
    },
    {
      "cell_type": "markdown",
      "metadata": {
        "id": "RAknECuC8tvw",
        "colab_type": "text"
      },
      "source": [
        "## Question 2\n",
        "\n",
        "Predicting hospital mortality from lab values\n",
        "\n"
      ]
    },
    {
      "cell_type": "code",
      "metadata": {
        "id": "Hz2dCQJL8u3J",
        "colab_type": "code",
        "colab": {}
      },
      "source": [
        "lab_df.head()"
      ],
      "execution_count": 0,
      "outputs": []
    },
    {
      "cell_type": "code",
      "metadata": {
        "id": "htIqJN_hMbEU",
        "colab_type": "code",
        "colab": {}
      },
      "source": [
        "fea_note_df = lab_df.drop(columns=['subject_id',\t'hadm_id','icustay_id', 'mort_hosp', 'mort_icu',\t'mort_oneyr', 'train', 'test', 'valid'])\n",
        "scaled_note_df = pd.DataFrame(preprocessing.scale(fea_note_df), columns = fea_note_df.columns)\n",
        "scaled_note_df[['train', 'test', 'valid', 'mort_hosp','real_age']] = lab_df[['train', 'test', 'valid', 'mort_hosp', 'age']]"
      ],
      "execution_count": 0,
      "outputs": []
    },
    {
      "cell_type": "code",
      "metadata": {
        "id": "wOeyTykdOIKW",
        "colab_type": "code",
        "colab": {}
      },
      "source": [
        "df_train = scaled_note_df[scaled_note_df['train'] ==1]\n",
        "df_test = scaled_note_df[scaled_note_df['test'] ==1]\n",
        "df_val = scaled_note_df[scaled_note_df['valid'] ==1]\n",
        "\n",
        "X_train = df_train[fea_note_df.columns]\n",
        "y_train = df_train['mort_hosp']\n",
        "X_test = df_test[fea_note_df.columns]\n",
        "y_test = df_test['mort_hosp']\n",
        "X_val = df_val[fea_note_df.columns]\n",
        "y_val = df_val['mort_hosp']\n",
        "\n",
        "model = LogisticRegression(solver = 'liblinear')\n",
        "parameters = {'C':[0.1,0.25,0.5,1.], 'penalty':['l1','l2']}"
      ],
      "execution_count": 0,
      "outputs": []
    },
    {
      "cell_type": "code",
      "metadata": {
        "id": "v9CvIlnW5JjX",
        "colab_type": "code",
        "colab": {}
      },
      "source": [
        "df_test.head(2)"
      ],
      "execution_count": 0,
      "outputs": []
    },
    {
      "cell_type": "code",
      "metadata": {
        "id": "7BTj7y9JPpA2",
        "colab_type": "code",
        "colab": {}
      },
      "source": [
        "best_model = get_best_model(model, parameters, X_val, y_val)\n",
        "best_model.fit(X_train, y_train)"
      ],
      "execution_count": 0,
      "outputs": []
    },
    {
      "cell_type": "code",
      "metadata": {
        "id": "P4OgA-NmSMhF",
        "colab_type": "code",
        "colab": {}
      },
      "source": [
        "test_acc = best_model.score(X_test,y_test)\n",
        "print('Test accuracy: ', test_acc)"
      ],
      "execution_count": 0,
      "outputs": []
    },
    {
      "cell_type": "code",
      "metadata": {
        "id": "69Hxn1Z6Srjl",
        "colab_type": "code",
        "colab": {}
      },
      "source": [
        "y_score = best_model.predict_proba(X_test)[:, 1]\n",
        "auc = roc_auc_score(y_test, y_score)\n",
        "print('AUC score: ', auc)"
      ],
      "execution_count": 0,
      "outputs": []
    },
    {
      "cell_type": "code",
      "metadata": {
        "id": "q-paEGPJTOHD",
        "colab_type": "code",
        "colab": {}
      },
      "source": [
        "y_pred = best_model.predict(X_test)\n",
        "print('Confusion Matrix')\n",
        "confusion_matrix(y_test, y_pred)"
      ],
      "execution_count": 0,
      "outputs": []
    },
    {
      "cell_type": "code",
      "metadata": {
        "id": "0lVKOAQKc_72",
        "colab_type": "code",
        "colab": {}
      },
      "source": [
        "best_model.coef_[0]"
      ],
      "execution_count": 0,
      "outputs": []
    },
    {
      "cell_type": "code",
      "metadata": {
        "id": "8h9U3BW8cf9p",
        "colab_type": "code",
        "colab": {}
      },
      "source": [
        "pd.DataFrame({'feature': fea_note_df.columns, 'coef': best_model.coef_[0]})"
      ],
      "execution_count": 0,
      "outputs": []
    },
    {
      "cell_type": "markdown",
      "metadata": {
        "id": "OaVfxT6Bb9_Y",
        "colab_type": "text"
      },
      "source": [
        "2.1) What do the columns seem to mean? If we wanted to predict in-hospital mortality, which column would we use as the outcome column? Which columns would be features and which columns would NOT be features?\n",
        "\n",
        "Using sklearn, train a logistic regression classifier on the training data while optimizing for best train accuracy, find the best hyperparameters among C=[0.1,0.25,0.5,1.] and penalty=[‘l1’,’l2’] on validation data. Normalize your feature values to have zero mean and unit variance.\n",
        "\n",
        "2.2) What is the accuracy on test data? What is the AUC? Create a confusion matrix of your predictions against reality. Look at the proportion of patients who died in the hospital, and explain why might one metric be more informative than the other.\n",
        "\n",
        "2.3) What are the most predictive features, based on the the coefficients of the logistic regression? Comment on your findings."
      ]
    },
    {
      "cell_type": "markdown",
      "metadata": {
        "id": "R0u2eZw0_Ov3",
        "colab_type": "text"
      },
      "source": [
        "## Question 3\n",
        "\n",
        "Predicting hospital mortality from clinical notes\n"
      ]
    },
    {
      "cell_type": "code",
      "metadata": {
        "id": "exk56Quh9HqL",
        "colab_type": "code",
        "colab": {}
      },
      "source": [
        "note_df.head()"
      ],
      "execution_count": 0,
      "outputs": []
    },
    {
      "cell_type": "code",
      "metadata": {
        "id": "rJeJUILnUcZ-",
        "colab_type": "code",
        "colab": {}
      },
      "source": [
        "all_text = note_df['chartext']\n",
        "note_train, note_test, note_val = note_df[note_df['train']==1], note_df[note_df['test']==1], note_df[note_df['valid']==1]"
      ],
      "execution_count": 0,
      "outputs": []
    },
    {
      "cell_type": "code",
      "metadata": {
        "id": "mrLqCbknUAZD",
        "colab_type": "code",
        "colab": {}
      },
      "source": [
        "vectorizer = CountVectorizer(max_features= 5000)\n",
        "vectorizer.fit(note_train['chartext'])"
      ],
      "execution_count": 0,
      "outputs": []
    },
    {
      "cell_type": "code",
      "metadata": {
        "id": "cDdjc5WAVB2k",
        "colab_type": "code",
        "colab": {}
      },
      "source": [
        "note_Xtrain, note_ytrain = vectorizer.transform(note_train['chartext']), note_train['mort_hosp']\n",
        "note_Xtest, note_ytest = vectorizer.transform(note_test['chartext']), note_test['mort_hosp']\n",
        "note_Xval, note_yval = vectorizer.transform(note_val['chartext']), note_val['mort_hosp']"
      ],
      "execution_count": 0,
      "outputs": []
    },
    {
      "cell_type": "code",
      "metadata": {
        "id": "7exdmgmTUxFH",
        "colab_type": "code",
        "colab": {}
      },
      "source": [
        "model_note = LogisticRegression(solver = 'liblinear')\n",
        "parameters = {'C':[0.1,0.25,0.5,1.], 'penalty':['l1','l2']}\n",
        "best_model_note= get_best_model(model_note, parameters, note_Xval, note_yval)\n"
      ],
      "execution_count": 0,
      "outputs": []
    },
    {
      "cell_type": "code",
      "metadata": {
        "id": "NzSVvkO5WnzY",
        "colab_type": "code",
        "colab": {}
      },
      "source": [
        "best_model_note.fit(note_Xtrain, note_ytrain)"
      ],
      "execution_count": 0,
      "outputs": []
    },
    {
      "cell_type": "code",
      "metadata": {
        "id": "9Gtiey3AWvBp",
        "colab_type": "code",
        "colab": {}
      },
      "source": [
        "note_test_acc = best_model_note.score(note_Xtest, note_ytest)\n",
        "print('Test accuracy: ', note_test_acc)"
      ],
      "execution_count": 0,
      "outputs": []
    },
    {
      "cell_type": "code",
      "metadata": {
        "id": "RCbV4oh2W0sA",
        "colab_type": "code",
        "colab": {}
      },
      "source": [
        "note_yscore = best_model_note.predict_proba(note_Xtest)[:, 1]\n",
        "note_auc = roc_auc_score(note_ytest, note_yscore)\n",
        "print('AUC score: ', note_auc)"
      ],
      "execution_count": 0,
      "outputs": []
    },
    {
      "cell_type": "code",
      "metadata": {
        "id": "AhOmC1RrW5xl",
        "colab_type": "code",
        "colab": {}
      },
      "source": [
        "note_ypred = best_model_note.predict(note_Xtest)\n",
        "print('Confusion Matrix')\n",
        "confusion_matrix(note_ytest, note_ypred)"
      ],
      "execution_count": 0,
      "outputs": []
    },
    {
      "cell_type": "code",
      "metadata": {
        "id": "r7YkiImCceEB",
        "colab_type": "code",
        "colab": {}
      },
      "source": [
        "words = pd.DataFrame(vectorizer.vocabulary_.items(), columns= ['word', 'index']).set_index('index').sort_values(by='index')\n",
        "#best_model_note.coef_"
      ],
      "execution_count": 0,
      "outputs": []
    },
    {
      "cell_type": "code",
      "metadata": {
        "id": "Sg-xu4AKeeUP",
        "colab_type": "code",
        "colab": {}
      },
      "source": [
        "words['coef'] = best_model_note.coef_[0]"
      ],
      "execution_count": 0,
      "outputs": []
    },
    {
      "cell_type": "code",
      "metadata": {
        "id": "beMJ4pLuir7F",
        "colab_type": "code",
        "colab": {}
      },
      "source": [
        "max_id = words['coef'].idxmax(axis = 0)\n",
        "words.iloc[max_id]"
      ],
      "execution_count": 0,
      "outputs": []
    },
    {
      "cell_type": "markdown",
      "metadata": {
        "id": "fqZRj_0-cZ7b",
        "colab_type": "text"
      },
      "source": [
        "3.1) What is the accuracy and AUC on the test data? How do these results compare to structured data results?\n",
        "\n",
        "3.2) What words are the most predictive (positive and negative) of hospital mortality? Look up any unknown clinical definitions and comment on a few."
      ]
    },
    {
      "cell_type": "markdown",
      "metadata": {
        "id": "htn2ZLmkcA3r",
        "colab_type": "text"
      },
      "source": [
        ""
      ]
    },
    {
      "cell_type": "markdown",
      "metadata": {
        "id": "fhKFPNlIAV-0",
        "colab_type": "text"
      },
      "source": [
        "## Question 4\n",
        "\n",
        "Analysis of data and results"
      ]
    },
    {
      "cell_type": "code",
      "metadata": {
        "id": "DxyN7K3m_Wbp",
        "colab_type": "code",
        "colab": {}
      },
      "source": [
        "mort_eth_df = lab_df[['mort_hosp','eth_asian','eth_black','eth_hispanic',\t'eth_other', 'eth_white']]\n",
        "mort_eth_df.sum()"
      ],
      "execution_count": 0,
      "outputs": []
    },
    {
      "cell_type": "code",
      "metadata": {
        "id": "uUdrdwqXoGc8",
        "colab_type": "code",
        "colab": {}
      },
      "source": [
        "asian = mort_eth_df[mort_eth_df['eth_asian']==1][['mort_hosp', 'eth_asian']].sum()\n",
        "black = mort_eth_df[mort_eth_df['eth_black']==1][['mort_hosp', 'eth_black']].sum()\n",
        "hisp = mort_eth_df[mort_eth_df['eth_hispanic']==1][['mort_hosp', 'eth_hispanic']].sum()\n",
        "other = mort_eth_df[mort_eth_df['eth_other']==1][['mort_hosp', 'eth_other']].sum()\n",
        "white = mort_eth_df[mort_eth_df['eth_white']==1][['mort_hosp', 'eth_white']].sum()"
      ],
      "execution_count": 0,
      "outputs": []
    },
    {
      "cell_type": "code",
      "metadata": {
        "id": "g-gucLEQqXmH",
        "colab_type": "code",
        "colab": {}
      },
      "source": [
        "other"
      ],
      "execution_count": 0,
      "outputs": []
    },
    {
      "cell_type": "code",
      "metadata": {
        "id": "URyu5oaRpqgi",
        "colab_type": "code",
        "colab": {}
      },
      "source": [
        "[(eth[1], eth[0]/eth[1]) for eth in [asian, black, hisp, other, white]]"
      ],
      "execution_count": 0,
      "outputs": []
    },
    {
      "cell_type": "code",
      "metadata": {
        "id": "ylitdnqutyNv",
        "colab_type": "code",
        "colab": {}
      },
      "source": [
        "lab_df[['age']].plot.hist(by= 'age', bins = 10)"
      ],
      "execution_count": 0,
      "outputs": []
    },
    {
      "cell_type": "code",
      "metadata": {
        "id": "kBJlQu3Tuu0e",
        "colab_type": "code",
        "colab": {}
      },
      "source": [
        "lab_df[['age']].hist(bins = 10)"
      ],
      "execution_count": 0,
      "outputs": []
    },
    {
      "cell_type": "code",
      "metadata": {
        "id": "_4kWjhRdzMdG",
        "colab_type": "code",
        "colab": {}
      },
      "source": [
        "bucket_age = lab_df.groupby(pd.cut(lab_df[\"age\"], np.arange(0, 100, 10)))['age'].count()"
      ],
      "execution_count": 0,
      "outputs": []
    },
    {
      "cell_type": "code",
      "metadata": {
        "id": "dQQfU1AszQuC",
        "colab_type": "code",
        "colab": {}
      },
      "source": [
        "bucket_age"
      ],
      "execution_count": 0,
      "outputs": []
    },
    {
      "cell_type": "code",
      "metadata": {
        "colab_type": "code",
        "id": "km5hnXp2y2NQ",
        "colab": {}
      },
      "source": [
        "bucket_mort = lab_df.groupby(pd.cut(lab_df[\"age\"], np.arange(0, 100, 10)))['mort_hosp'].sum()"
      ],
      "execution_count": 0,
      "outputs": []
    },
    {
      "cell_type": "code",
      "metadata": {
        "id": "9agY2NOtzvfh",
        "colab_type": "code",
        "colab": {}
      },
      "source": [
        "bucket_mort"
      ],
      "execution_count": 0,
      "outputs": []
    },
    {
      "cell_type": "code",
      "metadata": {
        "id": "04vGG1rf0an9",
        "colab_type": "code",
        "colab": {}
      },
      "source": [
        "bucket_mort/bucket_age"
      ],
      "execution_count": 0,
      "outputs": []
    },
    {
      "cell_type": "code",
      "metadata": {
        "colab_type": "code",
        "id": "ypyuFpX9y0q1",
        "colab": {}
      },
      "source": [
        "count_mort_rate = pd.DataFrame([bucket_age, bucket_mort, bucket_mort/bucket_age], index = ['age_count', 'mort_hosp', 'mort_rate']).T"
      ],
      "execution_count": 0,
      "outputs": []
    },
    {
      "cell_type": "code",
      "metadata": {
        "id": "eC2fhN3i0K2c",
        "colab_type": "code",
        "colab": {}
      },
      "source": [
        "count_mort_rate"
      ],
      "execution_count": 0,
      "outputs": []
    },
    {
      "cell_type": "code",
      "metadata": {
        "id": "-WYY8GH5zqSs",
        "colab_type": "code",
        "colab": {}
      },
      "source": [
        "count_mort_rate['mort_rate'].plot.bar()"
      ],
      "execution_count": 0,
      "outputs": []
    },
    {
      "cell_type": "markdown",
      "metadata": {
        "id": "xg6nmmJw1OS8",
        "colab_type": "text"
      },
      "source": [
        "The age bucket that has the highest mortality rate is (80, 90] years old. The one with the lowest rate is (10, 20]. This outcome is expected since older people tend to have a higher chance of dying in the hospital. "
      ]
    },
    {
      "cell_type": "markdown",
      "metadata": {
        "id": "V2oaCe92cNUA",
        "colab_type": "text"
      },
      "source": [
        "4.1) For each of the 5 ethnic categorizations provided in adult_icu.gz, how many people belong to each group? Are the hospital mortality rates the same for each group?\n",
        "\n",
        "1. eth_asian:         618; mort_rate : 0.15210355987055016\n",
        "2. eth_black:        2581; mort_rate: 0.15210355987055016\n",
        "3. eth_hispanic:      881; mort_rate: 0.10442678774120318\n",
        "4. eth_other:        3904; mort_rate: 0.1875\n",
        "5. eth_white:       19364; mort_rate: 0.1361805412104937\n",
        "\n",
        "\n",
        "\n",
        "4.2) Create a histogram of the ages in the dataset (in buckets of 10: 20-29, 30-39, etc), and another histogram of mortality rates per bucket. What bucket has the highest mortality? The lowest?\n",
        "\n",
        "4.3) So that your answer doesn't depend on whether you found the best model in #2, retrain a model on the training set using C=1 and penalty='l2'. Evaluate your new model (AUC, accuracy) on patients in the test set who are less than 40, and patients in the test set who are older than 40. For what group is performance better? Can you hypothesize why?"
      ]
    },
    {
      "cell_type": "code",
      "metadata": {
        "id": "9ckE5W572XIt",
        "colab_type": "code",
        "colab": {}
      },
      "source": [
        "new_model = LogisticRegression(solver = 'liblinear', C= 1, penalty='l2')\n",
        "new_model.fit(X_train, y_train)\n",
        "test_u40 = df_test[df_test['real_age'] < 40]\n",
        "test_o40 = df_test[df_test['real_age'] > 40]\n",
        "X_test_u40, y_test_u40 = test_u40[fea_note_df.columns], test_u40['mort_hosp']\n",
        "X_test_o40, y_test_o40 = test_o40[fea_note_df.columns], test_o40['mort_hosp']"
      ],
      "execution_count": 0,
      "outputs": []
    },
    {
      "cell_type": "code",
      "metadata": {
        "id": "Pj-wBI7F4XQh",
        "colab_type": "code",
        "colab": {}
      },
      "source": [
        "print('under 40 accuracy: ', new_model.score(X_test_u40, y_test_u40))\n",
        "print('over 40 accuracy: ', new_model.score(X_test_o40, y_test_o40))"
      ],
      "execution_count": 0,
      "outputs": []
    },
    {
      "cell_type": "markdown",
      "metadata": {
        "id": "J22uCRJV7tXN",
        "colab_type": "text"
      },
      "source": [
        "1. under 40 accuracy:  0.9390243902439024\n",
        "2. over 40 accuracy:  0.8584924623115577\n",
        "\n"
      ]
    },
    {
      "cell_type": "code",
      "metadata": {
        "id": "wIz3GbKw6TO8",
        "colab_type": "code",
        "colab": {}
      },
      "source": [
        "y_score_u40 = new_model.predict_proba(X_test_u40)[:,1]\n",
        "y_score_o40 = new_model.predict_proba(X_test_o40)[:,1]\n",
        "print('under 40 auc: ', roc_auc_score(y_test_u40, y_score_u40))\n",
        "print('over 40 auc: ', roc_auc_score(y_test_o40, y_test_o40))"
      ],
      "execution_count": 0,
      "outputs": []
    },
    {
      "cell_type": "markdown",
      "metadata": {
        "id": "mk1SqEz57myq",
        "colab_type": "text"
      },
      "source": [
        "1. under 40 auc:  0.8644300144300144\n",
        "2. over 40 auc:  1.0\n",
        "\n",
        "\n"
      ]
    }
  ]
}
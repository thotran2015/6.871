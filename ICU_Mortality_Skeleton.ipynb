{
  "nbformat": 4,
  "nbformat_minor": 0,
  "metadata": {
    "colab": {
      "name": "ICU Mortality Skeleton.ipynb",
      "provenance": [],
      "private_outputs": true,
      "toc_visible": true,
      "include_colab_link": true
    },
    "kernelspec": {
      "name": "python3",
      "display_name": "Python 3"
    },
    "accelerator": "GPU"
  },
  "cells": [
    {
      "cell_type": "markdown",
      "metadata": {
        "id": "view-in-github",
        "colab_type": "text"
      },
      "source": [
        "<a href=\"https://colab.research.google.com/github/thotran2015/6.871/blob/master/ICU_Mortality_Skeleton.ipynb\" target=\"_parent\"><img src=\"https://colab.research.google.com/assets/colab-badge.svg\" alt=\"Open In Colab\"/></a>"
      ]
    },
    {
      "cell_type": "code",
      "metadata": {
        "id": "ElpqUAmUvI7w",
        "colab_type": "code",
        "colab": {}
      },
      "source": [
        "from google.colab import auth\n",
        "import pandas as pd\n",
        "from sklearn import preprocessing\n",
        "from sklearn.model_selection import GridSearchCV\n",
        "from sklearn.linear_model import LogisticRegression\n",
        "from sklearn.metrics import roc_auc_score\n",
        "from sklearn.metrics import confusion_matrix\n",
        "from sklearn.feature_extraction.text import CountVectorizer\n",
        "import matplotlib.pyplot as plt\n",
        "import numpy as np"
      ],
      "execution_count": 0,
      "outputs": []
    },
    {
      "cell_type": "markdown",
      "metadata": {
        "id": "PIyJAXiowph8",
        "colab_type": "text"
      },
      "source": [
        "## Loading Data\n"
      ]
    },
    {
      "cell_type": "code",
      "metadata": {
        "id": "Nbm57eDfvNVO",
        "colab_type": "code",
        "colab": {}
      },
      "source": [
        "auth.authenticate_user()"
      ],
      "execution_count": 0,
      "outputs": []
    },
    {
      "cell_type": "markdown",
      "metadata": {
        "id": "_QLGMNMKvwIx",
        "colab_type": "text"
      },
      "source": [
        "#### Lab Data"
      ]
    },
    {
      "cell_type": "code",
      "metadata": {
        "id": "x15yHLWbvOcd",
        "colab_type": "code",
        "colab": {}
      },
      "source": [
        "!gsutil cp gs://hst-956/adult_icu.gz ./\n"
      ],
      "execution_count": 0,
      "outputs": []
    },
    {
      "cell_type": "code",
      "metadata": {
        "id": "6-Lq03V-vhzW",
        "colab_type": "code",
        "colab": {}
      },
      "source": [
        "lab_df = pd.read_csv('adult_icu.gz')"
      ],
      "execution_count": 0,
      "outputs": []
    },
    {
      "cell_type": "markdown",
      "metadata": {
        "id": "4j84nlbOwAYH",
        "colab_type": "text"
      },
      "source": [
        "#### Note Data"
      ]
    },
    {
      "cell_type": "code",
      "metadata": {
        "id": "d6s5t1m_wDMj",
        "colab_type": "code",
        "colab": {}
      },
      "source": [
        "!gsutil cp gs://hst-956/adult_notes.gz ./\n"
      ],
      "execution_count": 0,
      "outputs": []
    },
    {
      "cell_type": "code",
      "metadata": {
        "id": "oiwcD0kJwJkQ",
        "colab_type": "code",
        "colab": {}
      },
      "source": [
        "note_df = pd.read_csv('adult_notes.gz')"
      ],
      "execution_count": 0,
      "outputs": []
    },
    {
      "cell_type": "code",
      "metadata": {
        "id": "vKaQMvjeOam3",
        "colab_type": "code",
        "colab": {}
      },
      "source": [
        "def get_best_model(model, parameters, X_val, y_val):\n",
        "  clf = GridSearchCV(model, parameters)\n",
        "  clf.fit(X_val, y_val)\n",
        "  return clf.best_estimator_"
      ],
      "execution_count": 0,
      "outputs": []
    },
    {
      "cell_type": "markdown",
      "metadata": {
        "id": "RAknECuC8tvw",
        "colab_type": "text"
      },
      "source": [
        "## Question 2\n",
        "\n",
        "Predicting hospital mortality from lab values\n",
        "\n"
      ]
    },
    {
      "cell_type": "code",
      "metadata": {
        "id": "Hz2dCQJL8u3J",
        "colab_type": "code",
        "colab": {}
      },
      "source": [
        "lab_df.head()"
      ],
      "execution_count": 0,
      "outputs": []
    },
    {
      "cell_type": "code",
      "metadata": {
        "id": "htIqJN_hMbEU",
        "colab_type": "code",
        "colab": {}
      },
      "source": [
        "fea_note_df = lab_df.drop(columns=['subject_id',\t'hadm_id','icustay_id', 'mort_hosp', 'mort_icu',\t'mort_oneyr', 'train', 'test', 'valid'])\n",
        "scaled_note_df = pd.DataFrame(preprocessing.scale(fea_note_df), columns = fea_note_df.columns)\n",
        "scaled_note_df[['train', 'test', 'valid', 'mort_hosp','real_age']] = lab_df[['train', 'test', 'valid', 'mort_hosp', 'age']]"
      ],
      "execution_count": 0,
      "outputs": []
    },
    {
      "cell_type": "code",
      "metadata": {
        "id": "wOeyTykdOIKW",
        "colab_type": "code",
        "colab": {}
      },
      "source": [
        "df_train = scaled_note_df[scaled_note_df['train'] ==1]\n",
        "df_test = scaled_note_df[scaled_note_df['test'] ==1]\n",
        "df_val = scaled_note_df[scaled_note_df['valid'] ==1]\n",
        "\n",
        "X_train = df_train[fea_note_df.columns]\n",
        "y_train = df_train['mort_hosp']\n",
        "X_test = df_test[fea_note_df.columns]\n",
        "y_test = df_test['mort_hosp']\n",
        "X_val = df_val[fea_note_df.columns]\n",
        "y_val = df_val['mort_hosp']\n",
        "\n",
        "model = LogisticRegression(solver = 'liblinear')\n",
        "parameters = {'C':[0.1,0.25,0.5,1.], 'penalty':['l1','l2']}"
      ],
      "execution_count": 0,
      "outputs": []
    },
    {
      "cell_type": "code",
      "metadata": {
        "id": "v9CvIlnW5JjX",
        "colab_type": "code",
        "colab": {}
      },
      "source": [
        "df_test.head(2)"
      ],
      "execution_count": 0,
      "outputs": []
    },
    {
      "cell_type": "code",
      "metadata": {
        "id": "7BTj7y9JPpA2",
        "colab_type": "code",
        "colab": {}
      },
      "source": [
        "best_model = get_best_model(model, parameters, X_val, y_val)\n",
        "best_model.fit(X_train, y_train)"
      ],
      "execution_count": 0,
      "outputs": []
    },
    {
      "cell_type": "code",
      "metadata": {
        "id": "P4OgA-NmSMhF",
        "colab_type": "code",
        "colab": {}
      },
      "source": [
        "test_acc = best_model.score(X_test,y_test)\n",
        "print('Test accuracy: ', test_acc)"
      ],
      "execution_count": 0,
      "outputs": []
    },
    {
      "cell_type": "code",
      "metadata": {
        "id": "UBCH8qfrEAgy",
        "colab_type": "code",
        "colab": {}
      },
      "source": [
        "best_model"
      ],
      "execution_count": 0,
      "outputs": []
    },
    {
      "cell_type": "code",
      "metadata": {
        "id": "69Hxn1Z6Srjl",
        "colab_type": "code",
        "colab": {}
      },
      "source": [
        "y_score = best_model.predict_proba(X_test)[:, 1]\n",
        "auc = roc_auc_score(y_test, y_score)\n",
        "print('AUC score: ', auc)"
      ],
      "execution_count": 0,
      "outputs": []
    },
    {
      "cell_type": "code",
      "metadata": {
        "id": "q-paEGPJTOHD",
        "colab_type": "code",
        "colab": {}
      },
      "source": [
        "y_pred = best_model.predict(X_test)\n",
        "print('Confusion Matrix')\n",
        "confusion_matrix(y_test, y_pred)"
      ],
      "execution_count": 0,
      "outputs": []
    },
    {
      "cell_type": "markdown",
      "metadata": {
        "id": "CKO6XIO5lA--",
        "colab_type": "text"
      },
      "source": [
        "##Features and their Weights"
      ]
    },
    {
      "cell_type": "code",
      "metadata": {
        "id": "8h9U3BW8cf9p",
        "colab_type": "code",
        "colab": {}
      },
      "source": [
        "pd.DataFrame({'feature': fea_note_df.columns, 'coef': best_model.coef_[0]}).sort_values(by='coef', ascending = False)"
      ],
      "execution_count": 0,
      "outputs": []
    },
    {
      "cell_type": "markdown",
      "metadata": {
        "id": "OaVfxT6Bb9_Y",
        "colab_type": "text"
      },
      "source": [
        "2.1) What do the columns seem to mean? If we wanted to predict in-hospital mortality, which column would we use as the outcome column? Which columns would be features and which columns would NOT be features?\n",
        "\n",
        "Using sklearn, train a logistic regression classifier on the training data while optimizing for best train accuracy, find the best hyperparameters among C=[0.1,0.25,0.5,1.] and penalty=[‘l1’,’l2’] on validation data. Normalize your feature values to have zero mean and unit variance.\n",
        "\n",
        "2.2) What is the accuracy on test data? What is the AUC? Create a confusion matrix of your predictions against reality. Look at the proportion of patients who died in the hospital, and explain why might one metric be more informative than the other.\n",
        "\n",
        "2.3) What are the most predictive features, based on the the coefficients of the logistic regression? Comment on your findings."
      ]
    },
    {
      "cell_type": "markdown",
      "metadata": {
        "id": "R0u2eZw0_Ov3",
        "colab_type": "text"
      },
      "source": [
        "## Question 3\n",
        "\n",
        "Predicting hospital mortality from clinical notes\n"
      ]
    },
    {
      "cell_type": "code",
      "metadata": {
        "id": "exk56Quh9HqL",
        "colab_type": "code",
        "colab": {}
      },
      "source": [
        "note_df.head()"
      ],
      "execution_count": 0,
      "outputs": []
    },
    {
      "cell_type": "code",
      "metadata": {
        "id": "rJeJUILnUcZ-",
        "colab_type": "code",
        "colab": {}
      },
      "source": [
        "note_train, note_test, note_val = note_df[note_df['train']==1], note_df[note_df['test']==1], note_df[note_df['valid']==1]"
      ],
      "execution_count": 0,
      "outputs": []
    },
    {
      "cell_type": "code",
      "metadata": {
        "id": "mrLqCbknUAZD",
        "colab_type": "code",
        "colab": {}
      },
      "source": [
        "vectorizer = CountVectorizer(max_features= 5000)\n",
        "vectorizer.fit(note_train['chartext'])"
      ],
      "execution_count": 0,
      "outputs": []
    },
    {
      "cell_type": "code",
      "metadata": {
        "id": "cDdjc5WAVB2k",
        "colab_type": "code",
        "colab": {}
      },
      "source": [
        "note_Xtrain, note_ytrain = vectorizer.transform(note_train['chartext']), note_train['mort_hosp']\n",
        "note_Xtest, note_ytest = vectorizer.transform(note_test['chartext']), note_test['mort_hosp']\n",
        "note_Xval, note_yval = vectorizer.transform(note_val['chartext']), note_val['mort_hosp']"
      ],
      "execution_count": 0,
      "outputs": []
    },
    {
      "cell_type": "code",
      "metadata": {
        "id": "7exdmgmTUxFH",
        "colab_type": "code",
        "colab": {}
      },
      "source": [
        "model_note = LogisticRegression(solver = 'liblinear')\n",
        "parameters = {'C':[0.1,0.25,0.5,1.], 'penalty':['l1','l2']}\n",
        "best_model_note= get_best_model(model_note, parameters, note_Xval, note_yval)\n"
      ],
      "execution_count": 0,
      "outputs": []
    },
    {
      "cell_type": "code",
      "metadata": {
        "id": "NzSVvkO5WnzY",
        "colab_type": "code",
        "colab": {}
      },
      "source": [
        "best_model_note.fit(note_Xtrain, note_ytrain)"
      ],
      "execution_count": 0,
      "outputs": []
    },
    {
      "cell_type": "code",
      "metadata": {
        "id": "9Gtiey3AWvBp",
        "colab_type": "code",
        "colab": {}
      },
      "source": [
        "note_test_acc = best_model_note.score(note_Xtest, note_ytest)\n",
        "print('Test accuracy: ', note_test_acc)"
      ],
      "execution_count": 0,
      "outputs": []
    },
    {
      "cell_type": "code",
      "metadata": {
        "id": "RCbV4oh2W0sA",
        "colab_type": "code",
        "colab": {}
      },
      "source": [
        "note_yscore = best_model_note.predict_proba(note_Xtest)[:, 1]\n",
        "note_auc = roc_auc_score(note_ytest, note_yscore)\n",
        "print('AUC score: ', note_auc)"
      ],
      "execution_count": 0,
      "outputs": []
    },
    {
      "cell_type": "code",
      "metadata": {
        "id": "AhOmC1RrW5xl",
        "colab_type": "code",
        "colab": {}
      },
      "source": [
        "note_ypred = best_model_note.predict(note_Xtest)\n",
        "print('Confusion Matrix')\n",
        "confusion_matrix(note_ytest, note_ypred)"
      ],
      "execution_count": 0,
      "outputs": []
    },
    {
      "cell_type": "code",
      "metadata": {
        "id": "r7YkiImCceEB",
        "colab_type": "code",
        "colab": {}
      },
      "source": [
        "words = pd.DataFrame(vectorizer.vocabulary_.items(), columns= ['word', 'index']).set_index('index').sort_values(by='index')\n",
        "words['coef'] = best_model_note.coef_[0]"
      ],
      "execution_count": 0,
      "outputs": []
    },
    {
      "cell_type": "code",
      "metadata": {
        "id": "4doluCzyL5bx",
        "colab_type": "code",
        "colab": {}
      },
      "source": [
        "neg_words = words.sort_values(by='coef')[-10:]"
      ],
      "execution_count": 0,
      "outputs": []
    },
    {
      "cell_type": "code",
      "metadata": {
        "id": "-ze2Ek4JOjMT",
        "colab_type": "code",
        "colab": {}
      },
      "source": [
        "pos_words = words.sort_values(by='coef')[:10]"
      ],
      "execution_count": 0,
      "outputs": []
    },
    {
      "cell_type": "code",
      "metadata": {
        "id": "yGRY8rPEOnLL",
        "colab_type": "code",
        "colab": {}
      },
      "source": [
        "pos_words"
      ],
      "execution_count": 0,
      "outputs": []
    },
    {
      "cell_type": "code",
      "metadata": {
        "id": "bYJPZQT8rsMP",
        "colab_type": "code",
        "colab": {}
      },
      "source": [
        "neg_words"
      ],
      "execution_count": 0,
      "outputs": []
    },
    {
      "cell_type": "code",
      "metadata": {
        "id": "beMJ4pLuir7F",
        "colab_type": "code",
        "colab": {}
      },
      "source": [
        "max_id = words['coef'].idxmax(axis = 0)\n",
        "words.iloc[max_id]"
      ],
      "execution_count": 0,
      "outputs": []
    },
    {
      "cell_type": "markdown",
      "metadata": {
        "id": "fqZRj_0-cZ7b",
        "colab_type": "text"
      },
      "source": [
        "3.1) What is the accuracy and AUC on the test data? How do these results compare to structured data results?\n",
        "\n",
        "3.2) What words are the most predictive (positive and negative) of hospital mortality? Look up any unknown clinical definitions and comment on a few."
      ]
    },
    {
      "cell_type": "markdown",
      "metadata": {
        "id": "htn2ZLmkcA3r",
        "colab_type": "text"
      },
      "source": [
        ""
      ]
    },
    {
      "cell_type": "markdown",
      "metadata": {
        "id": "fhKFPNlIAV-0",
        "colab_type": "text"
      },
      "source": [
        "## Question 4\n",
        "\n",
        "Analysis of data and results"
      ]
    },
    {
      "cell_type": "markdown",
      "metadata": {
        "id": "1oiqq3i4kH4x",
        "colab_type": "text"
      },
      "source": [
        "##Process ethnicity and mortality columns\n"
      ]
    },
    {
      "cell_type": "code",
      "metadata": {
        "id": "DxyN7K3m_Wbp",
        "colab_type": "code",
        "colab": {}
      },
      "source": [
        "mort_eth_df = lab_df[['mort_hosp','eth_asian','eth_black','eth_hispanic',\t'eth_other', 'eth_white']]\n",
        "mort_eth_df.sum()"
      ],
      "execution_count": 0,
      "outputs": []
    },
    {
      "cell_type": "code",
      "metadata": {
        "id": "uUdrdwqXoGc8",
        "colab_type": "code",
        "colab": {}
      },
      "source": [
        "asian = mort_eth_df[mort_eth_df['eth_asian']==1][['mort_hosp', 'eth_asian']].sum()\n",
        "black = mort_eth_df[mort_eth_df['eth_black']==1][['mort_hosp', 'eth_black']].sum()\n",
        "hisp = mort_eth_df[mort_eth_df['eth_hispanic']==1][['mort_hosp', 'eth_hispanic']].sum()\n",
        "other = mort_eth_df[mort_eth_df['eth_other']==1][['mort_hosp', 'eth_other']].sum()\n",
        "white = mort_eth_df[mort_eth_df['eth_white']==1][['mort_hosp', 'eth_white']].sum()"
      ],
      "execution_count": 0,
      "outputs": []
    },
    {
      "cell_type": "markdown",
      "metadata": {
        "id": "qZIZJiTekdOQ",
        "colab_type": "text"
      },
      "source": [
        "## Ethnicity Population, Mortality Rate "
      ]
    },
    {
      "cell_type": "code",
      "metadata": {
        "id": "URyu5oaRpqgi",
        "colab_type": "code",
        "colab": {}
      },
      "source": [
        "[(eth[1], eth[0]/eth[1]) for eth in [asian, black, hisp, other, white]]"
      ],
      "execution_count": 0,
      "outputs": []
    },
    {
      "cell_type": "code",
      "metadata": {
        "id": "ylitdnqutyNv",
        "colab_type": "code",
        "colab": {}
      },
      "source": [
        "lab_df[['age']].plot.hist(bins = 10)"
      ],
      "execution_count": 0,
      "outputs": []
    },
    {
      "cell_type": "code",
      "metadata": {
        "id": "_4kWjhRdzMdG",
        "colab_type": "code",
        "colab": {}
      },
      "source": [
        "bucket_age = lab_df.groupby(pd.cut(lab_df[\"age\"], np.arange(0, 100, 10)))['age'].count()"
      ],
      "execution_count": 0,
      "outputs": []
    },
    {
      "cell_type": "code",
      "metadata": {
        "colab_type": "code",
        "id": "km5hnXp2y2NQ",
        "colab": {}
      },
      "source": [
        "bucket_mort = lab_df.groupby(pd.cut(lab_df[\"age\"], np.arange(0, 100, 10)))['mort_hosp'].sum()"
      ],
      "execution_count": 0,
      "outputs": []
    },
    {
      "cell_type": "code",
      "metadata": {
        "colab_type": "code",
        "id": "ypyuFpX9y0q1",
        "colab": {}
      },
      "source": [
        "count_mort_rate = pd.DataFrame([bucket_age, bucket_mort, bucket_mort/bucket_age], index = ['age_count', 'mort_hosp', 'mort_rate']).T"
      ],
      "execution_count": 0,
      "outputs": []
    },
    {
      "cell_type": "code",
      "metadata": {
        "id": "eC2fhN3i0K2c",
        "colab_type": "code",
        "colab": {}
      },
      "source": [
        "count_mort_rate"
      ],
      "execution_count": 0,
      "outputs": []
    },
    {
      "cell_type": "code",
      "metadata": {
        "id": "-WYY8GH5zqSs",
        "colab_type": "code",
        "colab": {}
      },
      "source": [
        "count_mort_rate['mort_rate'].plot(x = 'age', y ='mort_rate', legend = True, kind= 'bar')"
      ],
      "execution_count": 0,
      "outputs": []
    },
    {
      "cell_type": "markdown",
      "metadata": {
        "id": "Ds0dT-B58Xa1",
        "colab_type": "text"
      },
      "source": [
        "![image.png](data:image/png;base64,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)"
      ]
    },
    {
      "cell_type": "markdown",
      "metadata": {
        "id": "_7Ug2RBJ8VST",
        "colab_type": "text"
      },
      "source": [
        ""
      ]
    },
    {
      "cell_type": "markdown",
      "metadata": {
        "id": "xg6nmmJw1OS8",
        "colab_type": "text"
      },
      "source": [
        "The age bucket that has the highest mortality rate is (80, 90] years old. The one with the lowest rate is (10, 20]. This outcome is expected since older people tend to have a higher chance of dying in the hospital. "
      ]
    },
    {
      "cell_type": "markdown",
      "metadata": {
        "id": "V2oaCe92cNUA",
        "colab_type": "text"
      },
      "source": [
        "4.1) For each of the 5 ethnic categorizations provided in adult_icu.gz, how many people belong to each group? Are the hospital mortality rates the same for each group?\n",
        "\n",
        "1. eth_asian:         618; mort_rate : 0.15210355987055016\n",
        "2. eth_black:        2581; mort_rate: 0.15210355987055016\n",
        "3. eth_hispanic:      881; mort_rate: 0.10442678774120318\n",
        "4. eth_other:        3904; mort_rate: 0.1875\n",
        "5. eth_white:       19364; mort_rate: 0.1361805412104937\n",
        "\n",
        "\n",
        "\n",
        "4.2) Create a histogram of the ages in the dataset (in buckets of 10: 20-29, 30-39, etc), and another histogram of mortality rates per bucket. What bucket has the highest mortality? The lowest?\n",
        "\n",
        "4.3) So that your answer doesn't depend on whether you found the best model in #2, retrain a model on the training set using C=1 and penalty='l2'. Evaluate your new model (AUC, accuracy) on patients in the test set who are less than 40, and patients in the test set who are older than 40. For what group is performance better? Can you hypothesize why?"
      ]
    },
    {
      "cell_type": "code",
      "metadata": {
        "id": "9ckE5W572XIt",
        "colab_type": "code",
        "colab": {}
      },
      "source": [
        "new_model = LogisticRegression(solver = 'liblinear', C= 1, penalty='l2')\n",
        "new_model.fit(X_train, y_train)\n",
        "test_u40 = df_test[df_test['real_age'] < 40]\n",
        "test_o40 = df_test[df_test['real_age'] > 40]\n",
        "X_test_u40, y_test_u40 = test_u40[fea_note_df.columns], test_u40['mort_hosp']\n",
        "X_test_o40, y_test_o40 = test_o40[fea_note_df.columns], test_o40['mort_hosp']"
      ],
      "execution_count": 0,
      "outputs": []
    },
    {
      "cell_type": "code",
      "metadata": {
        "id": "Pj-wBI7F4XQh",
        "colab_type": "code",
        "colab": {}
      },
      "source": [
        "print('under 40 accuracy: ', new_model.score(X_test_u40, y_test_u40))\n",
        "print('over 40 accuracy: ', new_model.score(X_test_o40, y_test_o40))"
      ],
      "execution_count": 0,
      "outputs": []
    },
    {
      "cell_type": "markdown",
      "metadata": {
        "id": "J22uCRJV7tXN",
        "colab_type": "text"
      },
      "source": [
        "1. under 40 accuracy:  0.9390243902439024\n",
        "2. over 40 accuracy:  0.8584924623115577\n",
        "\n"
      ]
    },
    {
      "cell_type": "code",
      "metadata": {
        "id": "wIz3GbKw6TO8",
        "colab_type": "code",
        "colab": {}
      },
      "source": [
        "y_score_u40 = new_model.predict_proba(X_test_u40)[:,1]\n",
        "y_score_o40 = new_model.predict_proba(X_test_o40)[:,1]\n",
        "print('under 40 auc: ', roc_auc_score(y_test_u40, y_score_u40))\n",
        "print('over 40 auc: ', roc_auc_score(y_test_o40, y_test_o40))"
      ],
      "execution_count": 0,
      "outputs": []
    },
    {
      "cell_type": "markdown",
      "metadata": {
        "id": "mk1SqEz57myq",
        "colab_type": "text"
      },
      "source": [
        "1. under 40 auc:  0.8644300144300144\n",
        "2. over 40 auc:  1.0\n",
        "\n",
        "\n"
      ]
    }
  ]
}
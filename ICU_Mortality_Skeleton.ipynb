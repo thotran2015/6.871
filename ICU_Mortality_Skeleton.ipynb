{
  "nbformat": 4,
  "nbformat_minor": 0,
  "metadata": {
    "colab": {
      "name": "ICU Mortality Skeleton.ipynb",
      "provenance": [],
      "private_outputs": true,
      "toc_visible": true,
      "include_colab_link": true
    },
    "kernelspec": {
      "name": "python3",
      "display_name": "Python 3"
    }
  },
  "cells": [
    {
      "cell_type": "markdown",
      "metadata": {
        "id": "view-in-github",
        "colab_type": "text"
      },
      "source": [
        "<a href=\"https://colab.research.google.com/github/thotran2015/6.871/blob/master/ICU_Mortality_Skeleton.ipynb\" target=\"_parent\"><img src=\"https://colab.research.google.com/assets/colab-badge.svg\" alt=\"Open In Colab\"/></a>"
      ]
    },
    {
      "cell_type": "code",
      "metadata": {
        "id": "ElpqUAmUvI7w",
        "colab_type": "code",
        "colab": {}
      },
      "source": [
        "from google.colab import auth\n",
        "import pandas as pd\n",
        "from sklearn import preprocessing"
      ],
      "execution_count": 0,
      "outputs": []
    },
    {
      "cell_type": "markdown",
      "metadata": {
        "id": "PIyJAXiowph8",
        "colab_type": "text"
      },
      "source": [
        "## Loading Data\n"
      ]
    },
    {
      "cell_type": "code",
      "metadata": {
        "id": "Nbm57eDfvNVO",
        "colab_type": "code",
        "colab": {}
      },
      "source": [
        "auth.authenticate_user()"
      ],
      "execution_count": 0,
      "outputs": []
    },
    {
      "cell_type": "markdown",
      "metadata": {
        "id": "_QLGMNMKvwIx",
        "colab_type": "text"
      },
      "source": [
        "#### Lab Data"
      ]
    },
    {
      "cell_type": "code",
      "metadata": {
        "id": "x15yHLWbvOcd",
        "colab_type": "code",
        "colab": {}
      },
      "source": [
        "!gsutil cp gs://hst-956/adult_icu.gz ./\n"
      ],
      "execution_count": 0,
      "outputs": []
    },
    {
      "cell_type": "code",
      "metadata": {
        "id": "6-Lq03V-vhzW",
        "colab_type": "code",
        "colab": {}
      },
      "source": [
        "lab_df = pd.read_csv('adult_icu.gz')"
      ],
      "execution_count": 0,
      "outputs": []
    },
    {
      "cell_type": "markdown",
      "metadata": {
        "id": "4j84nlbOwAYH",
        "colab_type": "text"
      },
      "source": [
        "#### Note Data"
      ]
    },
    {
      "cell_type": "code",
      "metadata": {
        "id": "d6s5t1m_wDMj",
        "colab_type": "code",
        "colab": {}
      },
      "source": [
        "!gsutil cp gs://hst-956/adult_notes.gz ./\n"
      ],
      "execution_count": 0,
      "outputs": []
    },
    {
      "cell_type": "code",
      "metadata": {
        "id": "oiwcD0kJwJkQ",
        "colab_type": "code",
        "colab": {}
      },
      "source": [
        "note_df = pd.read_csv('adult_notes.gz')"
      ],
      "execution_count": 0,
      "outputs": []
    },
    {
      "cell_type": "markdown",
      "metadata": {
        "id": "RAknECuC8tvw",
        "colab_type": "text"
      },
      "source": [
        "## Question 2\n",
        "\n",
        "Predicting hospital mortality from lab values\n",
        "\n"
      ]
    },
    {
      "cell_type": "code",
      "metadata": {
        "id": "Hz2dCQJL8u3J",
        "colab_type": "code",
        "colab": {}
      },
      "source": [
        "lab_df.head()"
      ],
      "execution_count": 0,
      "outputs": []
    },
    {
      "cell_type": "code",
      "metadata": {
        "id": "htIqJN_hMbEU",
        "colab_type": "code",
        "colab": {}
      },
      "source": [
        "fea_df = lab_df.drop(['subject_id',\t'hadm_id','icustay_id', 'mort_hosp',\t'mort_icu',\t'mort_oneyr', 'train', 'test', 'valid'])\n",
        "scaled_df = fea_df"
      ],
      "execution_count": 0,
      "outputs": []
    },
    {
      "cell_type": "markdown",
      "metadata": {
        "id": "R0u2eZw0_Ov3",
        "colab_type": "text"
      },
      "source": [
        "## Question 3\n",
        "\n",
        "Predicting hospital mortality from clinical notes\n"
      ]
    },
    {
      "cell_type": "code",
      "metadata": {
        "id": "exk56Quh9HqL",
        "colab_type": "code",
        "colab": {}
      },
      "source": [
        "note_df.head()"
      ],
      "execution_count": 0,
      "outputs": []
    },
    {
      "cell_type": "markdown",
      "metadata": {
        "id": "fhKFPNlIAV-0",
        "colab_type": "text"
      },
      "source": [
        "## Question 4\n",
        "\n",
        "Analysis of data and results"
      ]
    },
    {
      "cell_type": "code",
      "metadata": {
        "id": "DxyN7K3m_Wbp",
        "colab_type": "code",
        "colab": {}
      },
      "source": [
        ""
      ],
      "execution_count": 0,
      "outputs": []
    }
  ]
}
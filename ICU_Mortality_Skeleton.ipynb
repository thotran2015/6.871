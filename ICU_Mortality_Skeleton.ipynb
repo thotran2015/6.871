{
  "nbformat": 4,
  "nbformat_minor": 0,
  "metadata": {
    "colab": {
      "name": "ICU Mortality Skeleton.ipynb",
      "provenance": [],
      "private_outputs": true,
      "toc_visible": true,
      "include_colab_link": true
    },
    "kernelspec": {
      "name": "python3",
      "display_name": "Python 3"
    }
  },
  "cells": [
    {
      "cell_type": "markdown",
      "metadata": {
        "id": "view-in-github",
        "colab_type": "text"
      },
      "source": [
        "<a href=\"https://colab.research.google.com/github/thotran2015/6.871/blob/master/ICU_Mortality_Skeleton.ipynb\" target=\"_parent\"><img src=\"https://colab.research.google.com/assets/colab-badge.svg\" alt=\"Open In Colab\"/></a>"
      ]
    },
    {
      "cell_type": "code",
      "metadata": {
        "id": "ElpqUAmUvI7w",
        "colab_type": "code",
        "colab": {}
      },
      "source": [
        "from google.colab import auth\n",
        "import pandas as pd\n",
        "from sklearn import preprocessing\n",
        "from sklearn.model_selection import GridSearchCV\n",
        "from sklearn.linear_model import LogisticRegression"
      ],
      "execution_count": 0,
      "outputs": []
    },
    {
      "cell_type": "markdown",
      "metadata": {
        "id": "PIyJAXiowph8",
        "colab_type": "text"
      },
      "source": [
        "## Loading Data\n"
      ]
    },
    {
      "cell_type": "code",
      "metadata": {
        "id": "Nbm57eDfvNVO",
        "colab_type": "code",
        "colab": {}
      },
      "source": [
        "auth.authenticate_user()"
      ],
      "execution_count": 0,
      "outputs": []
    },
    {
      "cell_type": "markdown",
      "metadata": {
        "id": "_QLGMNMKvwIx",
        "colab_type": "text"
      },
      "source": [
        "#### Lab Data"
      ]
    },
    {
      "cell_type": "code",
      "metadata": {
        "id": "x15yHLWbvOcd",
        "colab_type": "code",
        "colab": {}
      },
      "source": [
        "!gsutil cp gs://hst-956/adult_icu.gz ./\n"
      ],
      "execution_count": 0,
      "outputs": []
    },
    {
      "cell_type": "code",
      "metadata": {
        "id": "6-Lq03V-vhzW",
        "colab_type": "code",
        "colab": {}
      },
      "source": [
        "lab_df = pd.read_csv('adult_icu.gz')"
      ],
      "execution_count": 0,
      "outputs": []
    },
    {
      "cell_type": "markdown",
      "metadata": {
        "id": "4j84nlbOwAYH",
        "colab_type": "text"
      },
      "source": [
        "#### Note Data"
      ]
    },
    {
      "cell_type": "code",
      "metadata": {
        "id": "d6s5t1m_wDMj",
        "colab_type": "code",
        "colab": {}
      },
      "source": [
        "!gsutil cp gs://hst-956/adult_notes.gz ./\n"
      ],
      "execution_count": 0,
      "outputs": []
    },
    {
      "cell_type": "code",
      "metadata": {
        "id": "oiwcD0kJwJkQ",
        "colab_type": "code",
        "colab": {}
      },
      "source": [
        "note_df = pd.read_csv('adult_notes.gz')"
      ],
      "execution_count": 0,
      "outputs": []
    },
    {
      "cell_type": "markdown",
      "metadata": {
        "id": "RAknECuC8tvw",
        "colab_type": "text"
      },
      "source": [
        "## Question 2\n",
        "\n",
        "Predicting hospital mortality from lab values\n",
        "\n"
      ]
    },
    {
      "cell_type": "code",
      "metadata": {
        "id": "Hz2dCQJL8u3J",
        "colab_type": "code",
        "colab": {}
      },
      "source": [
        "lab_df.head()"
      ],
      "execution_count": 0,
      "outputs": []
    },
    {
      "cell_type": "code",
      "metadata": {
        "id": "htIqJN_hMbEU",
        "colab_type": "code",
        "colab": {}
      },
      "source": [
        "fea_note_df = lab_df.drop(columns=['subject_id',\t'hadm_id','icustay_id', 'mort_hosp', 'mort_icu',\t'mort_oneyr', 'train', 'test', 'valid'])\n",
        "scaled_note_df = pd.DataFrame(preprocessing.scale(fea_note_df), columns = fea_note_df.columns)\n",
        "scaled_note_df[['train', 'test', 'valid', 'mort_hosp']] = lab_df[['train', 'test', 'valid', 'mort_hosp']]"
      ],
      "execution_count": 0,
      "outputs": []
    },
    {
      "cell_type": "code",
      "metadata": {
        "id": "wOeyTykdOIKW",
        "colab_type": "code",
        "colab": {}
      },
      "source": [
        "df_train = scaled_note_df[scaled_note_df['train'] ==1]\n",
        "df_test = scaled_note_df[scaled_note_df['test'] ==1]\n",
        "df_val = scaled_note_df[scaled_note_df['valid'] ==1]\n",
        "\n",
        "X_train = df_train[fea_note_df.columns]\n",
        "y_train = df_train['mort_hosp']\n",
        "X_test = df_test[fea_note_df.columns]\n",
        "y_test = df_test['mort_hosp']\n",
        "X_val = df_val[fea_note_df.columns]\n",
        "y_val = df_val['mort_hosp']\n",
        "\n",
        "model = LogisticRegression(solver = 'liblinear')\n",
        "parameters = {'C':[0.1,0.25,0.5,1.], 'penalty':['l1','l2']}"
      ],
      "execution_count": 0,
      "outputs": []
    },
    {
      "cell_type": "code",
      "metadata": {
        "id": "vKaQMvjeOam3",
        "colab_type": "code",
        "colab": {}
      },
      "source": [
        "def get_best_model(model, parameters, X_val, y_val):\n",
        "  clf = GridSearchCV(model, parameters)\n",
        "  clf.fit(X_val, y_val)\n",
        "  return clf.best_estimator_"
      ],
      "execution_count": 0,
      "outputs": []
    },
    {
      "cell_type": "code",
      "metadata": {
        "id": "AWUDLnNlRINc",
        "colab_type": "code",
        "colab": {}
      },
      "source": [
        "def train(model, X_train, y_train):\n",
        "  model.fit(X_train, y_train)"
      ],
      "execution_count": 0,
      "outputs": []
    },
    {
      "cell_type": "code",
      "metadata": {
        "id": "7BTj7y9JPpA2",
        "colab_type": "code",
        "colab": {}
      },
      "source": [
        "best_model = get_best_model(model, parameters, X_val, y_val)"
      ],
      "execution_count": 0,
      "outputs": []
    },
    {
      "cell_type": "markdown",
      "metadata": {
        "id": "R0u2eZw0_Ov3",
        "colab_type": "text"
      },
      "source": [
        "## Question 3\n",
        "\n",
        "Predicting hospital mortality from clinical notes\n"
      ]
    },
    {
      "cell_type": "code",
      "metadata": {
        "id": "exk56Quh9HqL",
        "colab_type": "code",
        "colab": {}
      },
      "source": [
        "note_df.head()"
      ],
      "execution_count": 0,
      "outputs": []
    },
    {
      "cell_type": "markdown",
      "metadata": {
        "id": "fhKFPNlIAV-0",
        "colab_type": "text"
      },
      "source": [
        "## Question 4\n",
        "\n",
        "Analysis of data and results"
      ]
    },
    {
      "cell_type": "code",
      "metadata": {
        "id": "DxyN7K3m_Wbp",
        "colab_type": "code",
        "colab": {}
      },
      "source": [
        ""
      ],
      "execution_count": 0,
      "outputs": []
    }
  ]
}
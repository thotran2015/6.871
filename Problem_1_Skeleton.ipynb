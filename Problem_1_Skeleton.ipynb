{
  "nbformat": 4,
  "nbformat_minor": 0,
  "metadata": {
    "colab": {
      "name": "Problem 1 Skeleton.ipynb",
      "provenance": [],
      "private_outputs": true,
      "collapsed_sections": [],
      "include_colab_link": true
    },
    "kernelspec": {
      "name": "python3",
      "display_name": "Python 3"
    },
    "accelerator": "GPU"
  },
  "cells": [
    {
      "cell_type": "markdown",
      "metadata": {
        "id": "view-in-github",
        "colab_type": "text"
      },
      "source": [
        "<a href=\"https://colab.research.google.com/github/thotran2015/6.871/blob/master/Problem_1_Skeleton.ipynb\" target=\"_parent\"><img src=\"https://colab.research.google.com/assets/colab-badge.svg\" alt=\"Open In Colab\"/></a>"
      ]
    },
    {
      "cell_type": "markdown",
      "metadata": {
        "id": "ECneoAWZGkXs",
        "colab_type": "text"
      },
      "source": [
        "The Unified Medical Language System consists of a set of medical vocabularies that are standard for use across many settings. MetaMap  is a useful (although flawed) tool to extract clinical concepts from raw clinical text and map them to UMLS vocabularies. Here we will explore a subset of the MIMIC-III discharge summaries and use the extracted clinical concepts to build relationships between diseases and symptoms.\n",
        "\n"
      ]
    },
    {
      "cell_type": "markdown",
      "metadata": {
        "id": "MovLhFptGrBb",
        "colab_type": "text"
      },
      "source": [
        "# 0. Load Data"
      ]
    },
    {
      "cell_type": "code",
      "metadata": {
        "id": "sBEzAm_FGp8v",
        "colab_type": "code",
        "colab": {}
      },
      "source": [
        "import pandas as pd\n",
        "%matplotlib inline\n",
        "from matplotlib import pyplot as plt\n",
        "\n",
        "import numpy as np\n",
        "import pickle\n",
        "\n",
        "from google.colab import auth"
      ],
      "execution_count": 0,
      "outputs": []
    },
    {
      "cell_type": "markdown",
      "metadata": {
        "id": "QH7089mqG-Q7",
        "colab_type": "text"
      },
      "source": [
        "We have pulled concepts from about ~2k discharge summaries.\n"
      ]
    },
    {
      "cell_type": "code",
      "metadata": {
        "id": "4i6gElzj5Kxp",
        "colab_type": "code",
        "colab": {}
      },
      "source": [
        "auth.authenticate_user()"
      ],
      "execution_count": 0,
      "outputs": []
    },
    {
      "cell_type": "code",
      "metadata": {
        "id": "khpk-ADtGvmk",
        "colab_type": "code",
        "colab": {}
      },
      "source": [
        "!gsutil cp gs://hst-956/pset2/adult_dc_concepts.csv ./\n",
        "!gsutil cp gs://hst-956/pset2/adult_dc_summaries.csv ./\n",
        "!gsutil cp gs://hst-956/pset2/cooccurrence_info.p ./\n",
        "!gsutil cp gs://hst-956/pset2/male_cooccurrence_info.p ./\n",
        "!gsutil cp gs://hst-956/pset2/female_cooccurrence_info.p ./\n",
        "!gsutil cp gs://hst-956/pset2/disease_symptom_names.p ./\n",
        "\n",
        "\n",
        "concepts = pd.read_csv('adult_dc_concepts.csv')\n",
        "discharge = pd.read_csv('adult_dc_summaries.csv')"
      ],
      "execution_count": 0,
      "outputs": []
    },
    {
      "cell_type": "markdown",
      "metadata": {
        "id": "Fkm5CLF0HCX-",
        "colab_type": "text"
      },
      "source": [
        "Because of how we extract clinical concepts, the index from the discharge summaries corresponds to the index column of the clinical concepts.\n",
        "\n"
      ]
    },
    {
      "cell_type": "code",
      "metadata": {
        "id": "sfq6-FSgHGlm",
        "colab_type": "code",
        "colab": {}
      },
      "source": [
        "discharge['index'] = discharge.index\n",
        "df = discharge.merge(concepts, on='index', how='right')"
      ],
      "execution_count": 0,
      "outputs": []
    },
    {
      "cell_type": "markdown",
      "metadata": {
        "id": "Jl7U0yuYHW9H",
        "colab_type": "text"
      },
      "source": [
        "# Part 1: What are clinical concepts? How do they work?"
      ]
    },
    {
      "cell_type": "markdown",
      "metadata": {
        "id": "1Nrzcr9mHbwD",
        "colab_type": "text"
      },
      "source": [
        "We can do some basic statistics for our data.\n"
      ]
    },
    {
      "cell_type": "code",
      "metadata": {
        "id": "_atNQdDvHTUd",
        "colab_type": "code",
        "colab": {}
      },
      "source": [
        "print(len(df['index'].value_counts()), 'discharge summaries')\n",
        "print(len(df), 'extracted concepts')"
      ],
      "execution_count": 0,
      "outputs": []
    },
    {
      "cell_type": "code",
      "metadata": {
        "id": "76wTyQe6Hg_s",
        "colab_type": "code",
        "colab": {}
      },
      "source": [
        "# TODO: 1.1 How many extracted concepts per discharge summary on average?\n",
        "# Plot the histogram of number of concepts per discharge summary.\n",
        "concept_per_discharge = len(df)/len(df['index'].value_counts())\n"
      ],
      "execution_count": 0,
      "outputs": []
    },
    {
      "cell_type": "markdown",
      "metadata": {
        "id": "zM8Jwwtk7AkM",
        "colab_type": "text"
      },
      "source": [
        "Let's take a look at the table we have now.\n",
        "\n"
      ]
    },
    {
      "cell_type": "code",
      "metadata": {
        "id": "cNO_azB-6fh0",
        "colab_type": "code",
        "colab": {}
      },
      "source": [
        "df.head(1)"
      ],
      "execution_count": 0,
      "outputs": []
    },
    {
      "cell_type": "markdown",
      "metadata": {
        "id": "y1QlG_gO7Sa1",
        "colab_type": "text"
      },
      "source": [
        "In particular, we see a few columns of interest:\n",
        "\n",
        "* trigger: the source word(s) from which the clinical concept was extracted\n",
        "* semtypes: group of clinical concept extracted (more info)\n",
        "* preferred_name: explanation of concept in human-readable form\n",
        "* score: UMLS assigned score of extracted concept, larger is more confident\n",
        "* dc_chart: raw discharge summary from which concept was extracted\n",
        "* cui: the concept unique identifier for each extracted concept\n",
        "\n",
        "\n",
        "Let's take a look at the patient with icustay_id = 232593"
      ]
    },
    {
      "cell_type": "code",
      "metadata": {
        "id": "JOHF-GaX7ChU",
        "colab_type": "code",
        "colab": {}
      },
      "source": [
        "print(len(df[(df['icustay_id'] == 232593)]), 'extracted concepts for icustay_id = 232593')"
      ],
      "execution_count": 0,
      "outputs": []
    },
    {
      "cell_type": "code",
      "metadata": {
        "id": "AMxAMMj-7Xqy",
        "colab_type": "code",
        "colab": {}
      },
      "source": [
        "df[df['icustay_id'] == 232593][['trigger', 'semtypes', 'preferred_name','cui']].head()\n"
      ],
      "execution_count": 0,
      "outputs": []
    },
    {
      "cell_type": "markdown",
      "metadata": {
        "id": "5zFeKCG1zeqF",
        "colab_type": "text"
      },
      "source": [
        "If we look above, we can examine the trigger or source word and examine what clinical concepts were extracted. For example, we see in row 4, the clinical concept Saccharomyces cerevisiae or cui = C0036025 is extracted. By looking at the [Semantic Type guide](https://metamap.nlm.nih.gov/Docs/SemanticTypes_2018AB.txt), we see that semtypes=[fngs] meaning this CUI is a fungus.\n",
        "\n"
      ]
    },
    {
      "cell_type": "markdown",
      "metadata": {
        "id": "SS7gxLzv5FC1",
        "colab_type": "text"
      },
      "source": [
        "### Difficulty of Concept Extraction\n",
        "\n",
        "Clinical concept extraction is incredibly difficult due to the ambiguity and diversity of language. We will explore that below."
      ]
    },
    {
      "cell_type": "code",
      "metadata": {
        "id": "9wBnW8K55nlD",
        "colab_type": "code",
        "colab": {}
      },
      "source": [
        "# TODO: 1.2 Give a list of 3 additional words that indicate CUI C0015967 (Fever)\n",
        "# in our dataset.\n",
        "df[df['cui'] == 'C0015967']['trigger'].apply(lambda x : x.split('-')[0].strip('[\"')).unique()"
      ],
      "execution_count": 0,
      "outputs": []
    },
    {
      "cell_type": "markdown",
      "metadata": {
        "id": "fygA97E2gufn",
        "colab_type": "text"
      },
      "source": [
        "Hyperthermia, Increased temperature, temperature elevation, high body temperature, feverish, hyperthermic, Febrile, "
      ]
    },
    {
      "cell_type": "code",
      "metadata": {
        "id": "9F11qP1O6wh9",
        "colab_type": "code",
        "colab": {}
      },
      "source": [
        "# TODO: 1.3 Give a list of at least 3 CUIs that include Cold in \n",
        "# their preferred_name. Why may these be hard to disambiguate?\n",
        "df[df['preferred_name'].str.contains(pat = 'cold', case = False)]['preferred_name'].unique()"
      ],
      "execution_count": 0,
      "outputs": []
    },
    {
      "cell_type": "code",
      "metadata": {
        "id": "dB0tFPo97aJp",
        "colab_type": "code",
        "colab": {}
      },
      "source": [
        "# TODO: 1.4 For icustay_id = 232593, explain what triggered one concept to\n",
        "# include \"Fruit\" in the preferred_name column. \n"
      ],
      "execution_count": 0,
      "outputs": []
    },
    {
      "cell_type": "markdown",
      "metadata": {
        "id": "7Zu5WL135Jaw",
        "colab_type": "text"
      },
      "source": [
        "# 2. Relating Symptoms and Diseases\n",
        "\n",
        "In the first lecture, we discussed how synthesis of a lot of medical knowledge is done manually. The INTERNIST-1/QMR model was a probabilistic model relating 500+ diseases and 4000+ symptoms, but developing it took over 15 person-years of work. Here, you will do a short analysis of symptom-disease co-occurrence based on mentions in notes. \n",
        "\n",
        "#### TODO:\n",
        "  - maybe remove wholesale? Maybe keep, given it is short?\n",
        "  - Use p(disease | symptom) directly? Or p(symptom | disease)?"
      ]
    },
    {
      "cell_type": "code",
      "metadata": {
        "id": "bx1g84iR83yU",
        "colab_type": "code",
        "colab": {}
      },
      "source": [
        "# TODO: 1.5 Which semtype corresponds to a disease and which semtype corresponds to a symptom?\n",
        "# Use the MetaMap documentation to guide you: https://metamap.nlm.nih.gov/Docs/SemanticTypes_2018AB.txt"
      ],
      "execution_count": 0,
      "outputs": []
    },
    {
      "cell_type": "code",
      "metadata": {
        "id": "tF_DSO_U9vfq",
        "colab_type": "code",
        "colab": {}
      },
      "source": [
        "# TODO: 1.6 What are the 5 most frequent diseases and the 5 most frequent \n",
        "# symptoms in the dataset? "
      ],
      "execution_count": 0,
      "outputs": []
    },
    {
      "cell_type": "markdown",
      "metadata": {
        "id": "XJ-5j-0l-08M",
        "colab_type": "text"
      },
      "source": [
        "Some of the diseases/symptoms we've extracted are too general for our use case, or just incorrect, as you learned with the \"Fruit\" example in the previous case. Therefore, we will need to do some data cleaning and ignore some diseases and symptoms. We provide a list of diseases/symptoms that we ignore below. "
      ]
    },
    {
      "cell_type": "code",
      "metadata": {
        "id": "0D8OSoGQ-t22",
        "colab_type": "code",
        "colab": {}
      },
      "source": [
        "## Preferred names of diseases and symptoms to ignore\n",
        "\n",
        "ignore_diseases = ['Disease', # condition of any kind\n",
        "                   'Communicable Diseases', # too broad\n",
        "                    'Infantile Neuroaxonal Dystrophy', # plan\n",
        "                   'SHORT STATURE, ONYCHODYSPLASIA, FACIAL DYSMORPHISM, AND HYPOTRICHOSIS SYNDROME', # soft??\n",
        "                   'SYNOVITIS, GRANULOMATOUS, WITH UVEITIS AND CRANIAL NEUROPATHIES (disorder)', # EOS -> eosinphil\n",
        "                   'Pneumocystis jiroveci pneumonia', # PCP\n",
        "                   'Infantile Neuroaxonal Dystrophy', # plan\n",
        "                   'Ventricular Fibrillation, Paroxysmal Familial, 1', # ivf-> intravenal fluid\n",
        "                   'Nuclear non-senile cataract', # NS??\n",
        "                   'Macrophage Activation Syndrome', # mass\n",
        "                   'MYOTONIC DYSTROPHY 1', # DM\n",
        "                   'MICROCEPHALY, EPILEPSY, AND DIABETES SYNDROME', # MEDS\n",
        "                   'Illness (finding)', # illness\n",
        "                   'Oculocutaneous albinism type 1A', # ATN\n",
        "                   'POLYARTERITIS NODOSA, CHILDHOOD-ONSET', # PAN\n",
        "                  ]\n",
        "\n",
        "ignore_symptoms = ['Discharge, body substance', # discharge date\n",
        "                   'Mass of body region', # \"no masses\"\n",
        "                   'Clubbing', # No clubbing\n",
        "                   'Symptoms', # overly vague\n",
        "                   'Signs and Symptoms', # too vague\n",
        "]"
      ],
      "execution_count": 0,
      "outputs": []
    },
    {
      "cell_type": "markdown",
      "metadata": {
        "id": "r2FmKhMmAGPj",
        "colab_type": "text"
      },
      "source": [
        "## Disease-Symptom Co-occurrence "
      ]
    },
    {
      "cell_type": "markdown",
      "metadata": {
        "id": "nMFMv9QIM2GF",
        "colab_type": "text"
      },
      "source": [
        "We now build a co-occurrence matrix of diseases and symptoms using the function provided below. We provide to you the output of this function as a pickle file since it can take 20-30 minutes to run in Colab. For each of the 2k+ ICU stays, we added a 1 if both the disease and the symptom are mentioned in a note during the stay, and a 0 otherwise. Therefore, each value in the cooccurrence matrix takes on a value between 0 and ~2k. "
      ]
    },
    {
      "cell_type": "code",
      "metadata": {
        "id": "wNIoaBSsnu4N",
        "colab_type": "code",
        "colab": {}
      },
      "source": [
        "# Function for creating a cooccurrence matrix\n",
        "def create_cooccurrence_matrix(df, diseases, symptoms):\n",
        "  cooccur = np.zeros((len(diseases), len(symptoms)))\n",
        "  disease_count = np.zeros((len(diseases)))\n",
        "  symptom_count = np.zeros((len(symptoms)))\n",
        "  stay_ids = df['icustay_id'].unique()\n",
        "  for i, stay in enumerate(stay_ids):\n",
        "      sub_df = df[df['icustay_id'] == stay]\n",
        "      # Update disease counts\n",
        "      for d_idx, d in enumerate(diseases):   \n",
        "          d_in_uid = (d in sub_df['preferred_name'].values)\n",
        "          if d_in_uid:\n",
        "              disease_count[d_idx] += 1\n",
        "      # Update symptom counts\n",
        "      for s_idx, s in enumerate(symptoms):\n",
        "          s_in_uid = (s in sub_df['preferred_name'].values)\n",
        "          if s_in_uid:\n",
        "              symptom_count[s_idx] += 1\n",
        "      # Update combined counts\n",
        "      for d_idx, d in enumerate(diseases):   \n",
        "          d_in_uid = (d in sub_df['preferred_name'].values)\n",
        "          for s_idx, s in enumerate(symptoms):\n",
        "              s_in_uid = (s in sub_df['preferred_name'].values)\n",
        "              if d_in_uid and s_in_uid:\n",
        "                  cooccur[d_idx][s_idx] += 1\n",
        "  return cooccur, disease_count, symptom_count, len(stay_ids)"
      ],
      "execution_count": 0,
      "outputs": []
    },
    {
      "cell_type": "code",
      "metadata": {
        "id": "upgLmj3dNMrz",
        "colab_type": "code",
        "colab": {}
      },
      "source": [
        "# Cooccur is a matrix of (num_diseases, num_symptoms), representing the number of ICU stays where a disease and\n",
        "# a symptom were mentioned\n",
        "# Disease_counts is a list of length num_diseases, equaling the number of ICU stays where the disease was mentioned\n",
        "# Symptom_counts is a list of length nym_symptoms, equaling the number of ICU stays where the symptom was mentioned\n",
        "# N is the number of patients in the cohort\n",
        "cooccur, disease_counts, symptom_counts, N = pickle.load(open('./cooccurrence_info.p', 'rb')) "
      ],
      "execution_count": 0,
      "outputs": []
    },
    {
      "cell_type": "code",
      "metadata": {
        "id": "YttY2F4UQ4Kl",
        "colab_type": "code",
        "colab": {}
      },
      "source": [
        "disease_names, symptom_names = pickle.load(open('disease_symptom_names.p', 'rb'))"
      ],
      "execution_count": 0,
      "outputs": []
    },
    {
      "cell_type": "markdown",
      "metadata": {
        "id": "Orq-2PtuP6pe",
        "colab_type": "text"
      },
      "source": [
        "To quantify how much more often symptoms and disease co-occur together than would be expected by chance, we will use [lift](https://en.wikipedia.org/wiki/Lift_(data_mining)). In other words, for each disease-symptom pair, we calculate $\\frac{P(disease\\&symptom)}{P(disease)P(symptom)}.$ This is obviously purely correlational, but it can still be somewhat informative as to how diseases present. For a more sophisticated approach of quantifying disease-symptom relationships, see the Noisy-OR model in [past work on creating a health knowledge graph](https://www.nature.com/articles/s41598-017-05778-z).\n",
        "\n",
        "\n",
        "\n",
        "\n"
      ]
    },
    {
      "cell_type": "code",
      "metadata": {
        "id": "cspx8FwUNxUM",
        "colab_type": "code",
        "colab": {}
      },
      "source": [
        "# TODO 1.7 Fill in the function below to calculate lift. You should return a \n",
        "# matrix of size (disease_ct, symptom_ct) containing the lift for each pair.\n",
        "# What disease-symptom pair has the highest lift?\n",
        "\n",
        "def calculate_lift(cooccur, disease_ct, symptom_ct, N):\n",
        "  ## TODO: fill in\n",
        "  return None"
      ],
      "execution_count": 0,
      "outputs": []
    },
    {
      "cell_type": "markdown",
      "metadata": {
        "id": "tGHNkY8bh_7r",
        "colab_type": "text"
      },
      "source": [
        "One drawback of hand-crafted disease-symptom models is that they are brittle. They don't necessarily transfer well to new populations or work well on subpopulations, in which disease prevalence and presentation may be different. However, this could be a chance to leverage EHR data computationally to allow for more personalized disease-symptom models.\n",
        "\n",
        "For example, it has been found that men and women often display [different symptoms for heart attacks](https://www.heart.org/en/health-topics/heart-attack/warning-signs-of-a-heart-attack/heart-attack-symptoms-in-women). However, the \"prototypical\" heart attack symptoms are those men suffer from, and as a result, heart attacks in women are often incorrectly diagnosed.  Let us see if we can observe these differences in disease presentation in our data! "
      ]
    },
    {
      "cell_type": "markdown",
      "metadata": {
        "id": "Zxvuo9Mljhsc",
        "colab_type": "text"
      },
      "source": [
        "First, we load occurrences matrices we made separately for men and women.  "
      ]
    },
    {
      "cell_type": "code",
      "metadata": {
        "id": "dXFPK74rjsES",
        "colab_type": "code",
        "colab": {}
      },
      "source": [
        "male_cooccur, male_disease_ct, male_symptom_ct, male_N = pickle.load(open('./male_cooccurrence_info.p', 'rb')) \n",
        "female_cooccur, female_disease_ct, female_symptom_ct, female_N = pickle.load(open('./female_cooccurrence_info.p', 'rb')) "
      ],
      "execution_count": 0,
      "outputs": []
    },
    {
      "cell_type": "code",
      "metadata": {
        "id": "sz_YJKtzj3wo",
        "colab_type": "code",
        "colab": {}
      },
      "source": [
        "#TODO: 1.8 Rerun your lift calculation on the male and female cohorts separately.\n",
        "# Then, look at the lifts between each of the symptoms and heart attack\n",
        "# (denoted Myocardial Infarction in the disease names list). Separately, for both \n",
        "# men and women, list the 5 symptoms with the highest lift. Discuss your findings \n",
        "# in 1-2 sentences, as they relate to the information linked above from the \n",
        "# American Heart Association."
      ],
      "execution_count": 0,
      "outputs": []
    }
  ]
}
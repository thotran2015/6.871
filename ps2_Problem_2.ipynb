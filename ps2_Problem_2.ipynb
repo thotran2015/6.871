{
  "nbformat": 4,
  "nbformat_minor": 0,
  "metadata": {
    "colab": {
      "name": "Problem 2.ipynb",
      "provenance": [],
      "collapsed_sections": [
        "kvKex6ymPBuv",
        "h5JCyk32sqnt",
        "Y4QpEe6lRby9",
        "M9QtfnTJYbkz",
        "R29r-mAIpML2",
        "8yuigGKFV9DG",
        "E638a6_qo4gJ",
        "VTG7ICybrbYx"
      ],
      "machine_shape": "hm",
      "include_colab_link": true
    },
    "kernelspec": {
      "name": "python3",
      "display_name": "Python 3"
    },
    "accelerator": "GPU"
  },
  "cells": [
    {
      "cell_type": "markdown",
      "metadata": {
        "id": "view-in-github",
        "colab_type": "text"
      },
      "source": [
        "<a href=\"https://colab.research.google.com/github/thotran2015/6.871/blob/master/ps2_Problem_2.ipynb\" target=\"_parent\"><img src=\"https://colab.research.google.com/assets/colab-badge.svg\" alt=\"Open In Colab\"/></a>"
      ]
    },
    {
      "cell_type": "markdown",
      "metadata": {
        "id": "loZ-Kj3qPDtb",
        "colab_type": "text"
      },
      "source": [
        "# Problem 2: Clinical NLP for De-identification\n",
        "\n",
        "## Task\n",
        "As outlined in the problem overview, in this problem we will be working with the n2c2 2014 challenge, de-identification track data. This challenge tasks participants to design models to ingest clinical notes and identify regions of Personal Health Information (PHI), so that they can be automatically obfuscated by de-identification systems. For example, if a note said \n",
        "\n",
        "  > Dr. Pompies perscribed Deniz Aslan a daily antibiotic after a visit to The Hospital for Doctoring\n",
        "\n",
        "then the system should flag \"Pompies\", \"Deniz Aslan\" as names for obfuscation, and \"The Hospital for Doctoring\" as the name of a hospital for obfuscation. We work with these labels via a variant of the [IOB2](https://en.wikipedia.org/wiki/Inside%E2%80%93outside%E2%80%93beginning_(tagging)) system, where we tag the _beginnings_ of spans of PHI with a \"B-\" prefixed label (the label suffix indicates what kind of PHI the span is), the _inside_ of spans of PHI with an \"I-\" tag, and all non-PHI tokens (the _outside_ of spans of PHI) with an \"O\" label. This format is commonly used in clinical NER tasks. The labels for our example sentence above would thus be\n",
        "\n",
        "  > O B-DOCTOR O B-PATIENT I-PATIENT O O O O O O O B-HOSPITAL I-HOSPITAL I-HOSPITAL I-HOSPITAL\n",
        "\n",
        "Note that while the data we use in this problem does come from the n2c2 task, for reasons of technical expedience we don't evaluate in a manner consistent with the official challenge evaluation,so your results will not be consistent with published numbers.\n",
        "\n",
        "### Outline\n",
        "In this notebook, first, we'll have some imports and helper functions, then we'll work through some data exploration and baseline methods, followed by methods using recurrent neural networks to acheive better performance.\n",
        "\n",
        "## Import, constants, and helper functions\n",
        "Do not modify this section. Note that after exectuing the first cell, you will need to restart the runtime for the package installations to take effect. Additionally, after you complete this initial restart, make sure you upload the provided data files by clicking on the folder icon on the left, then clicking \"Upload\", then selecting the provided data files. Do not navigate to other folders than the default folder. If you accidentally navigate out to the full file tree, the default folder is `content`.\n"
      ]
    },
    {
      "cell_type": "code",
      "metadata": {
        "id": "qkg3HaRpvjSq",
        "colab_type": "code",
        "colab": {
          "base_uri": "https://localhost:8080/",
          "height": 1000
        },
        "outputId": "5a7b5864-3386-4af4-9071-ff63116b1db5"
      },
      "source": [
        "!pip install --force https://github.com/chengs/tqdm/archive/colab.zip\n",
        "!pip install allennlp\n",
        "\n",
        "import pandas as pd, numpy as np, matplotlib.pyplot as plt\n",
        "\n",
        "from collections import Counter\n",
        "from itertools import chain\n",
        "from scipy.sparse import csr_matrix, hstack\n",
        "from sklearn.linear_model import LogisticRegression\n",
        "from sklearn.metrics import f1_score\n",
        "from sklearn.preprocessing import OneHotEncoder\n",
        "from tqdm import tqdm_notebook as tqdm"
      ],
      "execution_count": 1,
      "outputs": [
        {
          "output_type": "stream",
          "text": [
            "Collecting https://github.com/chengs/tqdm/archive/colab.zip\n",
            "\u001b[?25l  Downloading https://github.com/chengs/tqdm/archive/colab.zip\n",
            "\u001b[K     | 727kB 11.5MB/s\n",
            "\u001b[?25hBuilding wheels for collected packages: tqdm\n",
            "  Building wheel for tqdm (setup.py) ... \u001b[?25l\u001b[?25hdone\n",
            "  Created wheel for tqdm: filename=tqdm-4.28.1-py2.py3-none-any.whl size=47867 sha256=1113994baa732474fc0a82b0029f40dab313fec54867da15cab2e8ff4ea7876d\n",
            "  Stored in directory: /tmp/pip-ephem-wheel-cache-pthbvy6a/wheels/41/18/ee/d5dd158441b27965855b1bbae03fa2d8a91fe645c01b419896\n",
            "Successfully built tqdm\n",
            "Installing collected packages: tqdm\n",
            "  Found existing installation: tqdm 4.28.1\n",
            "    Uninstalling tqdm-4.28.1:\n",
            "      Successfully uninstalled tqdm-4.28.1\n",
            "Successfully installed tqdm-4.28.1\n"
          ],
          "name": "stdout"
        },
        {
          "output_type": "display_data",
          "data": {
            "application/vnd.colab-display-data+json": {
              "pip_warning": {
                "packages": [
                  "tqdm"
                ]
              }
            }
          },
          "metadata": {
            "tags": []
          }
        },
        {
          "output_type": "stream",
          "text": [
            "Collecting allennlp\n",
            "\u001b[?25l  Downloading https://files.pythonhosted.org/packages/bb/bb/041115d8bad1447080e5d1e30097c95e4b66e36074277afce8620a61cee3/allennlp-0.9.0-py3-none-any.whl (7.6MB)\n",
            "\u001b[K     |████████████████████████████████| 7.6MB 4.8MB/s \n",
            "\u001b[?25hRequirement already satisfied: spacy<2.2,>=2.1.0 in /usr/local/lib/python3.6/dist-packages (from allennlp) (2.1.9)\n",
            "Requirement already satisfied: matplotlib>=2.2.3 in /usr/local/lib/python3.6/dist-packages (from allennlp) (3.1.3)\n",
            "Collecting conllu==1.3.1\n",
            "  Downloading https://files.pythonhosted.org/packages/ae/54/b0ae1199f3d01666821b028cd967f7c0ac527ab162af433d3da69242cea2/conllu-1.3.1-py2.py3-none-any.whl\n",
            "Requirement already satisfied: torch>=1.2.0 in /usr/local/lib/python3.6/dist-packages (from allennlp) (1.4.0)\n",
            "Requirement already satisfied: scipy in /usr/local/lib/python3.6/dist-packages (from allennlp) (1.4.1)\n",
            "Collecting parsimonious>=0.8.0\n",
            "\u001b[?25l  Downloading https://files.pythonhosted.org/packages/02/fc/067a3f89869a41009e1a7cdfb14725f8ddd246f30f63c645e8ef8a1c56f4/parsimonious-0.8.1.tar.gz (45kB)\n",
            "\u001b[K     |████████████████████████████████| 51kB 7.8MB/s \n",
            "\u001b[?25hRequirement already satisfied: tqdm>=4.19 in /usr/local/lib/python3.6/dist-packages (from allennlp) (4.28.1)\n",
            "Collecting pytorch-pretrained-bert>=0.6.0\n",
            "\u001b[?25l  Downloading https://files.pythonhosted.org/packages/d7/e0/c08d5553b89973d9a240605b9c12404bcf8227590de62bae27acbcfe076b/pytorch_pretrained_bert-0.6.2-py3-none-any.whl (123kB)\n",
            "\u001b[K     |████████████████████████████████| 133kB 51.6MB/s \n",
            "\u001b[?25hRequirement already satisfied: flask>=1.0.2 in /usr/local/lib/python3.6/dist-packages (from allennlp) (1.1.1)\n",
            "Collecting tensorboardX>=1.2\n",
            "\u001b[?25l  Downloading https://files.pythonhosted.org/packages/35/f1/5843425495765c8c2dd0784a851a93ef204d314fc87bcc2bbb9f662a3ad1/tensorboardX-2.0-py2.py3-none-any.whl (195kB)\n",
            "\u001b[K     |████████████████████████████████| 204kB 51.5MB/s \n",
            "\u001b[?25hRequirement already satisfied: scikit-learn in /usr/local/lib/python3.6/dist-packages (from allennlp) (0.22.1)\n",
            "Requirement already satisfied: pytz>=2017.3 in /usr/local/lib/python3.6/dist-packages (from allennlp) (2018.9)\n",
            "Collecting responses>=0.7\n",
            "  Downloading https://files.pythonhosted.org/packages/a5/52/8063322bd9ee6e7921b74fcb730c6ba983ff995ddfabd966bb689e313464/responses-0.10.12-py2.py3-none-any.whl\n",
            "Collecting ftfy\n",
            "\u001b[?25l  Downloading https://files.pythonhosted.org/packages/ec/d8/5e877ac5e827eaa41a7ea8c0dc1d3042e05d7e337604dc2aedb854e7b500/ftfy-5.7.tar.gz (58kB)\n",
            "\u001b[K     |████████████████████████████████| 61kB 8.6MB/s \n",
            "\u001b[?25hRequirement already satisfied: editdistance in /usr/local/lib/python3.6/dist-packages (from allennlp) (0.5.3)\n",
            "Collecting jsonpickle\n",
            "  Downloading https://files.pythonhosted.org/packages/7e/6b/fbb2d499b96861a18c1641f6fefe775110d3faba65c1524950e9ad64824a/jsonpickle-1.3-py2.py3-none-any.whl\n",
            "Requirement already satisfied: h5py in /usr/local/lib/python3.6/dist-packages (from allennlp) (2.8.0)\n",
            "Collecting word2number>=1.1\n",
            "  Downloading https://files.pythonhosted.org/packages/4a/29/a31940c848521f0725f0df6b25dca8917f13a2025b0e8fcbe5d0457e45e6/word2number-1.1.zip\n",
            "Collecting pytorch-transformers==1.1.0\n",
            "\u001b[?25l  Downloading https://files.pythonhosted.org/packages/50/89/ad0d6bb932d0a51793eaabcf1617a36ff530dc9ab9e38f765a35dc293306/pytorch_transformers-1.1.0-py3-none-any.whl (158kB)\n",
            "\u001b[K     |████████████████████████████████| 163kB 52.0MB/s \n",
            "\u001b[?25hCollecting flask-cors>=3.0.7\n",
            "  Downloading https://files.pythonhosted.org/packages/78/38/e68b11daa5d613e3a91e4bf3da76c94ac9ee0d9cd515af9c1ab80d36f709/Flask_Cors-3.0.8-py2.py3-none-any.whl\n",
            "Requirement already satisfied: nltk in /usr/local/lib/python3.6/dist-packages (from allennlp) (3.2.5)\n",
            "Requirement already satisfied: numpy in /usr/local/lib/python3.6/dist-packages (from allennlp) (1.17.5)\n",
            "Collecting flaky\n",
            "  Downloading https://files.pythonhosted.org/packages/fe/12/0f169abf1aa07c7edef4855cca53703d2e6b7ecbded7829588ac7e7e3424/flaky-3.6.1-py2.py3-none-any.whl\n",
            "Requirement already satisfied: boto3 in /usr/local/lib/python3.6/dist-packages (from allennlp) (1.11.15)\n",
            "Collecting jsonnet>=0.10.0; sys_platform != \"win32\"\n",
            "\u001b[?25l  Downloading https://files.pythonhosted.org/packages/33/b8/a8588d4010f13716a324f55d23999259bad9db2320f4fe919a66b2f651f3/jsonnet-0.15.0.tar.gz (255kB)\n",
            "\u001b[K     |████████████████████████████████| 256kB 51.0MB/s \n",
            "\u001b[?25hCollecting unidecode\n",
            "\u001b[?25l  Downloading https://files.pythonhosted.org/packages/d0/42/d9edfed04228bacea2d824904cae367ee9efd05e6cce7ceaaedd0b0ad964/Unidecode-1.1.1-py2.py3-none-any.whl (238kB)\n",
            "\u001b[K     |████████████████████████████████| 245kB 44.4MB/s \n",
            "\u001b[?25hRequirement already satisfied: gevent>=1.3.6 in /usr/local/lib/python3.6/dist-packages (from allennlp) (1.4.0)\n",
            "Collecting numpydoc>=0.8.0\n",
            "  Downloading https://files.pythonhosted.org/packages/b0/70/4d8c3f9f6783a57ac9cc7a076e5610c0cc4a96af543cafc9247ac307fbfe/numpydoc-0.9.2.tar.gz\n",
            "Requirement already satisfied: sqlparse>=0.2.4 in /usr/local/lib/python3.6/dist-packages (from allennlp) (0.3.0)\n",
            "Requirement already satisfied: requests>=2.18 in /usr/local/lib/python3.6/dist-packages (from allennlp) (2.21.0)\n",
            "Requirement already satisfied: pytest in /usr/local/lib/python3.6/dist-packages (from allennlp) (3.6.4)\n",
            "Collecting overrides\n",
            "  Downloading https://files.pythonhosted.org/packages/72/dd/ac49f9c69540d7e09210415801a05d0a54d4d0ca8401503c46847dacd3a0/overrides-2.8.0.tar.gz\n",
            "Requirement already satisfied: wasabi<1.1.0,>=0.2.0 in /usr/local/lib/python3.6/dist-packages (from spacy<2.2,>=2.1.0->allennlp) (0.6.0)\n",
            "Requirement already satisfied: thinc<7.1.0,>=7.0.8 in /usr/local/lib/python3.6/dist-packages (from spacy<2.2,>=2.1.0->allennlp) (7.0.8)\n",
            "Requirement already satisfied: plac<1.0.0,>=0.9.6 in /usr/local/lib/python3.6/dist-packages (from spacy<2.2,>=2.1.0->allennlp) (0.9.6)\n",
            "Requirement already satisfied: murmurhash<1.1.0,>=0.28.0 in /usr/local/lib/python3.6/dist-packages (from spacy<2.2,>=2.1.0->allennlp) (1.0.2)\n",
            "Requirement already satisfied: srsly<1.1.0,>=0.0.6 in /usr/local/lib/python3.6/dist-packages (from spacy<2.2,>=2.1.0->allennlp) (1.0.1)\n",
            "Requirement already satisfied: cymem<2.1.0,>=2.0.2 in /usr/local/lib/python3.6/dist-packages (from spacy<2.2,>=2.1.0->allennlp) (2.0.3)\n",
            "Requirement already satisfied: blis<0.3.0,>=0.2.2 in /usr/local/lib/python3.6/dist-packages (from spacy<2.2,>=2.1.0->allennlp) (0.2.4)\n",
            "Requirement already satisfied: preshed<2.1.0,>=2.0.1 in /usr/local/lib/python3.6/dist-packages (from spacy<2.2,>=2.1.0->allennlp) (2.0.1)\n",
            "Requirement already satisfied: kiwisolver>=1.0.1 in /usr/local/lib/python3.6/dist-packages (from matplotlib>=2.2.3->allennlp) (1.1.0)\n",
            "Requirement already satisfied: cycler>=0.10 in /usr/local/lib/python3.6/dist-packages (from matplotlib>=2.2.3->allennlp) (0.10.0)\n",
            "Requirement already satisfied: pyparsing!=2.0.4,!=2.1.2,!=2.1.6,>=2.0.1 in /usr/local/lib/python3.6/dist-packages (from matplotlib>=2.2.3->allennlp) (2.4.6)\n",
            "Requirement already satisfied: python-dateutil>=2.1 in /usr/local/lib/python3.6/dist-packages (from matplotlib>=2.2.3->allennlp) (2.6.1)\n",
            "Requirement already satisfied: six>=1.9.0 in /usr/local/lib/python3.6/dist-packages (from parsimonious>=0.8.0->allennlp) (1.12.0)\n",
            "Requirement already satisfied: regex in /usr/local/lib/python3.6/dist-packages (from pytorch-pretrained-bert>=0.6.0->allennlp) (2019.12.20)\n",
            "Requirement already satisfied: itsdangerous>=0.24 in /usr/local/lib/python3.6/dist-packages (from flask>=1.0.2->allennlp) (1.1.0)\n",
            "Requirement already satisfied: Jinja2>=2.10.1 in /usr/local/lib/python3.6/dist-packages (from flask>=1.0.2->allennlp) (2.11.1)\n",
            "Requirement already satisfied: click>=5.1 in /usr/local/lib/python3.6/dist-packages (from flask>=1.0.2->allennlp) (7.0)\n",
            "Requirement already satisfied: Werkzeug>=0.15 in /usr/local/lib/python3.6/dist-packages (from flask>=1.0.2->allennlp) (1.0.0)\n",
            "Requirement already satisfied: protobuf>=3.8.0 in /usr/local/lib/python3.6/dist-packages (from tensorboardX>=1.2->allennlp) (3.10.0)\n",
            "Requirement already satisfied: joblib>=0.11 in /usr/local/lib/python3.6/dist-packages (from scikit-learn->allennlp) (0.14.1)\n",
            "Requirement already satisfied: wcwidth in /usr/local/lib/python3.6/dist-packages (from ftfy->allennlp) (0.1.8)\n",
            "Collecting sentencepiece\n",
            "\u001b[?25l  Downloading https://files.pythonhosted.org/packages/74/f4/2d5214cbf13d06e7cb2c20d84115ca25b53ea76fa1f0ade0e3c9749de214/sentencepiece-0.1.85-cp36-cp36m-manylinux1_x86_64.whl (1.0MB)\n",
            "\u001b[K     |████████████████████████████████| 1.0MB 38.6MB/s \n",
            "\u001b[?25hRequirement already satisfied: jmespath<1.0.0,>=0.7.1 in /usr/local/lib/python3.6/dist-packages (from boto3->allennlp) (0.9.4)\n",
            "Requirement already satisfied: botocore<1.15.0,>=1.14.15 in /usr/local/lib/python3.6/dist-packages (from boto3->allennlp) (1.14.15)\n",
            "Requirement already satisfied: s3transfer<0.4.0,>=0.3.0 in /usr/local/lib/python3.6/dist-packages (from boto3->allennlp) (0.3.3)\n",
            "Requirement already satisfied: greenlet>=0.4.14; platform_python_implementation == \"CPython\" in /usr/local/lib/python3.6/dist-packages (from gevent>=1.3.6->allennlp) (0.4.15)\n",
            "Requirement already satisfied: sphinx>=1.6.5 in /usr/local/lib/python3.6/dist-packages (from numpydoc>=0.8.0->allennlp) (1.8.5)\n",
            "Requirement already satisfied: chardet<3.1.0,>=3.0.2 in /usr/local/lib/python3.6/dist-packages (from requests>=2.18->allennlp) (3.0.4)\n",
            "Requirement already satisfied: certifi>=2017.4.17 in /usr/local/lib/python3.6/dist-packages (from requests>=2.18->allennlp) (2019.11.28)\n",
            "Requirement already satisfied: idna<2.9,>=2.5 in /usr/local/lib/python3.6/dist-packages (from requests>=2.18->allennlp) (2.8)\n",
            "Requirement already satisfied: urllib3<1.25,>=1.21.1 in /usr/local/lib/python3.6/dist-packages (from requests>=2.18->allennlp) (1.24.3)\n",
            "Requirement already satisfied: pluggy<0.8,>=0.5 in /usr/local/lib/python3.6/dist-packages (from pytest->allennlp) (0.7.1)\n",
            "Requirement already satisfied: py>=1.5.0 in /usr/local/lib/python3.6/dist-packages (from pytest->allennlp) (1.8.1)\n",
            "Requirement already satisfied: more-itertools>=4.0.0 in /usr/local/lib/python3.6/dist-packages (from pytest->allennlp) (8.2.0)\n",
            "Requirement already satisfied: atomicwrites>=1.0 in /usr/local/lib/python3.6/dist-packages (from pytest->allennlp) (1.3.0)\n",
            "Requirement already satisfied: setuptools in /usr/local/lib/python3.6/dist-packages (from pytest->allennlp) (45.2.0)\n",
            "Requirement already satisfied: attrs>=17.4.0 in /usr/local/lib/python3.6/dist-packages (from pytest->allennlp) (19.3.0)\n",
            "Requirement already satisfied: MarkupSafe>=0.23 in /usr/local/lib/python3.6/dist-packages (from Jinja2>=2.10.1->flask>=1.0.2->allennlp) (1.1.1)\n",
            "Requirement already satisfied: docutils<0.16,>=0.10 in /usr/local/lib/python3.6/dist-packages (from botocore<1.15.0,>=1.14.15->boto3->allennlp) (0.15.2)\n",
            "Requirement already satisfied: babel!=2.0,>=1.3 in /usr/local/lib/python3.6/dist-packages (from sphinx>=1.6.5->numpydoc>=0.8.0->allennlp) (2.8.0)\n",
            "Requirement already satisfied: sphinxcontrib-websupport in /usr/local/lib/python3.6/dist-packages (from sphinx>=1.6.5->numpydoc>=0.8.0->allennlp) (1.2.0)\n",
            "Requirement already satisfied: snowballstemmer>=1.1 in /usr/local/lib/python3.6/dist-packages (from sphinx>=1.6.5->numpydoc>=0.8.0->allennlp) (2.0.0)\n",
            "Requirement already satisfied: packaging in /usr/local/lib/python3.6/dist-packages (from sphinx>=1.6.5->numpydoc>=0.8.0->allennlp) (20.1)\n",
            "Requirement already satisfied: imagesize in /usr/local/lib/python3.6/dist-packages (from sphinx>=1.6.5->numpydoc>=0.8.0->allennlp) (1.2.0)\n",
            "Requirement already satisfied: Pygments>=2.0 in /usr/local/lib/python3.6/dist-packages (from sphinx>=1.6.5->numpydoc>=0.8.0->allennlp) (2.1.3)\n",
            "Requirement already satisfied: alabaster<0.8,>=0.7 in /usr/local/lib/python3.6/dist-packages (from sphinx>=1.6.5->numpydoc>=0.8.0->allennlp) (0.7.12)\n",
            "Building wheels for collected packages: parsimonious, ftfy, word2number, jsonnet, numpydoc, overrides\n",
            "  Building wheel for parsimonious (setup.py) ... \u001b[?25l\u001b[?25hdone\n",
            "  Created wheel for parsimonious: filename=parsimonious-0.8.1-cp36-none-any.whl size=42712 sha256=f259e70873a25077aebb20880358a42f98f9f3d3bbbf377074f77dc451777e91\n",
            "  Stored in directory: /root/.cache/pip/wheels/b7/8d/e7/a0e74217da5caeb3c1c7689639b6d28ddbf9985b840bc96a9a\n",
            "  Building wheel for ftfy (setup.py) ... \u001b[?25l\u001b[?25hdone\n",
            "  Created wheel for ftfy: filename=ftfy-5.7-cp36-none-any.whl size=44593 sha256=603b322b58811acdd005a41090dbc6dab0b45045a04f06d3be504bbaae047874\n",
            "  Stored in directory: /root/.cache/pip/wheels/8e/da/59/6c8925d571aacade638a0f515960c21c0887af1bfe31908fbf\n",
            "  Building wheel for word2number (setup.py) ... \u001b[?25l\u001b[?25hdone\n",
            "  Created wheel for word2number: filename=word2number-1.1-cp36-none-any.whl size=5587 sha256=9259df7407aec44ad580bea38a0f2f76479499c874c5aa1f965b147f0f8c91fb\n",
            "  Stored in directory: /root/.cache/pip/wheels/46/2f/53/5f5c1d275492f2fce1cdab9a9bb12d49286dead829a4078e0e\n",
            "  Building wheel for jsonnet (setup.py) ... \u001b[?25l\u001b[?25hdone\n",
            "  Created wheel for jsonnet: filename=jsonnet-0.15.0-cp36-cp36m-linux_x86_64.whl size=3320522 sha256=3988a49c9e9a869efc3680c3473ad01ae8dbe3629d0adade83afb812bea94a9b\n",
            "  Stored in directory: /root/.cache/pip/wheels/57/63/2e/da89cfe1ba08550bd7262d5d9c027edc313980c3b85b3b0a38\n",
            "  Building wheel for numpydoc (setup.py) ... \u001b[?25l\u001b[?25hdone\n",
            "  Created wheel for numpydoc: filename=numpydoc-0.9.2-cp36-none-any.whl size=31893 sha256=1453fe191540dc242c3a76779f8412c005a0c640567231a6129a319f2ebc45db\n",
            "  Stored in directory: /root/.cache/pip/wheels/96/f3/52/25c8e1f40637661d27feebc61dae16b84c7cdd93b8bc3d7486\n",
            "  Building wheel for overrides (setup.py) ... \u001b[?25l\u001b[?25hdone\n",
            "  Created wheel for overrides: filename=overrides-2.8.0-cp36-none-any.whl size=5609 sha256=d69399d90a12753a6e7c1bcf48c3abc901bbe67ed8e94dfd59153a69987cfebb\n",
            "  Stored in directory: /root/.cache/pip/wheels/df/f1/ba/eaf6cd7d284d2f257dc71436ce72d25fd3be5a5813a37794ab\n",
            "Successfully built parsimonious ftfy word2number jsonnet numpydoc overrides\n",
            "Installing collected packages: conllu, parsimonious, pytorch-pretrained-bert, tensorboardX, responses, ftfy, jsonpickle, word2number, sentencepiece, pytorch-transformers, flask-cors, flaky, jsonnet, unidecode, numpydoc, overrides, allennlp\n",
            "Successfully installed allennlp-0.9.0 conllu-1.3.1 flaky-3.6.1 flask-cors-3.0.8 ftfy-5.7 jsonnet-0.15.0 jsonpickle-1.3 numpydoc-0.9.2 overrides-2.8.0 parsimonious-0.8.1 pytorch-pretrained-bert-0.6.2 pytorch-transformers-1.1.0 responses-0.10.12 sentencepiece-0.1.85 tensorboardX-2.0 unidecode-1.1.1 word2number-1.1\n"
          ],
          "name": "stdout"
        }
      ]
    },
    {
      "cell_type": "code",
      "metadata": {
        "id": "kDBvUlhW0mby",
        "colab_type": "code",
        "colab": {}
      },
      "source": [
        "RARE_WORDS_THRESHOLD = 4\n",
        "UNK = \" _ UNK _ \"\n",
        "PAD = \" _ PAD _ \"\n",
        "PUNCT = \"PUNCTUATION\"\n",
        "NUM = \"#\""
      ],
      "execution_count": 0,
      "outputs": []
    },
    {
      "cell_type": "code",
      "metadata": {
        "id": "duq4QV0o2Rf1",
        "colab_type": "code",
        "colab": {}
      },
      "source": [
        "def read_dataset_file(filepath):\n",
        "  with open(filepath, mode='r') as f: lines = f.readlines()\n",
        "  out, sentence = [], []\n",
        "  for line in lines:\n",
        "    if not line.strip(): \n",
        "      out.append(sentence)\n",
        "      sentence = []\n",
        "    else: \n",
        "      word, label = line.strip().split()\n",
        "      sentence.append((word, label))\n",
        "  return out\n",
        "\n",
        "train = read_dataset_file('2014_train.tsv')\n",
        "dev = read_dataset_file('2014_dev.tsv')\n",
        "test = read_dataset_file('2014_test.tsv')"
      ],
      "execution_count": 0,
      "outputs": []
    },
    {
      "cell_type": "code",
      "metadata": {
        "id": "GxvoCoeUvVX2",
        "colab_type": "code",
        "colab": {}
      },
      "source": [
        "def ner_eval(\n",
        "    probs, true, label_vocab, metric='Macro F1',\n",
        "):\n",
        "  \"\"\"\n",
        "  Simple, *NON-OFFICIAL* evaluation script. \n",
        "  probs: [ sentence 1: [[probabilities_per_label for word 1], ... ], ...]\n",
        "  true: [ sentence 1: [(word_1, label_1), ...], ...]\n",
        "  label_vocab: [labels in order of elements of probability vectors.]\n",
        "  metric = {'F1', ...}\n",
        "  \"\"\"\n",
        "  label_idxmap = {l: i for i, l in enumerate(label_vocab)}\n",
        "\n",
        "  assert metric == 'Macro F1', \"Metric %s not supported\" % metric\n",
        "\n",
        "  if metric == 'Macro F1':\n",
        "    flat_preds = [probs.argmax() for sent in probs for probs in sent]\n",
        "    flat_true = [label_idxmap[\n",
        "        l if l in label_idxmap else PAD\n",
        "    ] for sent in true for _, l in sent]\n",
        "    score = f1_score(flat_true, flat_preds, average='macro')\n",
        "  \n",
        "  return score"
      ],
      "execution_count": 0,
      "outputs": []
    },
    {
      "cell_type": "markdown",
      "metadata": {
        "id": "kvKex6ymPBuv",
        "colab_type": "text"
      },
      "source": [
        "## Dataset Exploration\n",
        "Now that we've loaded our data, let's take a look at its format.\n",
        "\n",
        "### Examining the Data Directly\n",
        "What can we see here about this data? We can observe both technical properties, about how the data is organized, and conceptual factors, such as the kinds of labels present in the data.\n",
        "\n",
        "#### Technical Factors\n",
        "Let's print some stats about our dataset, like its size, and show some examples to see if we can understand the format."
      ]
    },
    {
      "cell_type": "code",
      "metadata": {
        "id": "JrKHptKXtagb",
        "colab_type": "code",
        "colab": {
          "base_uri": "https://localhost:8080/",
          "height": 139
        },
        "outputId": "7819fcb1-9a17-47c9-ff8b-3a154c6aa5c0"
      },
      "source": [
        "train_len = len(train)\n",
        "dev_len = len(dev)\n",
        "test_len = len(test)\n",
        "\n",
        "train_lens = [len(s) for s in train]\n",
        "dev_lens = [len(s) for s in dev]\n",
        "\n",
        "print(\n",
        "    \"Train contains %d sentences, ranging from %d - %d (avg %d) words long.\"\n",
        "    \"\" % (train_len, min(train_lens), max(train_lens), np.mean(train_lens))\n",
        ")\n",
        "print(\"Train Samples:\")\n",
        "print(train[0])\n",
        "print(train[1])\n",
        "\n",
        "print(\n",
        "    \"Dev contains %d sentences, ranging from %d - %d (avg %d) words long.\"\n",
        "    \"\" % (dev_len, min(dev_lens), max(dev_lens), np.mean(dev_lens))\n",
        ")\n",
        "print(\"Test contains %d sentences.\" % test_len)"
      ],
      "execution_count": 7,
      "outputs": [
        {
          "output_type": "stream",
          "text": [
            "Train contains 46080 sentences, ranging from 1 - 878 (avg 9) words long.\n",
            "Train Samples:\n",
            "[('Record', 'O'), ('date:', 'O'), ('2098-04-01', 'B-DATE')]\n",
            "[('Mr.', 'O'), ('Fredrick', 'B-PATIENT'), ('is', 'O'), ('a', 'O'), ('48', 'B-AGE'), ('-year-old', 'O'), ('man', 'O'), ('status', 'O'), ('post', 'O'), ('right', 'O'), ('middle', 'O'), ('lobectomy', 'O'), ('on', 'O'), ('September', 'B-DATE'), ('24,', 'I-DATE'), ('2096', 'I-DATE'), (',', 'O'), ('for', 'O'), ('T1N0', 'O'), ('carcinoid.', 'O'), ('He', 'O'), ('has', 'O'), ('had', 'O'), ('no', 'O'), ('complaints,', 'O'), ('since', 'O'), ('that', 'O'), ('time,', 'O'), ('and', 'O'), ('denies', 'O'), ('any', 'O'), ('stridor,', 'O'), ('wheezing,', 'O'), ('productive', 'O'), ('cough,', 'O'), ('shortness', 'O'), ('of', 'O'), ('breath,', 'O'), ('hemoptysis', 'O'), ('or', 'O'), ('fever.', 'O'), ('He', 'O'), ('has', 'O'), ('gained', 'O'), ('several', 'O'), ('pounds,', 'O'), ('but', 'O'), ('is', 'O'), ('otherwise', 'O'), ('feeling', 'O'), ('well.', 'O')]\n",
            "Dev contains 4800 sentences, ranging from 1 - 313 (avg 9) words long.\n",
            "Test contains 32586 sentences.\n"
          ],
          "name": "stdout"
        }
      ]
    },
    {
      "cell_type": "markdown",
      "metadata": {
        "id": "h5JCyk32sqnt",
        "colab_type": "text"
      },
      "source": [
        "It appears our data-loaders have loaded the files in such a way that `train` or `dev` contains a list, where each element of the list corresponds to a sentence or line in a clinical note, represented as a list of tuples, each containing first the _word_ at that position in the sentence, followed by the _label_ of that word. Note that the underlying file format we use, if you choose to inspect that, is a common format for use with the BERT model and NER (though we won't use BERT in this assignment).\n",
        "\n",
        "Note the size discrepancy between our dev dataset and test dataset. In general, seeing such a large difference would be cause for concern -- perhaps these were not sampled in an iid manner, but instead obtained from different sources and this explains the delta in size. Here, however, it is merely that the original source data for this task used a 60/40 train-test split, which is abnormally large, and our selected dev set (randomly chosen from the original data) is only a 10% split. See here: https://www.ncbi.nlm.nih.gov/pmc/articles/PMC4989908/ for more details\n",
        "\n",
        "#### Labels present\n",
        "Stripping off the IOB format prefixes (`B-`, `I-`), we see that we have 24 PHI categories, including non-PHI (`O`). Normally, you'd need to investigate the data generative process, or speak to your clinical collaborators to understand the exact meaning of these labels, but in this case, you can refer to the published paper describing this dataset for more information on the meaning of each of these labels: https://www.ncbi.nlm.nih.gov/pmc/articles/PMC4989908/"
      ]
    },
    {
      "cell_type": "code",
      "metadata": {
        "id": "QMq8RfUE4duM",
        "colab_type": "code",
        "colab": {
          "base_uri": "https://localhost:8080/",
          "height": 476
        },
        "outputId": "7d4d4d80-f60a-4db7-e9d6-20df5cf61705"
      },
      "source": [
        "train_labels = set(l for sent in train for w, l in sent)\n",
        "# Note that, in reality, we won't be able to use the labels we add below from\n",
        "# dev in any model decisions if it is to truly simulate a held out test set.\n",
        "dev_labels = set(l for sent in dev for w, l in sent)\n",
        "test_labels = set(l for sent in read_dataset_file('2014_test.tsv') for w, l in sent)\n",
        "\n",
        "print(dev_labels - train_labels)\n",
        "print(test_labels - train_labels)\n",
        "\n",
        "all_labels = train_labels\n",
        "all_labels.update(dev_labels)\n",
        "all_labels.update(test_labels)\n",
        "\n",
        "phi_categories = set(l if l == 'O' else l[2:] for l in all_labels)\n",
        "phi_category_counts = Counter(\n",
        "    (l if l == 'O' else l[2:]) for sent in train for _, l in sent\n",
        ")\n",
        "print(\n",
        "    \"All %d PHI Types: \\n\"\n",
        "    \"%s\"\n",
        "    \"\" % (\n",
        "        len(phi_categories),\n",
        "        '\\n'.join('  %s: %d' % e for e in phi_category_counts.most_common())\n",
        "    )\n",
        ")"
      ],
      "execution_count": 8,
      "outputs": [
        {
          "output_type": "stream",
          "text": [
            "set()\n",
            "{'I-DEVICE'}\n",
            "All 24 PHI Types: \n",
            "  O: 427526\n",
            "  DATE: 7487\n",
            "  DOCTOR: 4463\n",
            "  HOSPITAL: 2272\n",
            "  PATIENT: 1814\n",
            "  AGE: 1115\n",
            "  MEDICALRECORD: 577\n",
            "  STREET: 571\n",
            "  CITY: 416\n",
            "  PROFESSION: 394\n",
            "  PHONE: 336\n",
            "  STATE: 286\n",
            "  IDNUM: 258\n",
            "  USERNAME: 251\n",
            "  ORGANIZATION: 200\n",
            "  ZIP: 183\n",
            "  COUNTRY: 69\n",
            "  LOCATION-OTHER: 8\n",
            "  FAX: 8\n",
            "  DEVICE: 7\n",
            "  URL: 6\n",
            "  EMAIL: 2\n",
            "  HEALTHPLAN: 2\n",
            "  BIOID: 1\n"
          ],
          "name": "stdout"
        }
      ]
    },
    {
      "cell_type": "markdown",
      "metadata": {
        "id": "Y4QpEe6lRby9",
        "colab_type": "text"
      },
      "source": [
        "### Word Frequencies\n",
        "Now, let's examine the words observed"
      ]
    },
    {
      "cell_type": "code",
      "metadata": {
        "id": "sZawHub7vVQl",
        "colab_type": "code",
        "colab": {}
      },
      "source": [
        "words_and_labels = Counter(w_and_l for sent in train for w_and_l in sent)\n",
        "vocab = Counter(w for sent in train for w, l in sent)\n",
        "labels = Counter(l for sent in train for w, l in sent)"
      ],
      "execution_count": 0,
      "outputs": []
    },
    {
      "cell_type": "code",
      "metadata": {
        "id": "wqkJzX0Z0gMa",
        "colab_type": "code",
        "colab": {
          "base_uri": "https://localhost:8080/",
          "height": 68
        },
        "outputId": "9da14c9b-584f-4267-a74c-d63266e20369"
      },
      "source": [
        "rare_words = Counter({w: cnt for w, cnt in vocab.items() if cnt < RARE_WORDS_THRESHOLD})\n",
        "rest_words = Counter({w: cnt for w, cnt in vocab.items() if cnt >= RARE_WORDS_THRESHOLD})\n",
        "\n",
        "rare_words_aggregated = {\n",
        "    l: sum(words_and_labels[(w, l)] for w in rare_words) for l in labels\n",
        "}\n",
        "\n",
        "print(\n",
        "    \"Extracted %d rare words of %d total (%.2f%%)\" % (\n",
        "        len(rare_words), len(vocab), len(rare_words)/len(vocab) * 100\n",
        "    )\n",
        ")\n",
        "print(\"Sample Rare words\", list(rare_words.items())[:5])\n",
        "print(\"Sample Common words\", list(rest_words.items())[:5])"
      ],
      "execution_count": 11,
      "outputs": [
        {
          "output_type": "stream",
          "text": [
            "Extracted 36256 rare words of 48426 total (74.87%)\n",
            "Sample Rare words [('2098-04-01', 1), ('carcinoid.', 3), ('stridor,', 3), ('130/88,', 1), ('89.', 1)]\n",
            "Sample Common words [('Record', 731), ('date:', 710), ('Mr.', 216), ('Fredrick', 7), ('is', 4812)]\n"
          ],
          "name": "stdout"
        }
      ]
    },
    {
      "cell_type": "markdown",
      "metadata": {
        "id": "GlrFlJoKWhxs",
        "colab_type": "text"
      },
      "source": [
        "That's a lot of rare words. This could cause problems in our analysis later, and may indicate issues with our (currently extremely simple) tokenization."
      ]
    },
    {
      "cell_type": "markdown",
      "metadata": {
        "id": "qYGMuxq0vXcX",
        "colab_type": "text"
      },
      "source": [
        "## Baselines\n",
        "### A Simple, Unigram Baseline\n",
        "First, we'll experiment with a simple, per-word baseline. Normally, we might consider making a linear model with a unigram, bag-of-words baseline as our simplest baseline. However, some consideration points out that a linear model with _unigram_ inputs is simply asking the model to assign optimal probabilities to each word indepedently, and these we can compute more efficiently, so we'll do that here as our simplest baseline. All we need to do is count how often each label is assigned to any unique word in our train set (aggregating together all rare words into an \"UNKNOWN\" bucket so we can still predict on unseen words at test time), then normalize by word to get probabilities. Note that if you change the `RARE_WORDS_THRESHOLD` variable, this cell may take a long time to compute, but at the default parameters, should take only seconds."
      ]
    },
    {
      "cell_type": "code",
      "metadata": {
        "id": "xvG0awTvyBTc",
        "colab_type": "code",
        "colab": {
          "base_uri": "https://localhost:8080/",
          "height": 51
        },
        "outputId": "0ec146b6-bbaa-417d-8249-19c30c0215eb"
      },
      "source": [
        "%%time\n",
        "all_data = [(w,l,cnt) for (w,l), cnt in words_and_labels.items() if w in rest_words]\n",
        "for label in labels.keys():\n",
        "  all_data.append((UNK, label, rare_words_aggregated[label]))\n",
        "\n",
        "labeling_rates = pd.DataFrame(all_data, columns = ('word', 'label', 'count'))\n",
        "\n",
        "labeling_rates = labeling_rates.pivot_table(\n",
        "    index='word', columns='label', values='count'\n",
        ")\n",
        "labeling_rates.fillna(0, inplace=True)\n",
        "\n",
        "# Convert counts into per-word probabilities\n",
        "labeling_rates = labeling_rates.div(labeling_rates.sum(axis=1), axis='index')"
      ],
      "execution_count": 12,
      "outputs": [
        {
          "output_type": "stream",
          "text": [
            "CPU times: user 83.3 ms, sys: 12.9 ms, total: 96.2 ms\n",
            "Wall time: 131 ms\n"
          ],
          "name": "stdout"
        }
      ]
    },
    {
      "cell_type": "markdown",
      "metadata": {
        "id": "8W_HYn--Xpqe",
        "colab_type": "text"
      },
      "source": [
        "What does our output look like? A table with word as our index key, and each row giving the probabilities for all label types."
      ]
    },
    {
      "cell_type": "code",
      "metadata": {
        "id": "1kP6y8iqyHW2",
        "colab_type": "code",
        "colab": {
          "base_uri": "https://localhost:8080/",
          "height": 306
        },
        "outputId": "38f72ee9-3c7d-4b64-bfd2-71b708bd9438"
      },
      "source": [
        "labeling_rates.head()"
      ],
      "execution_count": 26,
      "outputs": [
        {
          "output_type": "execute_result",
          "data": {
            "text/html": [
              "<div>\n",
              "<style scoped>\n",
              "    .dataframe tbody tr th:only-of-type {\n",
              "        vertical-align: middle;\n",
              "    }\n",
              "\n",
              "    .dataframe tbody tr th {\n",
              "        vertical-align: top;\n",
              "    }\n",
              "\n",
              "    .dataframe thead th {\n",
              "        text-align: right;\n",
              "    }\n",
              "</style>\n",
              "<table border=\"1\" class=\"dataframe\">\n",
              "  <thead>\n",
              "    <tr style=\"text-align: right;\">\n",
              "      <th>label</th>\n",
              "      <th>B-AGE</th>\n",
              "      <th>B-BIOID</th>\n",
              "      <th>B-CITY</th>\n",
              "      <th>B-COUNTRY</th>\n",
              "      <th>B-DATE</th>\n",
              "      <th>B-DEVICE</th>\n",
              "      <th>B-DOCTOR</th>\n",
              "      <th>B-EMAIL</th>\n",
              "      <th>B-FAX</th>\n",
              "      <th>B-HEALTHPLAN</th>\n",
              "      <th>B-HOSPITAL</th>\n",
              "      <th>B-IDNUM</th>\n",
              "      <th>B-LOCATION-OTHER</th>\n",
              "      <th>B-MEDICALRECORD</th>\n",
              "      <th>B-ORGANIZATION</th>\n",
              "      <th>B-PATIENT</th>\n",
              "      <th>B-PHONE</th>\n",
              "      <th>B-PROFESSION</th>\n",
              "      <th>B-STATE</th>\n",
              "      <th>B-STREET</th>\n",
              "      <th>B-URL</th>\n",
              "      <th>B-USERNAME</th>\n",
              "      <th>B-ZIP</th>\n",
              "      <th>I-AGE</th>\n",
              "      <th>I-CITY</th>\n",
              "      <th>I-COUNTRY</th>\n",
              "      <th>I-DATE</th>\n",
              "      <th>I-DOCTOR</th>\n",
              "      <th>I-FAX</th>\n",
              "      <th>I-HEALTHPLAN</th>\n",
              "      <th>I-HOSPITAL</th>\n",
              "      <th>I-IDNUM</th>\n",
              "      <th>I-LOCATION-OTHER</th>\n",
              "      <th>I-MEDICALRECORD</th>\n",
              "      <th>I-ORGANIZATION</th>\n",
              "      <th>I-PATIENT</th>\n",
              "      <th>I-PHONE</th>\n",
              "      <th>I-PROFESSION</th>\n",
              "      <th>I-STATE</th>\n",
              "      <th>I-STREET</th>\n",
              "      <th>I-URL</th>\n",
              "      <th>O</th>\n",
              "    </tr>\n",
              "    <tr>\n",
              "      <th>word</th>\n",
              "      <th></th>\n",
              "      <th></th>\n",
              "      <th></th>\n",
              "      <th></th>\n",
              "      <th></th>\n",
              "      <th></th>\n",
              "      <th></th>\n",
              "      <th></th>\n",
              "      <th></th>\n",
              "      <th></th>\n",
              "      <th></th>\n",
              "      <th></th>\n",
              "      <th></th>\n",
              "      <th></th>\n",
              "      <th></th>\n",
              "      <th></th>\n",
              "      <th></th>\n",
              "      <th></th>\n",
              "      <th></th>\n",
              "      <th></th>\n",
              "      <th></th>\n",
              "      <th></th>\n",
              "      <th></th>\n",
              "      <th></th>\n",
              "      <th></th>\n",
              "      <th></th>\n",
              "      <th></th>\n",
              "      <th></th>\n",
              "      <th></th>\n",
              "      <th></th>\n",
              "      <th></th>\n",
              "      <th></th>\n",
              "      <th></th>\n",
              "      <th></th>\n",
              "      <th></th>\n",
              "      <th></th>\n",
              "      <th></th>\n",
              "      <th></th>\n",
              "      <th></th>\n",
              "      <th></th>\n",
              "      <th></th>\n",
              "      <th></th>\n",
              "    </tr>\n",
              "  </thead>\n",
              "  <tbody>\n",
              "    <tr>\n",
              "      <th>_ UNK _</th>\n",
              "      <td>0.000177</td>\n",
              "      <td>0.00002</td>\n",
              "      <td>0.00503</td>\n",
              "      <td>0.000963</td>\n",
              "      <td>0.068598</td>\n",
              "      <td>0.000138</td>\n",
              "      <td>0.024385</td>\n",
              "      <td>0.000039</td>\n",
              "      <td>0.000118</td>\n",
              "      <td>0.0</td>\n",
              "      <td>0.011299</td>\n",
              "      <td>0.004618</td>\n",
              "      <td>0.000039</td>\n",
              "      <td>0.007722</td>\n",
              "      <td>0.001533</td>\n",
              "      <td>0.009727</td>\n",
              "      <td>0.005305</td>\n",
              "      <td>0.002653</td>\n",
              "      <td>0.001041</td>\n",
              "      <td>0.001297</td>\n",
              "      <td>0.00002</td>\n",
              "      <td>0.00171</td>\n",
              "      <td>0.002692</td>\n",
              "      <td>0.0</td>\n",
              "      <td>0.000629</td>\n",
              "      <td>0.000118</td>\n",
              "      <td>0.001297</td>\n",
              "      <td>0.017469</td>\n",
              "      <td>0.00002</td>\n",
              "      <td>0.0</td>\n",
              "      <td>0.002947</td>\n",
              "      <td>0.000275</td>\n",
              "      <td>0.000059</td>\n",
              "      <td>0.00002</td>\n",
              "      <td>0.000884</td>\n",
              "      <td>0.003871</td>\n",
              "      <td>0.000747</td>\n",
              "      <td>0.001788</td>\n",
              "      <td>0.000059</td>\n",
              "      <td>0.002731</td>\n",
              "      <td>0.00002</td>\n",
              "      <td>0.817944</td>\n",
              "    </tr>\n",
              "    <tr>\n",
              "      <th>\"</th>\n",
              "      <td>0.000000</td>\n",
              "      <td>0.00000</td>\n",
              "      <td>0.00000</td>\n",
              "      <td>0.000000</td>\n",
              "      <td>0.000000</td>\n",
              "      <td>0.000000</td>\n",
              "      <td>0.000000</td>\n",
              "      <td>0.000000</td>\n",
              "      <td>0.000000</td>\n",
              "      <td>0.0</td>\n",
              "      <td>0.000000</td>\n",
              "      <td>0.000000</td>\n",
              "      <td>0.000000</td>\n",
              "      <td>0.000000</td>\n",
              "      <td>0.000000</td>\n",
              "      <td>0.000000</td>\n",
              "      <td>0.000000</td>\n",
              "      <td>0.000000</td>\n",
              "      <td>0.000000</td>\n",
              "      <td>0.000000</td>\n",
              "      <td>0.00000</td>\n",
              "      <td>0.00000</td>\n",
              "      <td>0.000000</td>\n",
              "      <td>0.0</td>\n",
              "      <td>0.000000</td>\n",
              "      <td>0.000000</td>\n",
              "      <td>0.000000</td>\n",
              "      <td>0.000000</td>\n",
              "      <td>0.00000</td>\n",
              "      <td>0.0</td>\n",
              "      <td>0.000000</td>\n",
              "      <td>0.000000</td>\n",
              "      <td>0.000000</td>\n",
              "      <td>0.00000</td>\n",
              "      <td>0.000000</td>\n",
              "      <td>0.000000</td>\n",
              "      <td>0.000000</td>\n",
              "      <td>0.000000</td>\n",
              "      <td>0.000000</td>\n",
              "      <td>0.000000</td>\n",
              "      <td>0.00000</td>\n",
              "      <td>1.000000</td>\n",
              "    </tr>\n",
              "    <tr>\n",
              "      <th>\"a</th>\n",
              "      <td>0.000000</td>\n",
              "      <td>0.00000</td>\n",
              "      <td>0.00000</td>\n",
              "      <td>0.000000</td>\n",
              "      <td>0.000000</td>\n",
              "      <td>0.000000</td>\n",
              "      <td>0.000000</td>\n",
              "      <td>0.000000</td>\n",
              "      <td>0.000000</td>\n",
              "      <td>0.0</td>\n",
              "      <td>0.000000</td>\n",
              "      <td>0.000000</td>\n",
              "      <td>0.000000</td>\n",
              "      <td>0.000000</td>\n",
              "      <td>0.000000</td>\n",
              "      <td>0.000000</td>\n",
              "      <td>0.000000</td>\n",
              "      <td>0.000000</td>\n",
              "      <td>0.000000</td>\n",
              "      <td>0.000000</td>\n",
              "      <td>0.00000</td>\n",
              "      <td>0.00000</td>\n",
              "      <td>0.000000</td>\n",
              "      <td>0.0</td>\n",
              "      <td>0.000000</td>\n",
              "      <td>0.000000</td>\n",
              "      <td>0.000000</td>\n",
              "      <td>0.000000</td>\n",
              "      <td>0.00000</td>\n",
              "      <td>0.0</td>\n",
              "      <td>0.000000</td>\n",
              "      <td>0.000000</td>\n",
              "      <td>0.000000</td>\n",
              "      <td>0.00000</td>\n",
              "      <td>0.000000</td>\n",
              "      <td>0.000000</td>\n",
              "      <td>0.000000</td>\n",
              "      <td>0.000000</td>\n",
              "      <td>0.000000</td>\n",
              "      <td>0.000000</td>\n",
              "      <td>0.00000</td>\n",
              "      <td>1.000000</td>\n",
              "    </tr>\n",
              "    <tr>\n",
              "      <th>\"chest</th>\n",
              "      <td>0.000000</td>\n",
              "      <td>0.00000</td>\n",
              "      <td>0.00000</td>\n",
              "      <td>0.000000</td>\n",
              "      <td>0.000000</td>\n",
              "      <td>0.000000</td>\n",
              "      <td>0.000000</td>\n",
              "      <td>0.000000</td>\n",
              "      <td>0.000000</td>\n",
              "      <td>0.0</td>\n",
              "      <td>0.000000</td>\n",
              "      <td>0.000000</td>\n",
              "      <td>0.000000</td>\n",
              "      <td>0.000000</td>\n",
              "      <td>0.000000</td>\n",
              "      <td>0.000000</td>\n",
              "      <td>0.000000</td>\n",
              "      <td>0.000000</td>\n",
              "      <td>0.000000</td>\n",
              "      <td>0.000000</td>\n",
              "      <td>0.00000</td>\n",
              "      <td>0.00000</td>\n",
              "      <td>0.000000</td>\n",
              "      <td>0.0</td>\n",
              "      <td>0.000000</td>\n",
              "      <td>0.000000</td>\n",
              "      <td>0.000000</td>\n",
              "      <td>0.000000</td>\n",
              "      <td>0.00000</td>\n",
              "      <td>0.0</td>\n",
              "      <td>0.000000</td>\n",
              "      <td>0.000000</td>\n",
              "      <td>0.000000</td>\n",
              "      <td>0.00000</td>\n",
              "      <td>0.000000</td>\n",
              "      <td>0.000000</td>\n",
              "      <td>0.000000</td>\n",
              "      <td>0.000000</td>\n",
              "      <td>0.000000</td>\n",
              "      <td>0.000000</td>\n",
              "      <td>0.00000</td>\n",
              "      <td>1.000000</td>\n",
              "    </tr>\n",
              "    <tr>\n",
              "      <th>#</th>\n",
              "      <td>0.000000</td>\n",
              "      <td>0.00000</td>\n",
              "      <td>0.00000</td>\n",
              "      <td>0.000000</td>\n",
              "      <td>0.000000</td>\n",
              "      <td>0.000000</td>\n",
              "      <td>0.000000</td>\n",
              "      <td>0.000000</td>\n",
              "      <td>0.000000</td>\n",
              "      <td>0.0</td>\n",
              "      <td>0.000000</td>\n",
              "      <td>0.000000</td>\n",
              "      <td>0.000000</td>\n",
              "      <td>0.000000</td>\n",
              "      <td>0.000000</td>\n",
              "      <td>0.000000</td>\n",
              "      <td>0.000000</td>\n",
              "      <td>0.000000</td>\n",
              "      <td>0.000000</td>\n",
              "      <td>0.000000</td>\n",
              "      <td>0.00000</td>\n",
              "      <td>0.00000</td>\n",
              "      <td>0.000000</td>\n",
              "      <td>0.0</td>\n",
              "      <td>0.000000</td>\n",
              "      <td>0.000000</td>\n",
              "      <td>0.000000</td>\n",
              "      <td>0.000000</td>\n",
              "      <td>0.00000</td>\n",
              "      <td>0.0</td>\n",
              "      <td>0.000000</td>\n",
              "      <td>0.000000</td>\n",
              "      <td>0.000000</td>\n",
              "      <td>0.00000</td>\n",
              "      <td>0.000000</td>\n",
              "      <td>0.000000</td>\n",
              "      <td>0.000000</td>\n",
              "      <td>0.000000</td>\n",
              "      <td>0.000000</td>\n",
              "      <td>0.000000</td>\n",
              "      <td>0.00000</td>\n",
              "      <td>1.000000</td>\n",
              "    </tr>\n",
              "  </tbody>\n",
              "</table>\n",
              "</div>"
            ],
            "text/plain": [
              "label         B-AGE  B-BIOID   B-CITY  ...  I-STREET    I-URL         O\n",
              "word                                   ...                             \n",
              " _ UNK _   0.000177  0.00002  0.00503  ...  0.002731  0.00002  0.817944\n",
              "\"          0.000000  0.00000  0.00000  ...  0.000000  0.00000  1.000000\n",
              "\"a         0.000000  0.00000  0.00000  ...  0.000000  0.00000  1.000000\n",
              "\"chest     0.000000  0.00000  0.00000  ...  0.000000  0.00000  1.000000\n",
              "#          0.000000  0.00000  0.00000  ...  0.000000  0.00000  1.000000\n",
              "\n",
              "[5 rows x 42 columns]"
            ]
          },
          "metadata": {
            "tags": []
          },
          "execution_count": 26
        }
      ]
    },
    {
      "cell_type": "markdown",
      "metadata": {
        "id": "ocGG2IFnWfCB",
        "colab_type": "text"
      },
      "source": [
        "We see that many words are _never_ seen to be any of our \"PHI\" labels here (B-\\*, I-\\*). However, the block in which we've aggregated rare words shows pretty diverse labels, as shown in the plot below."
      ]
    },
    {
      "cell_type": "code",
      "metadata": {
        "id": "YQz1Vbl2z8H8",
        "colab_type": "code",
        "colab": {
          "base_uri": "https://localhost:8080/",
          "height": 518
        },
        "outputId": "282cf181-47cc-4496-bb29-820a2f14e9e0"
      },
      "source": [
        "fig, ax = plt.subplots(figsize=(7, 7))\n",
        "data = labeling_rates.loc[UNK].sort_values()\n",
        "ax.bar(data.index, data.values)\n",
        "ax.tick_params(rotation=90, axis='x')"
      ],
      "execution_count": 27,
      "outputs": [
        {
          "output_type": "display_data",
          "data": {
            "image/png": "[encoded data removed]",
            "text/plain": [
              "<Figure size 504x504 with 1 Axes>"
            ]
          },
          "metadata": {
            "tags": []
          }
        }
      ]
    },
    {
      "cell_type": "markdown",
      "metadata": {
        "id": "w3oQ6668ZTFE",
        "colab_type": "text"
      },
      "source": [
        "Now we can make some actual predictions on the validation dataset and evaluate via our per-word macro F1 metric:"
      ]
    },
    {
      "cell_type": "code",
      "metadata": {
        "id": "gviqyIFUvVaU",
        "colab_type": "code",
        "colab": {
          "base_uri": "https://localhost:8080/",
          "height": 68
        },
        "outputId": "a4a3fefa-c3d9-4828-c36d-fd9bd5de73ff"
      },
      "source": [
        "%%time\n",
        "dev_probs = []\n",
        "for sent in dev:\n",
        "  sent_probs = []\n",
        "  for w, _ in sent:\n",
        "    w = w if w in rest_words else UNK\n",
        "    probabilities = labeling_rates.loc[w]\n",
        "    sent_probs.append(probabilities.values)\n",
        "  dev_probs.append(sent_probs)\n",
        "\n",
        "unigram_dev_F1 = ner_eval(dev_probs, dev, list(labeling_rates.columns) + [PAD])\n",
        "print(\"We obtain a Dev F1 of %.2f\" % unigram_dev_F1)"
      ],
      "execution_count": 28,
      "outputs": [
        {
          "output_type": "stream",
          "text": [
            "We obtain a Dev F1 of 0.17\n",
            "CPU times: user 7.16 s, sys: 13.3 ms, total: 7.17 s\n",
            "Wall time: 7.17 s\n"
          ],
          "name": "stdout"
        }
      ]
    },
    {
      "cell_type": "markdown",
      "metadata": {
        "id": "M9QtfnTJYbkz",
        "colab_type": "text"
      },
      "source": [
        "### An Improved Baseline\n",
        "As far as Macro-F1s go, this isn't great. Note that this isn't a comparable metric to the true SOTA for this task, which uses an exact F1 measure comparing predicted spans, as opposed to our crude, per-word metric here. But still, we can do better.\n",
        "\n",
        "We'll now work through a more involved baseline, which will incorporate 3 primary changes:\n",
        "  1. An improved tokenization of the data.\n",
        "  2. An n-gram model incorporating context words.\n",
        "  3. Additional syntactic features capturing punctuation/stylistic signals that may be indicative of PHI\n",
        "\n",
        "  Note that there are other changes possible that may also yield a much more competitive baseline. Ultimately, your goal in this part of this problem will be to analyze both of these baselines, understand what changes drive the performance discrepancy between them, and how various other settings will affect final performance.\n",
        "\n",
        "#### Re-tokenization\n",
        "Here, we'll write our own tokenizer, though in practice, there are numerous libraries that one _should_ use instead. [spaCy](https://spacy.io/) is a common goto, though for simple baselines, [`scikit-learn`'s Vectorizers](https://scikit-learn.org/stable/modules/classes.html#module-sklearn.feature_extraction.text) have most of the features we include in our tokenizer, plus some extras (stop word removal). We write our own here for 3 reasons:\n",
        "  1. spaCy is heavy, and requires downloading language resource packs, which seemed an unnecessary complication for a homework.\n",
        "  2. `scikit-learn`'s vectorizers are better suited to whole-document or whole-sentence classification, rather than NER, as we do here.\n",
        "  3. We'll use this improved tokenization for our neural network model below as well."
      ]
    },
    {
      "cell_type": "code",
      "metadata": {
        "id": "SnbijHpTvVct",
        "colab_type": "code",
        "colab": {}
      },
      "source": [
        "from enum import Enum, auto\n",
        "import copy, string, re, unidecode\n",
        "\n",
        "class AuxiliaryFeatures(Enum):\n",
        "  ENDS_IN_COLON = auto()\n",
        "  IS_CAPITALIZED = auto()\n",
        "  ALL_CAPITALIZED = auto()\n",
        "\n",
        "class Tokenizer():\n",
        "  FEATURE_INDICATORS = {\n",
        "    AuxiliaryFeatures.ENDS_IN_COLON: lambda w: w[-1] == ':',\n",
        "    AuxiliaryFeatures.IS_CAPITALIZED: lambda w: w[0].isupper(),\n",
        "    AuxiliaryFeatures.ALL_CAPITALIZED: lambda w: w.isupper(),\n",
        "  }\n",
        "\n",
        "  def __init__(\n",
        "      self, rare_words_thresh=RARE_WORDS_THRESHOLD,\n",
        "      lowercase=True,\n",
        "      remove_punct=True,\n",
        "      replace_only_punct=PUNCT,\n",
        "      remove_empty_words=True,\n",
        "      replace_numbers=NUM,\n",
        "      auxiliary_features=[\n",
        "        AuxiliaryFeatures.ENDS_IN_COLON, AuxiliaryFeatures.IS_CAPITALIZED\n",
        "      ],\n",
        "      add_pad_label=True,\n",
        "      add_pad_token=True,\n",
        "  ):\n",
        "    self.rare_words_thresh  = rare_words_thresh\n",
        "    self.auxiliary_features = set(auxiliary_features)\n",
        "    self.is_fit = False\n",
        "\n",
        "    self.lowercase          = lowercase\n",
        "    \n",
        "    if remove_punct == True: remove_punct = string.punctuation\n",
        "    self.remove_punct       = remove_punct\n",
        "    self.replace_only_punct = replace_only_punct\n",
        "    self.replace_numbers    = replace_numbers\n",
        "    self.remove_empty_words = remove_empty_words\n",
        "    self.add_pad_label      = add_pad_label\n",
        "    self.add_pad_token      = add_pad_token\n",
        "\n",
        "  def __normalize_dataset(self, dataset):\n",
        "    norm_dataset = []\n",
        "    removed_non_Os = {}\n",
        "    for sent in dataset:\n",
        "      norm_sent = []\n",
        "      for w_orig, l in sent:\n",
        "        w = unidecode.unidecode(w_orig).strip()\n",
        "        if self.lowercase: w = w.lower()\n",
        "        if self.remove_punct:\n",
        "          w = w.translate(str.maketrans('', '', self.remove_punct))\n",
        "          if w_orig and not w and self.replace_only_punct:\n",
        "            w = self.replace_only_punct\n",
        "        if self.replace_numbers:\n",
        "          # This must happen after remove punctuation.\n",
        "          w = re.sub(r'\\d+', NUM, w)\n",
        "\n",
        "        w = w.strip()\n",
        "\n",
        "        if w or (not self.remove_empty_words):\n",
        "          token_feats = []\n",
        "          for aux in self.auxiliary_features:\n",
        "            token_feats.append(float(Tokenizer.FEATURE_INDICATORS[aux](w_orig)))\n",
        "          norm_sent.append(((w, tuple(token_feats)), l))\n",
        "        else:\n",
        "          if l != 'O':\n",
        "            if w_orig not in removed_non_Os:\n",
        "              removed_non_Os[w_orig] = 1\n",
        "              print(\"WARNING: Removing non-'O' token: \\\"%s\\\"!\" % w_orig)\n",
        "            else: removed_non_Os[w_orig] += 1\n",
        "      norm_dataset.append(norm_sent)\n",
        "    return norm_dataset\n",
        "\n",
        "  def __build_vocabs(self, dataset):\n",
        "    # Labels:\n",
        "    self.labels = Counter(l for sent in dataset for w, l in sent)\n",
        "    self.labels_list = [l for l, _ in self.labels.most_common()]\n",
        "    if self.add_pad_label: self.labels_list.append(PAD)\n",
        "\n",
        "    self.labels_idxmap = {l: i for i, l in enumerate(self.labels_list)}\n",
        "    self.num_classes = len(self.labels_list)\n",
        "\n",
        "    # Word Level Vocabs:\n",
        "    # What's our raw, unfiltered vocabulary? Here we just grab the words\n",
        "    # themselves, no auxiliary features.\n",
        "    self.raw_vocab = Counter(w[0] for sent in dataset for w, l in sent)\n",
        "\n",
        "    # Filter out the rare words:\n",
        "    self.rare_words = set(\n",
        "        w for w, cnt in self.raw_vocab.items() if cnt < self.rare_words_thresh\n",
        "    )\n",
        "    self.seen_words = set(\n",
        "        w for w in self.raw_vocab if w not in self.rare_words\n",
        "    )\n",
        "    self.vocab = Counter(\n",
        "        {w: cnt for w, cnt in self.raw_vocab.items() if w in self.seen_words}\n",
        "    )\n",
        "    self.vocab[UNK] = sum(self.raw_vocab[w] for w in self.rare_words)\n",
        "\n",
        "    # Make our idxmaps, for quickly mapping from a word to its numerical index.\n",
        "    self.vocab_list = [w for w, _ in self.vocab.most_common()]\n",
        "    if self.add_pad_token:\n",
        "      self.vocab_list = [PAD] + self.vocab_list\n",
        "      self.vocab[PAD] = 0\n",
        "\n",
        "    self.vocab_idxmap = {w: i for i, w in enumerate(self.vocab_list)}\n",
        "\n",
        "    self.vocab_size = len(self.vocab_list)\n",
        "\n",
        "    # Character Level Vocab:\n",
        "    self.chars = Counter(c for w in self.raw_vocab.keys() for c in w)\n",
        "    self.chars_list = [PAD, UNK] + [c for c, _ in self.chars.most_common()]\n",
        "    self.chars_idxmap = {c: i for i, c in enumerate(self.chars_list)}\n",
        "    self.chars_vocab_size = len(self.chars_list)\n",
        "\n",
        "  def fit(self, dataset):\n",
        "    # transformed_dataset\n",
        "    normalized_dataset = self.__normalize_dataset(copy.copy(dataset))\n",
        "    self.__build_vocabs(normalized_dataset)\n",
        "    self.is_fit = True\n",
        "\n",
        "  def transform(self, dataset, as_index=True):\n",
        "    \"\"\"\n",
        "    dataset is [ (sentence: [(word, label), ...]), ...]\n",
        "    \"\"\"\n",
        "    assert self.is_fit, \"Can't transform without being fit on train data!\"\n",
        "\n",
        "    normalized_dataset = self.__normalize_dataset(copy.copy(dataset))\n",
        "    if not as_index: return normalized_dataset\n",
        "\n",
        "    indexed_dataset = []\n",
        "    for sent in normalized_dataset:\n",
        "      indexed_sent = []\n",
        "      for w, l in sent:\n",
        "        w_idx = self.vocab_idxmap[w[0] if w[0] in self.vocab else UNK]\n",
        "        indexed_sent.append((tuple([w_idx] + list(w[1:])), l))\n",
        "      indexed_dataset.append(indexed_sent)\n",
        "    \n",
        "    return indexed_dataset"
      ],
      "execution_count": 0,
      "outputs": []
    },
    {
      "cell_type": "code",
      "metadata": {
        "id": "mx7YwONHlapT",
        "colab_type": "code",
        "colab": {
          "base_uri": "https://localhost:8080/",
          "height": 224
        },
        "outputId": "9d0b0e17-77ba-4bd1-b787-55353d45963e"
      },
      "source": [
        "tokenizer = Tokenizer(rare_words_thresh=10)\n",
        "tokenizer.fit(train)\n",
        "\n",
        "train_tokenized_no_index = tokenizer.transform(train, as_index=False)\n",
        "train_tokenized_index = tokenizer.transform(train, as_index=True)\n",
        "for sent_num in range(2):\n",
        "  print(\"Original (%d)\" % sent_num, train[sent_num][:15], \"...\")\n",
        "  print(\"New (non-indexified)\", train_tokenized_no_index[sent_num][:15], \"...\")\n",
        "  print(\"New (indexified)\", train_tokenized_index[sent_num][:15], \"...\")\n",
        "  print(\"\\n\")\n",
        "\n",
        "print(\n",
        "    \"The new tokenizer contains %d tokens (omitting %d rare):\" % (\n",
        "        tokenizer.vocab_size, len(tokenizer.rare_words)\n",
        "    ),\n",
        "    tokenizer.vocab_list[:25]\n",
        ")"
      ],
      "execution_count": 17,
      "outputs": [
        {
          "output_type": "stream",
          "text": [
            "Original (0) [('Record', 'O'), ('date:', 'O'), ('2098-04-01', 'B-DATE')] ...\n",
            "New (non-indexified) [(('record', (0.0, 1.0)), 'O'), (('date', (1.0, 0.0)), 'O'), (('#', (0.0, 0.0)), 'B-DATE')] ...\n",
            "New (indexified) [((59, (0.0, 1.0)), 'O'), ((41, (1.0, 0.0)), 'O'), ((2, (0.0, 0.0)), 'B-DATE')] ...\n",
            "\n",
            "\n",
            "Original (1) [('Mr.', 'O'), ('Fredrick', 'B-PATIENT'), ('is', 'O'), ('a', 'O'), ('48', 'B-AGE'), ('-year-old', 'O'), ('man', 'O'), ('status', 'O'), ('post', 'O'), ('right', 'O'), ('middle', 'O'), ('lobectomy', 'O'), ('on', 'O'), ('September', 'B-DATE'), ('24,', 'I-DATE')] ...\n",
            "New (non-indexified) [(('mr', (0.0, 1.0)), 'O'), (('fredrick', (0.0, 1.0)), 'B-PATIENT'), (('is', (0.0, 0.0)), 'O'), (('a', (0.0, 0.0)), 'O'), (('#', (0.0, 0.0)), 'B-AGE'), (('yearold', (0.0, 0.0)), 'O'), (('man', (0.0, 0.0)), 'O'), (('status', (0.0, 0.0)), 'O'), (('post', (0.0, 0.0)), 'O'), (('right', (0.0, 0.0)), 'O'), (('middle', (0.0, 0.0)), 'O'), (('lobectomy', (0.0, 0.0)), 'O'), (('on', (0.0, 0.0)), 'O'), (('september', (0.0, 1.0)), 'B-DATE'), (('#', (0.0, 0.0)), 'I-DATE')] ...\n",
            "New (indexified) [((168, (0.0, 1.0)), 'O'), ((1, (0.0, 1.0)), 'B-PATIENT'), ((11, (0.0, 0.0)), 'O'), ((12, (0.0, 0.0)), 'O'), ((2, (0.0, 0.0)), 'B-AGE'), ((236, (0.0, 0.0)), 'O'), ((434, (0.0, 0.0)), 'O'), ((129, (0.0, 0.0)), 'O'), ((295, (0.0, 0.0)), 'O'), ((58, (0.0, 0.0)), 'O'), ((2600, (0.0, 0.0)), 'O'), ((3239, (0.0, 0.0)), 'O'), ((16, (0.0, 0.0)), 'O'), ((1457, (0.0, 1.0)), 'B-DATE'), ((2, (0.0, 0.0)), 'I-DATE')] ...\n",
            "\n",
            "\n",
            "The new tokenizer contains 3924 tokens (omitting 15570 rare): [' _ PAD _ ', ' _ UNK _ ', '#', 'and', 'PUNCTUATION', 'the', 'of', 'to', 'no', 'in', 'with', 'is', 'a', 'for', 'he', 'she', 'on', 'was', 'has', 'her', 'mg', 'po', 'his', 'or', 'at']\n"
          ],
          "name": "stdout"
        }
      ]
    },
    {
      "cell_type": "code",
      "metadata": {
        "id": "0atHW5MOHL-G",
        "colab_type": "code",
        "colab": {
          "base_uri": "https://localhost:8080/",
          "height": 54
        },
        "outputId": "dcb2ae58-1952-495e-d7c6-7e31dedd0f98"
      },
      "source": [
        "#tokenizer.vocab_idxmap.keys()"
      ],
      "execution_count": 33,
      "outputs": [
        {
          "output_type": "execute_result",
          "data": {
            "text/plain": [
              "dict_keys([' _ PAD _ ', ' _ UNK _ ', '#', 'and', 'PUNCTUATION', 'the', 'of', 'to', 'no', 'in', 'with', 'is', 'a', 'for', 'he', 'she', 'on', 'was', 'has', 'her', 'mg', 'po', 'his', 'or', 'at', 'history', 'qd', 'patient', 'not', '#mg', 'pain', 'as', 'that', 'this', 'had', 'will', 'by', 'chest', 'normal', 'i', 'but', 'date', 'have', 'bid', 'dr', 'left', 'are', 'be', 'well', 'md', 'take', 'been', 'negative', 'an', 'from', 'blood', 'pt', 'there', 'right', 'record', 'which', 'exam', 'past', 'l', 'disease', 'medications', 'edema', 'diabetes', 'today', 'cardiac', 's#', 'denies', 'it', 'any', 'daily', 'without', 'also', 'medical', 'clear', 'tablets', 'we', 'physical', 'time', 'pressure', 'last', 'tablet', 'sp', 'up', 'x', 'neck', 'note', 'some', 'bp', 'visit', 'if', 'who', 'symptoms', 'htn', 'days', 'now', 'weight', 'plan', 'does', 'dm', 'after', 'heart', 'h', 'per', 'hypertension', 'day', 'continue', 'examination', 'family', 'see', 'given', 'prn', 'w', 'were', 'insulin', 'recent', 'soft', 'renal', 'allergies', 'regular', 'since', 'neg', 'admission', 'home', 'ago', 'status', 'changes', 'hospital', 'mild', 'artery', 'rate', 'check', 'r', 'other', 'when', 'years', 'none', 'ekg', 'prior', 'surgery', 'one', 'back', 'abdomen', 'review', 'present', 'problems', 'skin', 'evidence', 'mgdl', 'yo', 'coronary', 'months', '#h', '#l', 'aspirin', 'him', 'noted', 'social', 'intact', 'over', 'reviewed', 'heent', 'about', 'chronic', 'mr', 'lisinopril', 'acute', 'significant', 'may', 'breath', 'stable', 'cad', 'good', 'units', 'extremities', 'lower', 'ed', 'am', 'ct', 'bilaterally', 'follow', 'year', 'all', 'seen', 'general', 'would', 'systems', 'ho', 'lipitor', 'asa', 'care', 'bilateral', 'very', 'likely', 'rhythm', 'did', 'lasix', 'test', 'iv', 'lungs', 'week', 'evaluation', 'hpi', 'weeks', 'atenolol', 'pulses', 'bruits', 'assessment', 'then', 'change', 'current', 'showed', 'due', 'further', 'two', 'start', 'use', 'abdominal', 'shortness', 'cough', 'attending', 'elevated', 'nontender', 'stenosis', 'hyperlipidemia', 'low', 'reports', 'tid', 'pulse', 'meds', 'increased', 'labs', 'yearold', 'more', 'dose', 'admitted', 't', 'above', 'sob', 'than', 'qhs', 'hct', 'me', 'nausea', 'lab', 'loss', 'full', 'however', 'do', 'taking', 'new', 'tenderness', 'presents', 'metformin', 'mmoll', 'lad', 'neuro', 'currently', 'before', 'lives', 'ms', 'emergency', 'followup', 'discussed', 'sounds', 'pulmonary', 'p', 'carotid', 'recently', 'old', 'wbc', 'bowel', 'nl', 'smoking', 'out', 'physician', 'type', 'gi', 'multiple', 'only', 'fu', 'need', 'control', 'positive', 'hx', 'ca', 'ischemia', 'd', 'clinic', 'abd', 'diet', 'post', 'medicine', 'risk', 'supple', 'creatinine', 'failure', 'including', '#s', 'high', 'regimen', 'masses', 'impression', 'arm', 'mellitus', 'started', 'distress', 'plasma', 'foot', 'small', 'illness', 'glucose', 'cancer', 'known', 'male', 'tab', 'signs', 'you', 'vascular', 'respiratory', 'peripheral', 'done', 'several', 'cholesterol', 'most', 'possible', 'please', 'otherwise', 'b', 'exercise', 'patients', 'pe', 'dyspnea', 'a#c', 'discharge', 'both', 'increase', 'swelling', 'so', 'able', 'therapy', 'internal', 'here', 'cc', 'sc', 'mi', 'head', 'states', 'etoh', 'bun', 'woman', 'urine', 'murmurs', 'bs', 'palpitations', 'vomiting', 'weakness', 'received', 'f', 'q', 'leg', 'better', 'severe', 'alert', 'feels', 'thcmm', 'sodium', 'next', 'still', 'discomfort', 'while', 'datetime', 'lung', 'diabetic', 'course', 'rrr', 'stress', 'chf', 'controlled', 'murmur', 'down', 'health', 'stent', 'diarrhea', 'extremity', 'sinus', 'upper', 'month', 'obese', 'knee', 'age', 'calcium', 'during', 'name', 'night', 'c', 'cath', 'get', 'morning', 'complaint', 'plt', 'results', 'studies', 'few', 'data', 'followed', 'decreased', 'anemia', 'q#h', 'cxr', 'appears', 'mrn', 'cp', 'again', 'department', 'stat', 'nad', 'can', 'depression', 'auscultation', 'x#', 'hr', 'hgb', 'treated', 'report', 'doing', 'having', 'pcp', 'chills', 'coumadin', 'man', 'three', 'qam', 'k', 'nph', 'prednisone', 'sensation', 'rash', 'm', 'consult', 'rest', 'these', 'previous', 'times', 'shows', 'treatment', 'mother', 'ros', 'ext', 'total', 'range', 's', 'could', 'lopressor', 'because', 'should', 'fever', 'sleep', 'vs', 'baseline', 'neuropathy', 'diagnosis', 'work', 'stroke', 'qpm', 'obesity', 'female', 'jvp', 'aortic', 'improved', 'laboratory', 'le', 'alcohol', 'plavix', 'episodes', 'developed', 'surgical', 'acid', 'cardiology', 'repeat', 'vital', 'distal', 'unremarkable', 'stool', 'function', 'dt', 'being', 'mcv', 'gdl', 'less', 'bleeding', 'consistent', 'st', 'first', 'lesion', 'directed', 'found', 'medication', 'consider', 'until', 'lesions', 'never', 'felt', 'absolute', 'eye', 'rr', 'glyburide', 'active', 'underwent', 'much', 'level', 're', 'infection', 'shoulder', 'eomi', 'cm', 'difficulty', 'wife', 'ldl', 'document', 'center', 'scan', 'pending', 'although', 'secondary', 'dd', 'metoprolol', 'admit', 'breast', 'include', 'slightly', 'trace', 'died', 'daughter', 'fevers', 'reason', 'ul', 'notes', 'v#', 'benign', 'moderate', 'graft', 'thyroid', 'catheterization', 'once', 'ef', 'dictated', 'wt', 'ulcer', 'strength', 'cardiovascular', 'venous', 'like', 'exertion', 'cabg', 'oriented', 'dizziness', 'management', 'office', 'approximately', 'valve', 'warm', 'vitamin', 'associated', 'father', 'ii', 'rbc', 'continues', 'resolved', 'potassium', 'hctz', 'minutes', 'drug', 'constipation', 'femoral', 'hemoglobin', 'na', 'pmh', 'copd', 'cor', 'findings', 'within', 'room', 'air', 'gerd', 'episode', 'though', 'revealed', 'dv', 'simvastatin', 'pounds', 'feeling', 'following', 'carotids', 'service', 'cyanosis', 'cv', 'setting', 'bypass', 'monitor', 'hip', 'heparin', 'mch', 'says', 'dry', 'o#', 'off', 'hours', 'orthopnea', 'rdw', 'disposition', 'condition', 'presenting', 'notable', 'hd', 'side', 'saw', 'pm', 'area', 'onset', 'echo', 'pnd', 'light', 'mri', 'cont', 'xl', 'ra', 'mid', 'erythema', 'mass', 'mchc', 'study', 'co#', 'issues', 'mm', 'systolic', 'code', 'they', 'scheduled', 'gait', 'myocardial', 'urinary', 'clubbing', 'presented', 'tobacco', 'final', 'sugars', 'signed', 'related', 'lbs', 'fluid', 'children', 'free', 'poor', 'eos', 'pager', 'upon', 'quit', 'colonoscopy', 'infarction', 'rashes', 'motor', 'performed', 'procedure', 'rubs', 'perrl', 'chloride', 'norvasc', 'call', 'motion', 'ankle', 'needs', 'hcl', 'troponin', 'toprol', 'feet', 'nexium', 'throughout', 'ventricular', 'ap', 'going', 'fatigue', 'examined', 'xray', 'pleasant', 'enzymes', 'placed', 'qid', 'angina', 'sent', 'syndrome', 'comes', 'hernia', 'palpable', 'rca', 'detail', 'hold', 'gallops', 'twice', 'insufficiency', 'wall', 'lymphadenopathy', 'fasting', 'primary', 'addition', 'cta', 'my', 'oral', 'posterior', 'increasing', 'reveals', 'nsr', 'claudication', 'escription', 't#', 'lantus', 'joint', 'op', 'refills#', 'through', 'white', 'rectal', 'bladder', 'quite', 'factors', 'result', 'hypercholesterolemia', 'cva', 'nkda', 's#s#', 'glu', 'atrial', 'transplant', 'numbness', 'stopped', 'gen', 'us', 'nasal', 'large', 'anterior', 'nodes', 'furosemide', 'occasional', 'dysuria', 'anicteric', 'walking', 'return', 'resident', 'cbc', 'minimal', 'unable', 'takes', 'drugs', 'proximal', 'prostate', 'fracture', 'temperature', 'headache', 'wheezes', 'dvt', 'recheck', 'qty#', 'point', 'mildly', 'gentleman', 'legs', 'cervical', 'inferior', 'mrg', 'cre', 'dc', 'symmetric', 'nt', 'u', 'into', 'complaints', 'atorvastatin', 'hearing', 'syncope', 'remains', 'give', 'problem', 'every', 'residents', 'recommended', 'hematocrit', 'albuterol', 'pneumonia', 'cl', 'liver', 'sugar', 'thyromegaly', 'acetylsalicylic', 'needed', 'electronically', 'toes', 'worsening', 'imaging', 'except', 'recurrent', 'pedal', 'chief', 'lymph', '#mm', 'workup', 'know', 'dear', 'vision', 'count', 'ejection', 'unknown', 'dialysis', 'below', 'visual', 'early', 'yrs', 'long', 'appearance', 'referred', 'biopsy', 'think', 'discharged', 'cr', 'pvd', 'told', 'bed', 'where', 'seeing', 'goal', 'husband', 'neurontin', 'ua', 'scale', 'repair', 'unclear', 'anxiety', 'iron', 'four', 'patent', 'limited', 'maintenance', 'feel', 'previously', 'worse', 'married', 'protein', 'neurology', 'colace', 'bl', 'continued', 'help', 'initially', 'prilosec', 'yesterday', 'toe', 'unchanged', 'ck', 'flat', 'major', 'asked', 'try', 'fh', 'neurologic', 'crackles', 'intermittent', 'muscle', 'zestril', '#th', 'details', 'spine', 'retinopathy', 'confirmed', 'tbili', 'lb', 'ischemic', 'hepatosplenomegaly', 'focal', 'ecg', 'wo', 'speech', 'equal', 'lipids', 'colon', 'wnl', 'called', 'ett', 'diaphoresis', 'activity', 'diagnosed', 'hydrochlorothiazide', 'usual', 'appearing', 'chart', 'grossly', 'id', 'complete', 'using', 'nitroglycerin', 'jvd', 'sat', 'mental', 'hospitalization', 'another', 'hba#c', 'lateral', 'cn', 'your', 'capsule', 'hs', 'arthritis', 'regarding', 'top', 'diffuse', 'inr', 'touch', 'retired', 'percussion', 'lipid', 'hand', 'dp', 'testing', 'interval', 'six', 'son', 'reflux', 'hdl', 'glucophage', 'assess', 'neurological', 'improvement', 'seems', 'make', 'unit', 'went', 'pend', 'nodules', 'walk', 'radiation', 'vitals', 'midline', 'magnesium', 'kinase', 'hsm', 'np', 'just', 'somewhat', 'ace', 'ptinr', 'tests', 'exertional', 'block', 'made', 'agree', 'awake', 'creatine', 'bone', 'discuss', 'tsh', 'fine', 'around', 'eating', 'contact', 'dm#', 'state', 'pleasure', 'poorly', 'l#', 'dysfunction', 'placement', 'evaluated', 'method', 'release', 'congestive', 'wheezing', 'show', 'appetite', 'axis', 'panel', 'march', 'sx', 'smoker', 'clinical', 'abnormal', 'place', 'sec', 'fibrillation', 'rehab', 'pleural', 'abnormalities', 'npo', 'whether', 'lymphs', 'ptt', 'spinal', 'kidney', 'nodule', 'habits', 'popliteal', 'questions', 'hgba#c', 'esrd', 'rales', 'er', 'bruit', 'january', 'what', 'finger', 'used', 'temp', 'lightheadedness', 'fellow', 'nondistended', 'av', 'omeprazole', 'moist', 'transferred', 'sl', 'bilat', 'associates', 'overall', 'obtain', 'sincerely', 'similar', 'taken', 'sh', 'echocardiogram', 'little', 'floor', 'amlodipine', '#u', 'same', 'wound', 'tylenol', 'includes', 'atraumatic', 'tachycardia', 'bilirubin', 'movement', 'e', 'monos', 'psa', 'guaiac', 'despite', 'routine', 'pap', 'replacement', 'initial', 'each', 'appt', 'describes', 'musculoskeletal', 'eyes', 'organomegaly', 'fl', 'ckmb', 'our', 'co', 'complicated', 'hypertensive', 'sensory', 'stop', 'appointment', 'vein', 'multivitamins', 'culture', 'oxygen', 'angioplasty', 'appreciated', 'sitting', 'sweats', 'hematuria', 'team', 'phos', 'cozaar', 'c#', 'bedtime', 'reactive', 'sliding', 'n', 'mitral', 'adenopathy', 'effusion', 'throat', 'breakfast', 'incontinence', 'doe', 'second', 'street', 'percocet', 'pupils', 'jugular', 'getting', 'basos', 'b#', 'groin', 'suggest', 'limits', 'volume', 'normocephalic', 'o', 'many', 'mibi', 'size', 'later', 'mvi', 'pulm', 'prophylaxis', 'allergy', 'rule', 'jaw', 'cw', 'oropharynx', 'fs', 'demonstrated', 'ngml', 'lfts', 'cellulitis', 'such', 'fall', 'fraction', 'tender', 'therefore', 'intake', 'slight', 'began', 'obtained', 'stage', 'etiology', 'come', 'headaches', 'appropriate', 'outpatient', 'might', 'tte', 'flow', 'gets', 'non', 'mcg', 'zocor', 'auto', 'alone', 'source', 'frequency', 'resp', 'june', 'end', 'v', 'difficult', 'injury', 'along', 'arterial', 'starting', 'capsules', 'meals', 'rhonchi', 'ativan', 'differential', 'doses', 'sister', 'saturation', 'encouraged', 'asthma', 'gu', 'ulcers', 'thcumm', 'issue', 'seizures', 'mrs', 'additional', 'thank', 'noticed', 'july', 'cce', 'statin', 'disorder', 'even', 'inh', 'advised', 'intolerance', 'vaccine', 'borderline', 'hypoglycemia', 'tissue', 'facial', 'hepatitis', 'ncat', 'microalbumin', 'food', 'decrease', 'works', 'afebrile', 'ctab', 'cell', 'abuse', 'intern', 'ro', 'requiring', 'nephropathy', '#cm', 'complaining', 'apparently', 'protonix', 'got', 'palpation', 'summary', 'gain', 'iii', 'wave', 'albumin', 'response', 'nd', 'lv', 'page', 'calf', 'relieved', 'antibiotics', 'number', 'inhaler', 'bb', 'psych', 'minute', 'between', 'returns', 'compared', 'seizure', 'trauma', 'mouth', 'vessel', 'november', 'lost', 'recommendations', 'under', 'diff', 'sputum', 'cultures', 'records', 'radial', 'complications', 'cannot', 'aorta', 'site', 'obstruction', 'brain', 'tone', 'completed', 'knees', 'reflexes', 'drainage', 'breathing', 'pna', 'smoke', 'mammogram', 'dilated', 'osteoarthritis', 'arteries', 'dementia', 'v#v#', 'walks', 'movements', 'acei', 'thought', 'documented', 'nurse', 'february', 'ref', 'meql', 'progressive', 'dept', 'complains', 'october', 'extended', 'nonfocal', 'ear', 'hypothyroidism', 'rub', 'gallop', 'resection', 'phd', 'took', 'gmdl', 'list', 'med', 'gout', 'short', 'nursing', 'aneurysm', 'drive', 'go', 'intervention', 'ok', 'schedule', 'keep', 'couple', 'membranes', 'involving', 'veins', 'too', 'nv', 'plans', 'sulfate', 'tabs', 'brother', 'mmm', 'december', 'case', 'apparent', 'glipizide', 'face', 'checked', '#am', 'referral', 'consultation', 'cranial', 'either', 'hypo', 'main', 'looks', 'bph', 'infarct', 'ratio', 'diminished', 'concerns', 'electrocardiogram', 'persistent', 'access', 'pa', 'susceptible', 'arrival', 'sternal', 'tartrate', 'deficits', 'morphine', 'comfortable', 'tp', 'astsgot', 'altsgpt', 'county', 'cream', 'them', 'rtc', 'apical', 'nonspecific', 'came', 'amount', 'greater', 'gastric', 'distention', 'possibly', 'living', 'standing', 'least', 'reported', 'recommend', 'evening', 'superstat', 'esophageal', 'rx', 'injection', 'pw', 'extensive', 'pmi', 'alb', 'showing', 'flu', 'especially', 'pmhx', 'single', 'interviewed', 'subsequently', 'dx', 'aniso', 'alkp', 'available', 'mood', 'dissection', 'cause', 'inguinal', 'stasis', 'reaction', 'melena', 'drinks', 'pgrbc', 'set', 'add', 'future', 'complex', 'remained', 'trying', 'lumbar', 'transfer', 'nc', 'rebound', 'excellent', 'bleed', 'influenza', 'sr', 'spray', 'phosphorus', 'novolog', 'anion', 'apnea', 'cpap', 'avandia', 'working', 'tolerated', 'nutrition', 'qday', 'edvisit', 'hands', 'slow', 'hematology', 'perfusion', 'leads', 'system', 'levothyroxine', 'cycle', 'potential', 'asymptomatic', 'ankles', 'triglycerides', 'dependent', 'index', 'house', 'upset', 'nifedipine', 'chol', 'cholecystectomy', 'presentation', 'contrast', 'ultrasound', 'height', 'included', 'event', 'rare', 'red', 'mono', 'process', 'probably', 'electrolytes', 'smear', 'occluded', 'ml', 'refill', 'diastolic', 'degrees', 'obstructive', 'open', 'cpk', 'elevation', 'water', 'exacerbation', 'drip', 'nathan', 'september', 'radiating', 'peak', 'concerning', 'lobe', 'ha', 'nocturia', 'guarding', 'subsequent', 'thigh', 'how', 'effect', 'april', 'benefit', 'baso', 'necessary', 'mmhg', 'nerves', 'degree', 'diagnostic', 'urinalysis', 'occasionally', 'poly', 'uaph', 'send', 'hypertrophy', 'fairly', 'avoid', 'said', 'evaluate', 'ac', 'memory', 'egfr', 'qod', 'rle', 'ostrowski', 'memorial', 'stenting', 'added', 'pts', 'confirm', 'smoked', 'neut', 'angiography', 'cold', 'frequent', 'based', 'celexa', 'synthroid', 'drink', 'mucous', 'yellow', 'fen', 'radiology', 'line', 'procedures', 'vit', 'human', 'uses', 'iixii', 'body', 'suspect', 'prescribed', 'ccu', 'drop', 'polyuria', '#mcg', 'cardiologist', 'la', 'nose', 'rv', 'bpm', 'carbon', 'dioxide', 'former', 'screening', 'deficiency', 'completely', 'twave', 'eat', 'want', 'degenerative', 'distant', 'indicated', 'waves', 'treat', 'grade', 'dbili', 'certainly', 'lot', 'put', 'pneumovax', 'reg', 'stay', 'longer', 'became', 'transient', 'imdur', 'tob', 'staff', 'occlusion', 'preop', 'osteoporosis', 'bpg', 'interstitial', 'arms', 'ntg', 'inhibitor', 'migraine', 'milcmm', 'isoenzymes', 'outside', 'near', 'hour', 'shot', 'adenosine', 'scar', 'order', 'noncontributory', 'sure', 'fact', 'deep', 'dyslipidemia', 'brought', 'alkaline', 'phosphatase', 'causes', 'carcinoma', 'uawbc', 'density', 'meal', 'tomorrow', 'levels', 'monitoring', 'improve', 'thrombosis', 'bases', 'vertigo', 'doppler', 'nora', 'relief', 'gastrointestinal', 'dysphagia', 'avf', 'progression', 'best', 'g', 'thickening', 'yet', 'tongue', 'profile', 'oxycodone', 'regards', 'nature', 'base', 'effects', 'gave', 'isosorbide', 'request', 'clinically', 'ordered', 'drinking', 'steroids', 'bnp', 'joshi', 'nbsp', 'productive', 'via', 'folate', 'ibuprofen', 'program', 'sharp', 'confusion', 'tolerate', 'sometimes', 'description', 'possibility', 'usually', 'metabolic', 'aspect', 'round', 'xavier', 'glob', 'lose', 'enlarged', 'generally', 'hospitalized', 'nka', 'prescription', 'protocol', 'rom', 'sao#', 'described', 'bmi', 'generalized', 'pravastatin', 'polyp', 'gt#', 'concerned', 'arrest', 'reglan', 'concern', 'changed', 'particularly', 'experienced', 'serum', 'accession', 'pump', 'proceed', 'lt', 'lvh', 'bffocus', 'disc', 'psychiatric', 'suggested', 'reduced', 'annual', 'part', 'selected', 'heavy', 'yr', 'doctor', 'endocrine', 'pains', 'eval', 'apex', 'uti', 'areas', 'hematoma', 'postop', 'improving', 'external', 'pattern', 'pravachol', 'intervals', 'discrete', 'decision', 'basal', 'penicillin', 'pancreatic', 'its', 'd#', 'tingling', 'refer', 'marked', 'wrist', 'great', '#pm', 'flags', 'urea', 'absent', 'respirations', 'stated', 'cx', 'amp', 'joints', 'ppd', 'earlier', 'vertebral', 'icterus', 'lorazepam', 'enteric', 'reveal', 'ventricle', 'lle', 'anteriorly', 'globulin', 'partial', 'insomnia', 'tibial', 'stairs', 'lt#', 'thinks', 'afib', 'angiogram', 'color', 'discussion', 'regurgitation', 'symptomatic', 'suggestive', 'pack', 'scans', 'nondisplaced', 'ntnd', 'errors', 'resolution', 'min', 'nystagmus', 'consulted', 'segment', 'esr', 'pet', 'heel', 'screen', 'warfarin', '#t', 'way', 'michael', 'adult', 'folic', 'late', 'lytes', 'coated', 'osh', 'central', 'basis', 'wheeze', 'extr', 'paroxysmal', 'pathology', 'gastroparesis', 'border', 'provider', 'prozac', 'hemoptysis', 'recurrence', 'constitutional', 'irregular', 'chemotherapy', 'illicits', 'lying', 'already', 'hemodynamically', 'according', 'five', 'clopidogrel', 'abnormality', 'surgeries', 'read', 'cvs', 'anxious', 'tract', 'nitrogen', 'returned', 'overweight', 'obvious', 'briefly', 'platelets', 'thoracic', 'closely', 'fluids', 'bruising', 'actually', 'half', 'worked', 'prostatic', 'anticoagulation', 'humulin', 'topical', 'losartan', 'circumflex', 'cord', 'situation', 'dinner', 'lmr', 'meq', 'information', 'wu', 'nocturnal', 'chemistry', 'lupus', 'fistula', 'psoriasis', 'renderedcourse', 'patch', 'lc#', 'axillary', 'std', 'twi', 'supper', 'illicit', 'tightness', 'tng', 'tia', 'brief', 'gt', 'aware', 'importance', 'participate', 'seconds', 'question', 'falls', 'rapid', 'risks', 'diverticulosis', 'extraocular', 'urology', 'pta', 'tx', 'q#', 'cells', 'heard', 'slowly', 'endoscopy', 'soon', 'probable', 'p#', 'distended', 'bp#', 'andor', 'micro', 'aggressive', 'beta', 'pressures', 'polydipsia', 'vincent', 'estimated', 'relatively', 'diagonal', 'markers', 'humalog', 'versus', 'ems', 'pgy#', 'codeine', 'hcv', 'digoxin', 'quadrant', 'labetalol', 'fair', 'metastatic', 'group', 'tegretol', 'xrt', 'sclerae', 'run', 'sore', 'longstanding', 'immediately', 'sulfa', 'cataract', 'distribution', 'undergo', 'advair', 'abx', 'levofloxacin', 'sudden', 'senna', 'myalgias', 'demonstrates', 'deferred', 'attempt', 'ecasa', 'markedly', 'depressed', 'amiodarone', 'svg', 'removed', 'uabld', 'lipase', 'aptt', 'cb', 'elderly', 'supply', 'defect', 'catheter', 'black', 'effusions', 'documentation', 'swallowing', 'occ', 'lymphoma', 'appear', 'uri', 'denied', 'follows', 'double', 'tolerance', 'xii', 'bradycardia', 'august', 'thus', 'resume', 'plantar', 'tried', 'stools', 'vancomycin', 'gm', 'brbpr', 'celebrex', 'fundi', 'higher', 'strips', 'discontinued', 'ruled', 'epigastric', 'uanit', 'pelvic', 'unusual', 'prominent', 'represent', 'etc', 'gram', 'ivf', 'uagluc', 'sign', 'laser', 'iliac', 'frequently', 'believe', 'regularly', 'tr', 'symmetrical', 'docusate', 'gangrene', 'healed', 'own', 'thrombocytosis', 'diovan', 'perhaps', 'failed', 'fluoxetine', 'tricuspid', 'xie#', 'yd#', 'significantly', 'patricia', 'tumor', 'nstemi', 'af', 'zantac', 'midnight', 'sense', 'inactivated', 'pedis', 'extrem', 'nourished', 'assistance', 'hydralazine', 'incision', 'affect', 'strong', 'beats', 'held', 'fe', 'position', 'gradually', 'overnight', 'yours', 'sided', 'airway', 'community', 'sees', 'prolonged', 'suspicious', 'origin', 'sxs', 'become', 'colostomy', 'rr#', 'tropi', 'mra', 'amylase', 'transaminasesgot', 'images', 'unlikely', 'hpf', 'salt', 'vaginal', 'oa', 'rather', 'branch', 'mostly', 'acetaminophen', 'bibasilar', 'heme', 'ss', 'gtt', 'clearly', 'fosamax', 'hopefully', 'td', 'glucotrol', 'supraclavicular', 'bc', 'direct', 'troponint', 'riss', 'personal', 'frank', 'events', 'burning', 'agents', 'occurred', 'mca', 'mo', 'diverticulitis', 'sick', 'therapeutic', 'hypoglycemic', 'exposure', 'cards', 'bit', 'far', 'compression', 'options', 'apply', 'chem', 'carbonate', 'unlabored', 'anesthesia', 'himself', 'diagnoses', 'attack', 'region', 'egd', 'sbp', 'transaminasesgpt', 'atelectasis', 'required', 'bruce', 'upstrokes', 'primarily', 'blocker', 'pharynx', 'bring', 'mos', 'drops', 'wellappearing', 'j', 'colchicine', 'allopurinol', 'serial', 'features', 'lack', 'explained', 'bactrim', 'consideration', 'bronchiectasis', 'levaquin', 'osa', 'habitus', 'referring', 'bg', 'visits', 'application', 'ishida', 'substernal', 'pcn', 'pink', 'niddm', 'node', 'adenocarcinoma', 'therapies', 'proteinuria', 'ptosis', 'voice', 'trial', 'candidate', 'residual', 'manager', 'viral', 'tested', 'attention', 'ears', 'medial', 'malignancy', 'ue', 'neuts', 'macrocytes', 'fat', 'ns', 'cramps', 'dtrs', 'micronase', 'territory', 'breasts', 'instructed', 'energy', 'desirable', 'spent', 'making', 'period', 'understands', 'lima', 'ew', 'fragmin', 'signal', 'switch', 'difficulties', 'gabapentin', 'osteomyelitis', 'hypotension', 'gastroesophageal', 'always', 'bipolar', 'often', 'ferrous', 'really', 'trouble', 'anteroseptal', 'sclera', 'dob', 'overload', 'fluticasone', 'steroid', 'captopril', 'reasonable', 'yerger', 'fibromyalgia', 'gcf#', 'gained', 'ordonez', 'worsened', 'exercises', 'cigarettes', 'jan', 'dilantin', 'decided', 'factor', 'urination', 'viagra', 'agent', 'redness', 'nebulizer', 'microcytes', 'uacolor', 'support', 'aspiration', 'originally', 'allergic', 'aneut', 'nas', 'tinnitus', 'dosing', 'cri', 'unfortunately', 'enlargement', 'uaprotein', 'split', 'puffs', 'remote', 'hard', 'tube', 'morbid', 'relative', 'substance', 'succinate', 'alymp', 'uaket', 'axilla', 'hysterectomy', 'away', 'involved', 'eats', 'pitting', 'ste', 'hyponatremia', 'capacity', 'checking', 'device', 'mentioned', 'text', 'flomax', 'gluconate', 'diuresis', 'systemic', 'dorsalis', 'common', 'noncompliance', 'nystatin', 'powder', 'sleeping', 'william', 'clonazepam', 'compliance', 'dominant', 'jaundice', 'exudates', 'urgency', 'perrla', 'third', 'transcribed', 'repeated', 'addendum', 'strokes', 'commands', 'intracranial', 'taper', 'allowing', 'finally', 'seem', 'dietary', 'written', 'fhx', 'weak', 'tight', 'visualized', 'cane', 'muscles', 'y', 'puff', 'adjust', 'tms', 'infections', 'diffusely', 'scleral', 'compliant', 'nicholas', 'saphenous', 'pr', 'qrs', 'target', 'wheelchair', 'collection', 'idcc', 'coffee', 'appeared', 'values', 'comparison', 'absence', 'sigmoid', 'output', 'aox#', 'amons', 'aeosn', 'abasop', 'accessory', 'close', 'gyn', '#meq', 'mets', 'glaucoma', 'herself', 'lan', 'require', 'ongoing', 'arrived', 'ptca', 'checks', 'interim', 'troponini', 'ekgs', 'adrenal', 'brown', 'fibrosis', 'rejection', 'weekly', 'speaking', 'hl', 'tma', 'pill', 'perfused', 'hydrea', 'pylori', 'droop', 'abdo', 'premarin', 'field', 'cessation', 'afternoon', 'appendectomy', 'reactions', 'lasting', 'depressions', 'stiffness', 'assessmentplan', 'holding', 'inpatient', 'cuff', 'vessels', 'rarely', 'appropriately', 'fluent', 'prevention', 'determine', 'fingerstick', 'l#s#', 'plaque', 'superficial', 'rn', 'nerve', 'amitriptyline', 'diuretic', 'hot', 'daughters', 'ppi', 'inflammation', 'dir', 'exudate', 'siblings', 'particular', 'specific', 'occur', 'counseling', 'isordil', 'planning', '#d', 'macro', 'uaspgr', 'ddimer', 'phone', 'plus', 'tel', 'drawn', 'lcx', 'tolerating', 'requested', 'urgent', 'preoperative', 'sfa', 'continuing', 'rivers', 'big', 'telemetry', 'welldeveloped', 'gap', 'migraines', 'doesnt', 'cellcept', 'spring', 'yes', 'keflex', 'independent', 'excessive', 'flexion', 'pfo', 'nabs', 'regard', 'ao', 'ou', 'across', 'observation', 'obs', 'rice', 'swollen', 'heartburn', 'forward', 'trachea', 'reduce', 'myself', 'bulk', 'different', 'cerebellar', '#rd', 'ica', 'agreed', 'oliver', 'cardiomyopathy', 'uabili', 'azithromycin', 'travel', 'polyps', 'maintain', 'normally', 'grandchildren', 'stephen', 'easy', 'podiatry', 'refused', 'balance', 'pelvis', 'extending', 'bolus', 'abscess', 'lips', 'diffr', 'uaprot', 'avl', 'flare', 'coverage', 'gone', 'kcl', 'their', 'limit', 'subcutaneous', 'log', 'diltiazem', 'titrate', 'email', 'creat', 'dw', 'senior', 'trig', 'scattered', 'accompanied', 'cocaine', 'stt', 'hemodialysis', 'healing', 'arrhythmia', 'ambulate', 'tachycardic', 'lane', 'antibiotic', 'essentially', 'raynauds', 'intensity', 'lvef', 'removal', 'pertinent', 'coordination', 'informed', 'renewals', 'wants', 'let', 'reversible', 'reflex', 'lasted', 'recovery', 'vibration', 'person', 'education', 'films', 'benefits', 'flank', 'admitting', 'contacts', 'mucosa', 'adenoma', 'endo', 'congestion', 'context', 'paresthesias', 'consent', 'managed', 'declined', 'multivitamin', 'medicines', 'discontinue', 'reduction', 'teeth', 'reading', 'concur', 'ruq', 'moderately', 'cns', '#g', 'unstable', 'intermittently', 'quinine', 'djd', 'stents', 'glargine', 'wwp', 'cut', 'activities', '#s#s', 'restart', 'hives', 'recall', 'stones', 'atherosclerotic', 'moving', 'uncontrolled', 'flonase', 'fempop', 'verapamil', 'enough', 'attempted', 'specimen', 'hydration', 'hes', 'sons', 'coags', 'hrs', 'dizzy', 'zyprexa', 'ventral', 'amt', 'abn', 'walker', 'fj#', 'vicente', 'lyrica', 'sw#', 'resting', 'wellhealed', 'attributed', 'tremor', 'dysarthria', 'lovenox', 'frontal', 'shx', 'extension', '#dec#', 'global', 'healthy', 'buttock', 'remarkable', 'anorexia', 'cefepime', 'hga#c', 'fields', 'hyperglycemia', 'ecotrin', 'hydrochloride', 'bad', 'beyond', 'turp', 'scars', 'nonsmoker', 'recommendation', 'provided', 'sem', 'component', 'suffered', 'comments', 'self', 'gas', 'dressing', 'psh', 'bm', 'considered', 'paxil', 'adls', 'conjunctivae', 'look', 'anything', 'narcotics', 'tabsr', 'vial', '#units', 'knows', 'tired', 'bottles', 'critical', 'green', 'wk', 'impulse', 'nutritionist', 'presence', 'transplantation', 'qweek', '#st', 'mask', 'intubated', 'coagulation', 'fell', 'fatigued', 'mixed', 'pth', 'betablocker', 'shoes', 'narrative', 'script', 'aicd', 'humerus', 'space', 'vioxx', 'spectral', 'endocarditis', 'youngman', 'middle', 'find', 'sleeps', 'prox', 'deceased', 'deformity', 'nonicteric', 'flattening', 'comment', 'tonight', 'arb', 'dehydration', 'goiter', 'dec', 'trazodone', 'downgoing', 'deficit', 'satisfactory', 'heat', 'bi', 'oil', 'hemorrhage', 'rehabilitation', 'squamous', 'diameter', 'os', 'biceps', 'flagyl', 'effexor', 'deviation', 'hfa', 'considering', 'successful', 'elbow', 'platelet', 'view', 'sexual', 'spleen', 'minor', 'chemistries', 'tendon', 'maintained', 'ph', 'whom', 'accident', 'richard', 'coughing', 'smooth', 'percutaneous', 'duration', 'ht', 'pre', 'receive', 'hr#', 'celiac', 'clean', 'opacity', 'almost', 'lunch', 'ovarian', 'adding', 'sooner', 'running', 'lead', 'watch', 'mary', 'something', 'members', 'detailed', 'lispro', 'zetia', 'om', 'itching', 'presumed', 'microbiology', 'resistant', 'subjective', 'progress', 'painful', 'cooperative', 'bmh', 'lp', 'wanted', 'kidneys', 'involvement', 'procardia', 'manamana', 'lenis', 'atrium', 'avr', 'zofran', 'terazosin', 'needle', 'occurs', 'aaa', 'morbidly', 'unless', 'llq', 'hesitate', 'rbbb', 'gregory', 'svc', 'nielson', 'identified', 'anginal', 'om#', '#x#', 'radical', 'angio', 'pda', 'sdu', 'chemo', '#jan#', 'transcription', 'amy', 'nov', 'holter', 'diplopia', 'drift', 'services', 'ataxia', 'embolic', 'homocysteine', 'dentures', 'perform', 'regional', 'copy', 'begin', 'confused', 'uncomfortable', 'happy', 'atrovent', 'infectious', 'hepatomegaly', 'enalapril', 'interested', 'division', 'retention', 'toprolxl', 'assist', 'fusion', 'hemorrhoids', 'conduit', 'class', 'dark', 'isoenz', 'operative', 'peter', 'nebs', 'pennsylvania', 'sublingual', 'pci', 'pleuritic', 'pale', 'clicks', 'pulsatile', 'nitrates', 'malignant', 'pen', 'death', 'receiving', 'alt', 'conjunctiva', 'ostial', 'fixed', 'liters', 'develop', 'yearly', 'forearm', 'sustained', 'sjogrens', 'baby', 'awoke', 'seemed', 'persisted', 'macular', 'attacks', 'makes', 'instead', 'avapro', 'nephrocaps', 'wednesday', 'ckd', 'pfts', 'neb', 'remain', 'physiologic', 'revascularization', 'goes', 'numerous', 'ran', 'wellnourished', 'erythematous', 'sq', 'act', 'nephrotic', 'terms', 'sarcoidosis', 'bx', 'uaurobi', 'psychiatry', 'colonic', 'appointments', 'coming', 'painfree', 'craft', 'north', 'ultram', 'iivi', 'pericardial', 'thrombectomy', 'ulnar', 'vmf#', 'wgh', 'wfp', 'car', 'helps', 'pillows', 'hypokinesis', 'thin', 'ambien', 'rhinorrhea', 'dps', 'dispo', '#x', 'palate', 'atrophy', 'rigidity', 'pronator', 'resolve', 'agrees', 'root', 'letter', 'rue', 'narvaez', 'personally', 'ulysses', 'combination', 'cipro', 'ill', 'swallow', 'caused', 'mediquik', 'pills', 'sisters', 'ranitidine', 'presently', 'genitalia', 'impotence', 'cerebrovascular', 'cholesterolldl', 'cholesterolhdl', 'proscar', 'road', 'laminectomy', 'disorders', 'inches', 'nsaids', 'surgeon', 'uaswbc', 'emesis', 'gross', 'anticoag', 'fully', 'rectum', '#ra', 'rl', 'ras', 'pud', 'brady', 'tropt', 'surface', 'treadmill', 'helped', 'kdur', 'imi', 'hit', 'retinal', 'adverse', 'ast', 'suspension', 'sheath', 'chem#', 'lloyd', 'life', 'flex', 'ferritin', 'motrin', 'dilatation', 'resolving', 'fingersticks', 'cyst', 'burn', 'injections', 'ambulation', 'approved', 'endstage', 'missed', 'atypical', 'clearance', 'bipap', 'functional', 'pop', '#nd', 'umbilical', 'ulceration', 'noninvasive', 'mgd', 'clonidine', 'medically', 'blurry', 'hair', 'power', 'must', 'stomach', 'easily', 'ln', 'tubular', 'seroquel', 'nephrectomy', 'fax', 'vibratory', 'underlying', 'cycles', 'segmental', 'ana', 'uriel', 'infarcts', 'rotator', 'fractures', 'olivia', 'moves', 'tricor', 'uaapp', 'oakley', 'benitez', 'bird', 'emptying', 'tuesday', 'miles', 'genitourinary', 'hesitancy', 'jar', 'moles', 'aches', 'calcification', 'xi', 'symptom', 'arrange', 'healthcare', 'limiting', 'member', 'seated', 'brachial', 'helpful', 'those', 'planned', 'acs', 'o#sat', 'ceftriaxone', 'cover', 'ab', 'bcx', 'form', 'cap', 'corcardiac', 'acceptable', 'hematologic', 'erythromycin', 'chronically', 'ophthalmology', 'dentition', 'various', 'marginal', 'altered', 'paraplegia', 'standard', 'grafting', 'uasrbc', 'drain', 'ga', 'ice', 'entire', 'csf', 'agitated', 'yom', 'arf', 'victor', 'met', 'tums', 'adjustments', 'gives', 'rel', 'stemi', 'anatomy', 'facility', 'location', 'perspective', 'shes', 'dxd', 'schizophrenia', 'experience', 'worsen', 'brothers', 'impressions', 'displaced', 'cypher', 'rvsp', 'ida', 'ito', 'reasonably', 'switched', 'dtr', 'ldh', 'sunday', 'instructions', 'prograf', 'wellbutrin', 'ptfe', 'xayachack', 'spirits', 'circulation', 'assay', 'premature', 'hiatal', 'protection', 'chair', 'icu', 'rheumatoid', 'actos', 'syringes', 'adequate', 'clindamycin', 'reportedly', 'meantime', 'delta', 'gotten', 'asbestos', 'job', 'entered', 'nothing', 'load', 'lowdose', 'debridement', 'affected', 'remeron', 'fhv', 'tracing', 'booster', 'nitrofurantoin', 'additionally', 'dye', 'rightsided', 'machine', 'strict', 'avenue', 'suicidal', 'sotalol', 'norm', 'esophagus', 'hlp', 'ogrady', 'appreciate', 'constant', 'thickened', 'bms', 'woke', 'occupation', 'syncopal', 'consciousness', 'refills', 'musc', 'refuses', 'complain', 'doss', 'cerebral', 'discussing', 'symmetrically', 'romberg', 'entirely', 'educarepullman', 'ointment', 'tri', 'hospitalizations', 'usoh', 'lr', 'sens', 'narrowing', 'identify', 'divorced', 'cigarette', 'recreational', 'hiv', 'develops', 'alternating', 'brian', 'stone', 'indeed', 'nauseated', 'emboli', 'turgor', 'gravity', 'uanitrite', 'impressionplan', 'embolus', '#ppd', 'consolidation', 'sound', '#k', 'lue', 'prevent', 'development', 'against', 'dont', 'reassess', 'overdue', 'crestor', 'arranged', 'postoperative', 'observed', 'iddm', 'ileal', 'fx', 'mac', 'purulent', 'uasbact', 'interventions', 'sma', 'unitsl', 'udl', 'epidural', 'remainder', 'mononitrate', 'doubt', 'bps', 'unilateral', 'requires', 'embolism', 'mb', 'passed', 'listed', 'uptodate', 'ophthalmologist', 'administration', 'hips', 'todays', 'valley', 'marriage', 'mis', 'optho', 'immediate', 'ask', 'vna', 'weekend', 'hidradenitis', 'move', 'exception', 'expiratory', 'student', 'mechanical', 'lipoprotein', 'specifically', 'cool', 'series', 'sweating', 'pac', 'sample', 'babinski', 'feb', 'mlmin#m#', 'alive', 'amputation', 'phoslo', 'effort', 'friday', 'successfully', 'spep', 'stain', 'sweets', 'ipratropium', 'initiate', 'pantoprazole', 'cardiomegaly', 'measures', 'methotrexate', 'attempts', 'tox', 'epogen', 'unsteady', 'tb', 'widowed', 'hasnt', 'xanders', 'offered', 'stabilized', 'ortho', 'elevations', 'mn', 'flash', 'si', 'hope', 'hm', 'pursue', 'approach', 'chopr', 'supportive', 'brisk', 'dppt', 'stopping', '#cc', 'thrush', 'declines', 'gentamicin', 'glycemic', 'septal', 'rsh', 'educarefargo', 'insulindependent', 'complained', 'johnson', 'material', 'vaughn', 'bacteremia', 'shin', 'nancy', 'documenting', 'childrens', 'hale', 'penicillins', 'ramus', 'dyazide', 'encounter', 'closed', 'bundle', 'betty', 'atwood', 'balloon', 'workman', 'pregabalin', 'lobectomy', 'pneumothorax', 'edge', 'measuring', 'manage', 'biomarkers', 'ivs', 'wma', 'hoarseness', 'wellperfused', 'laboratories', 'causing', '#bpm', 'prophy', 'jun', 'returning', 'skel', 'bony', 'cnis', 'suggesting', 'recovered', 'citalopram', 'elevates', 'eeg', 'eventually', 'production', 'summer', 'ultimately', 'slurred', 'initiation', 'mean', 'otis', 'undergone', 'admits', 'sending', 'hytrin', 'attributes', 'steady', 'demonstrate', 'suboptimal', 'relevant', 'dobutamine', 'why', 'medicalsurgical', 'disability', 'uaglucose', 'uaketones', 'uaspecific', 'uaoccult', 'uaalbumin', 'buncr', 'sinuses', 'exposures', 'inc', 'gel', 'city', 'nauseavomiting', 'arthralgias', 'exams', 'sigmoidoscopy', 'caffeine', 'emotional', 'refilled', 'coli', 'eight', 'ec', 'lbbb', 'occurring', 'exercising', 'foley', 'physiologically', 'strongly', 'cea', 'sestamibi', 'intravenous', 'predicted', 'foods', 'marital', 'transfused', 'pyelonephritis', 'hob', 'diverting', 'superior', 'uassqhi', 'wks', 'calculate', 'traumatic', 'foramen', 'subacute', 'preserved', 'mg#', 'sig', '#f', 'objective', 'exclude', 'iffocus', 'nitrate', 'experiencing', 'podiatrist', 'accupril', 'seven', 'uterine', 'ectopy', 'developing', 'h#', 'law', 'tm', 'nearly', 'restarted', 'ophthalmic', 'stressed', 'parents', 'audible', 'tonsillectomy', 'belts', 'cavity', 'spontaneously', 'minimally', 'valvular', 'biphasic', 'sets', 'oct', 'young', 'ie', 'broad', 'sennosides', 'nitro', 'stenoses', 'looking', 'aspart', 'ppx', 'rising', 'benjamin', 'doxycycline', 'qac', 'visiting', 'proxy', 'feverschills', 'surveillance', 'sex', 'wounds', 'leftsided', 'evident', 'nontoxic', 'opinion', 'psychosis', 'impairment', 'quality', 'shortly', 'witnessed', '#hr', 'morgan', 'tibc', 'wdwn', 'sgpt', 'sgot', 'glands', 'progressively', 'calcifications', 'mediastinal', 'kind', 'distally', 'blind', 'ideation', 'covering', 'inpt', 'outpt', 'xie', 'xian', 'insurance', 'worried', 'onychomycosis', 'table', 'monofilament', 'supplements', 'supine', 'paced', 'trimethoprimsulfamethoxazole', 'carbamazepine', 'historian', 'juice', 'riley', 'uribe', 'straight', 'cardioversion', 'glenn', 'delirium', 'idiopathic', 'counseled', 'helen', 'ivers', 'ai', 'cigs', 'contin', 'edwin', 'prolapse', 'singulair', 'nj', 'quin', 'mammo', 'larry', 'walter', 'hematochezia', 'worrisome', 'awaiting', 'pmhpsh', 'changing', 'epistaxis', 'pos', 'blocks', 'ground', 'loc', 'dullness', 'address', 'optimal', 'saint', 'interactive', 'protrudes', 'language', 'ip', 'bra', 'alternative', 'decide', 'progressed', 'acutely', 'backwards', 'corona', 'ptot', 'infusion', 'born', 'wide', 'multifactorial', 'reasons', 'provide', 'neuropathic', 'supplement', 'dull', 'percent', 'represents', 'nonproductive', 'malaise', 'excision', 'diskus', 'lifestyle', 'patchy', 'hypoxia', 'infiltrate', 'remission', 'spondylosis', 'adjusted', 'prerenal', 'shoulders', 'tunnel', 'raised', 'mgr', 'xuan', 'maternal', 'thrombocytopenia', 'fatty', 'deltoid', 'altace', 'tetanus', 'neurologically', 'inadequate', 'antihypertensives', 'ugi', 'c#c#', 'dulcolax', 'hepatobiliary', 'blurred', 'anesthetic', 'surrounding', 'prbc', 'ostomy', 'infiltrates', 'marrow', 'l#l#', 'sats', 'determined', 'cramping', 'po#', 'ready', 'descending', 'ordering', 'inversions', 'menopause', 'naprosyn', 'reluctant', 'dcd', 'bblocker', 'plv', 'resulting', 'important', 'suite', 'bmp', 'understanding', 'typically', 'defer', 'colo', 'closure', 'native', 'filling', 'lifting', 'length', 'quickly', 'believes', 'seat', 'talking', 'contributing', 'serevent', 'splenomegaly', 'thomas', 'tolerates', 'typical', 'circle', 'wearing', 'eubanks', 'mediastinum', 'derm', 'robert', 'violence', 'inferolateral', 'thereafter', 'aampo', 'sized', 'someone', 'sticks', 'wear', 'helping', 'bicarbonate', 'value', 'albert', 'cast', 'steps', 'tacrolimus', 'kg', 'cholhdl', 'ganciclovir', 'amoxicillin', 'leukocytosis', 'irregularly', 'fem', 'duplex', 'nicely', 'visible', 'dilation', 'ampicillin', 'crp', 'essential', 'james', 'haynes', 'promptcare', 'syphilis', 'osteopenia', 'recalls', 'ant', 'rapidly', 'assisted', 'interpretation', 'speak', 'gastritis', 'hyperparathyroidism', 'miralax', 'wgt', 'degeneration', 'levine', 'irreg', 'methadone', 'immunizations', 'klonopin', 'ever', 'defects', 'lae', 'nor', 'frantz', 'route', 'flashes', 'maximal', 'teresa', 'advance', 'reducible', 'microalbuminuria', 'nuclear', 'dunn', 'till', 'restriction', 'ablation', 'vf', 'handle', 'breakdown', 'nitroglycerine', 'aerobic', 'ambulance', 'valdez', 'basilar', 'aricept', 'warmth', 'turk', 'dermatitis', 'partially', 'mod', 'chestrespiratory', 'presyncope', 'nqwmi', 'cyanocobalamin', 'arimidex', 'extremely', 'norman', 'nil', 'pancreatitis', 'mix', 'quitting', 'gillis', 'doxepin', 'upstroke', 'quiana', 'ur', '#aug#', 'loveland', 'local', 'stating', 'mile', 'equivalent', 'ssh', 'grown', 'odynophagia', 'arthroscopic', 'cup', 'paralysis', 'film', 'equally', 'together', 'spells', 'exacerbated', 'dental', 'action', 'aaox#', 'coord', 'junction', 'mrimra', 'sedentary', 'preparation', 'radiates', 'birth', 'triceps', 'await', 'treatments', 'lightheaded', 'consultations', 'ciprofloxacin', 'adjacent', 'oscar', 'operation', 'normoactive', 'image', 'encourage', 'augmentin', 'pch', 'levo', 'barium', '#yrs', 'esp', 'induced', 'carpal', 'nights', 'mainly', 'convalescent', 'ring', 'careful', 'glasses', 'nails', 'tinea', 'thinking', 'severely', 'spot', 'willing', 'orthostatic', 'ocampo', 'cvd', 'jr', 'grafts', 'arrhythmias', 'recovering', 'mdi', 'persists', 'mgm', 'sober', 'orif', 'nipple', 'wt#', 'proposed', 'monitors', 'formal', 'sacral', 'loop', 'peptic', 'packed', 'transfusion', 'ir', 'ddx', 'lactic', 'suspected', 'cannula', 'mrsa', 'esomeprazole', 'beginning', 'ckmbri', 'hcast', 'hall', 'recurred', 'indigestion', 'cords', 'resulted', 'live', 'glass', 'grandmother', 'paraspinal', 'mastectomy', 'leading', 'dmii', 'neuralgia', 'lived', 'term', 'prefer', 'uphoff', 'solostar', 'notify', 'safe', 'largest', 'hcm', 'ergocalciferol', 'contacted', 'invasive', 'lidocaine', 'fentanyl', 'cataracts', 'combivent', '#day', 'estrogens', 'elbows', 'technique', 'picture', 'labetolol', 'pvc', 'clots', 'subsegmental', 'spasm', 'step', 'sleepy', 'pancreas', 'stick', 'uecker', 'cardiopulmonary', 'learned', 'rise', 'neoral', 'fev#', 'citrate', 'hypoxic', 'etiologies', 'lexapro', 'euvolemic', 'dopplerable', 'functioning', 'prevacid', 'losing', 'limb', 'spanish', 'wendy', 'scrotal', 'palsy', 'plaquenil', 'definite', 'caldwell', 'discoloration', 'flights', 'varicosities', 'panic', 'grams', 'microscopic', 'leave', 'vent', 'epo', 'inflammatory', 'simple', 'righthanded', 'gradient', 'hilar', 'retroperitoneal', 'delayed', 'impaired', 'pioglitazone', 'rotation', 'arthroplasty', 'friend', 'ovale', 'variable', 'fioricet', 'surg', 'kaufman', 'null', 'mucomyst', 'responsive', 'mirtazapine', 'experiences', 'cymbalta', 'metronidazole', 'adhesive', 'aragon', 'dotson', 'buncreatinine', 'occasions', 'pretty', 'portion', 'acanthosis', 'playing', 'paper', 'perforation', 'demerol', 'slurring', 'fc', 'cross', 'precordium', 'noninsulindependent', 'humeral', 'roger', 'fingers', 'emssten', 'russell', 'crane', 'lopid', 'orthopedic', 'coke', 'tg', 'thursday', 'gipson', 'revealing', 'antihypertensive', 'york', 'average', 'restless', 'accommodation', 'naproxen', 'malbcreat', 'linezolid', 'conditions', 'ulises', 'buzan', 'maine', 'provera', 'medroxyprogesterone', 'hoffman', 'estradiol', 'paul', 'xayarath', 'testosterone', 'technician', 'palp', 'im', 'resolves', 'dyspepsia', 'trop', 'urania', 'mdattending', 'ivc', 'blank', 'patient#s', 'palpitation', 'wedge', 'queen', 'imuran', 'vallejo', 'klein', 'michelle', 'capillary', 'dcgh', 'yount', 'ehlers', 'vines', 'etheridge', 'thiamine', 'ivb', 'taxotere', 'suppurativa', 'bmc'])"
            ]
          },
          "metadata": {
            "tags": []
          },
          "execution_count": 33
        }
      ]
    },
    {
      "cell_type": "markdown",
      "metadata": {
        "id": "R29r-mAIpML2",
        "colab_type": "text"
      },
      "source": [
        "This still very basic tokenizer has _dramatically_ reduced our vocabulary size, from 14k/35k non-rare/rare words to 4k/15k, respectively (and, note that here we're being much more aggressive with the words we keep, aggregating words that appear less than 15 times).\n",
        "\n",
        "However, tokenization is still only the first step. Now, we need to build our real training corpus.\n",
        "\n",
        "### An _n_-gram, Auxiliary Features Baseline\n",
        "Our new model will be a logistic regression model trained using trigram information, concatenating the target word with the prior word and the subsequent word, along with all three word's auxiliary features (capitalization status and use of colons)."
      ]
    },
    {
      "cell_type": "code",
      "metadata": {
        "id": "E7Uub8f5r-oI",
        "colab_type": "code",
        "colab": {}
      },
      "source": [
        "def to_onehot_ngram(\n",
        "    indexed_dataset, n_pre=1, n_post=1, vocab_idxmap=tokenizer.vocab_idxmap,\n",
        "    labels_idxmap=tokenizer.labels_idxmap\n",
        "):\n",
        "  out_words, out_features, out_labels, sent_lengths = [], [], [], []\n",
        "  pad_and_feats = (\n",
        "      vocab_idxmap[PAD], tuple([0] * len(indexed_dataset[0][0][0][1]))\n",
        "  )\n",
        "  vocab_size = len(vocab_idxmap)\n",
        "  for sent in indexed_dataset:\n",
        "    N = len(sent)\n",
        "    sent_lengths.append(N)\n",
        "    for i in range(N):\n",
        "      (word, feats), label = sent[i]\n",
        "      \n",
        "      context_words = []\n",
        "      context_feats = []\n",
        "      for idx in range(i - n_pre, i+1 + n_post):\n",
        "        if idx == i: continue\n",
        "        c_word, c_feats = pad_and_feats if idx < 0 or idx >= N else sent[idx][0]\n",
        "        context_words.append(c_word)\n",
        "        context_feats.extend(list(c_feats))\n",
        "      out_words.append([word] + context_words)\n",
        "      out_features.append(list(feats) + context_feats)\n",
        "      out_labels.append(label)\n",
        "\n",
        "  categories = np.array([range(vocab_size)] * (1 + n_pre + n_post))\n",
        "  enc = OneHotEncoder(categories=categories)\n",
        "  out_dataset = enc.fit_transform(out_words)\n",
        "  assert (enc.categories_ == categories).all().all(), \"This can't change...\"\n",
        "\n",
        "  out_dataset = hstack((out_dataset, csr_matrix(out_features)), format='csr')\n",
        "\n",
        "  out_labels = [\n",
        "    labels_idxmap[l if l in labels_idxmap else PAD] for l in out_labels\n",
        "  ]\n",
        "\n",
        "  return out_dataset, out_labels"
      ],
      "execution_count": 0,
      "outputs": []
    },
    {
      "cell_type": "code",
      "metadata": {
        "id": "zKEqAYt9wUgp",
        "colab_type": "code",
        "colab": {
          "base_uri": "https://localhost:8080/",
          "height": 173
        },
        "outputId": "caca0ef2-3ee0-4a22-fadb-f16b7b61fe8b"
      },
      "source": [
        "train_sparse_X, train_Y = to_onehot_ngram(train_tokenized_index, n_pre=2)\n",
        "dev_sparse_X, dev_Y = to_onehot_ngram(tokenizer.transform(dev), n_pre=2)"
      ],
      "execution_count": 19,
      "outputs": [
        {
          "output_type": "stream",
          "text": [
            "/usr/local/lib/python3.6/dist-packages/sklearn/preprocessing/_encoders.py:76: FutureWarning: elementwise comparison failed; returning scalar instead, but in the future will perform elementwise comparison\n",
            "  if self.categories != 'auto':\n",
            "/usr/local/lib/python3.6/dist-packages/sklearn/preprocessing/_encoders.py:85: FutureWarning: elementwise comparison failed; returning scalar instead, but in the future will perform elementwise comparison\n",
            "  if self.categories == 'auto':\n",
            "/usr/local/lib/python3.6/dist-packages/sklearn/preprocessing/_encoders.py:76: FutureWarning: elementwise comparison failed; returning scalar instead, but in the future will perform elementwise comparison\n",
            "  if self.categories != 'auto':\n",
            "/usr/local/lib/python3.6/dist-packages/sklearn/preprocessing/_encoders.py:85: FutureWarning: elementwise comparison failed; returning scalar instead, but in the future will perform elementwise comparison\n",
            "  if self.categories == 'auto':\n"
          ],
          "name": "stderr"
        }
      ]
    },
    {
      "cell_type": "code",
      "metadata": {
        "id": "o1j0o-fIxyIf",
        "colab_type": "code",
        "colab": {
          "base_uri": "https://localhost:8080/",
          "height": 34
        },
        "outputId": "29f3f75a-df24-49eb-8cb2-b48f5433f90a"
      },
      "source": [
        "print(\"Generated train dataset of type %s, shape %s, with %d labels\" % (\n",
        "  type(train_sparse_X), str(train_sparse_X.shape), len(train_Y)\n",
        "))"
      ],
      "execution_count": 20,
      "outputs": [
        {
          "output_type": "stream",
          "text": [
            "Generated train dataset of type <class 'scipy.sparse.csr.csr_matrix'>, shape (448252, 15704), with 448252 labels\n"
          ],
          "name": "stdout"
        }
      ]
    },
    {
      "cell_type": "markdown",
      "metadata": {
        "id": "abHzyir10pvf",
        "colab_type": "text"
      },
      "source": [
        "In the interest of time, we'll run a minimized model first, to see what performance it obtains quickly."
      ]
    },
    {
      "cell_type": "code",
      "metadata": {
        "id": "qPQA6E0vxxog",
        "colab_type": "code",
        "colab": {
          "base_uri": "https://localhost:8080/",
          "height": 221
        },
        "outputId": "6df6df59-5ae9-424e-cb7f-e7bb8a03353b"
      },
      "source": [
        "%%time\n",
        "short_model = LogisticRegression(\n",
        "    penalty='l2',\n",
        "    C=0.1,\n",
        "    max_iter=25,\n",
        ")\n",
        "short_model.classes_ = list(range(tokenizer.num_classes))\n",
        "\n",
        "short_model.fit(train_sparse_X, train_Y)\n",
        "\n",
        "acc = short_model.score(dev_sparse_X, dev_Y)\n",
        "print(\"Model accuracy (*not* Macro F1): %.2f%%\" % (100 * acc))\n",
        "\n",
        "dev_probs = short_model.predict_proba(dev_sparse_X)\n",
        "new_F1 = f1_score(dev_probs.argmax(axis=1), dev_Y, average='macro')\n",
        "print(\"The improved baseline Macro F1: %.2f\" % new_F1)"
      ],
      "execution_count": 21,
      "outputs": [
        {
          "output_type": "stream",
          "text": [
            "Model accuracy (*not* Macro F1): 97.04%\n",
            "The improved baseline Macro F1: 0.32\n",
            "CPU times: user 48.6 s, sys: 22.6 s, total: 1min 11s\n",
            "Wall time: 44.9 s\n"
          ],
          "name": "stdout"
        },
        {
          "output_type": "stream",
          "text": [
            "/usr/local/lib/python3.6/dist-packages/sklearn/linear_model/_logistic.py:940: ConvergenceWarning: lbfgs failed to converge (status=1):\n",
            "STOP: TOTAL NO. of ITERATIONS REACHED LIMIT.\n",
            "\n",
            "Increase the number of iterations (max_iter) or scale the data as shown in:\n",
            "    https://scikit-learn.org/stable/modules/preprocessing.html\n",
            "Please also refer to the documentation for alternative solver options:\n",
            "    https://scikit-learn.org/stable/modules/linear_model.html#logistic-regression\n",
            "  extra_warning_msg=_LOGISTIC_SOLVER_CONVERGENCE_MSG)\n"
          ],
          "name": "stderr"
        }
      ]
    },
    {
      "cell_type": "markdown",
      "metadata": {
        "id": "PQoPc-4A0udJ",
        "colab_type": "text"
      },
      "source": [
        "Final results could definitely still be improved by running for more iterations, but at the cost of more time. Running for 200 iterations, for example, takes roughly 5 minutes for a gain of only 0.09 F1 points:"
      ]
    },
    {
      "cell_type": "code",
      "metadata": {
        "id": "oES7gIxH8z5c",
        "colab_type": "code",
        "colab": {
          "base_uri": "https://localhost:8080/",
          "height": 221
        },
        "outputId": "8c76e22b-4f01-4ce6-c68e-8b2aac3a92a2"
      },
      "source": [
        "%%time\n",
        "model = LogisticRegression(\n",
        "    penalty='l2',\n",
        "    C=0.1,\n",
        "    max_iter=200,\n",
        ")\n",
        "model.classes_ = list(range(tokenizer.num_classes))\n",
        "\n",
        "model.fit(train_sparse_X, train_Y)\n",
        "\n",
        "acc = model.score(dev_sparse_X, dev_Y)\n",
        "print(\"Model accuracy (*not* Macro F1): %.2f%%\" % (100 * acc))\n",
        "\n",
        "dev_probs = model.predict_proba(dev_sparse_X)\n",
        "new_F1 = f1_score(dev_probs.argmax(axis=1), dev_Y, average='macro')\n",
        "print(\"The improved baseline Macro F1: %.2f\" % new_F1)"
      ],
      "execution_count": 22,
      "outputs": [
        {
          "output_type": "stream",
          "text": [
            "Model accuracy (*not* Macro F1): 97.58%\n",
            "The improved baseline Macro F1: 0.41\n",
            "CPU times: user 6min 4s, sys: 2min 53s, total: 8min 57s\n",
            "Wall time: 5min 31s\n"
          ],
          "name": "stdout"
        },
        {
          "output_type": "stream",
          "text": [
            "/usr/local/lib/python3.6/dist-packages/sklearn/linear_model/_logistic.py:940: ConvergenceWarning: lbfgs failed to converge (status=1):\n",
            "STOP: TOTAL NO. of ITERATIONS REACHED LIMIT.\n",
            "\n",
            "Increase the number of iterations (max_iter) or scale the data as shown in:\n",
            "    https://scikit-learn.org/stable/modules/preprocessing.html\n",
            "Please also refer to the documentation for alternative solver options:\n",
            "    https://scikit-learn.org/stable/modules/linear_model.html#logistic-regression\n",
            "  extra_warning_msg=_LOGISTIC_SOLVER_CONVERGENCE_MSG)\n"
          ],
          "name": "stderr"
        }
      ]
    },
    {
      "cell_type": "code",
      "metadata": {
        "colab_type": "code",
        "outputId": "87abdf40-cecc-4c08-eb72-e46d7c5b3cf9",
        "id": "IM-0mpX7QA02",
        "colab": {
          "base_uri": "https://localhost:8080/",
          "height": 34
        }
      },
      "source": [
        "tokenizer.chars_idxmap[PAD]"
      ],
      "execution_count": 35,
      "outputs": [
        {
          "output_type": "execute_result",
          "data": {
            "text/plain": [
              "0"
            ]
          },
          "metadata": {
            "tags": []
          },
          "execution_count": 35
        }
      ]
    },
    {
      "cell_type": "markdown",
      "metadata": {
        "id": "8yuigGKFV9DG",
        "colab_type": "text"
      },
      "source": [
        "### Questions on Data & Baselines\n",
        "  1. Based on your understanding of the task (and by exploring some of the real data), Assign labels to the following sequence of words:\n",
        "    > \"The patient (MRN: 1234) is a 86 y/o M, presenting at Hospital for Sick Patients on 12-10-2063\"\n",
        "\n",
        "  Assume that \"Hospital for Sick Patients\" is the official name of the institution providing care. Note that \"MRN\" stands for \"Medical Record Number\" and \"y/o\" stands for \"year old\" (these are both common medical abbreviations).\n",
        "  \n",
        "  2. In our presented code, we provide a very simple, unigram baseline and a more complex, trigram baseline and evaluate both on dev data. Evaluate both on test data, stored in `2014_test.tsv` and report the macro F1s obtained.\n",
        "\n",
        "The remaining questions will center around design choices made in our improved baseline, specifically focused on these parameters:\n",
        "  - `rare_words_thresh`\n",
        "  - `auxiliary_features`\n",
        "  - `lowercase`\n",
        "  - `remove_punct`\n",
        "  - `replace_only_punct`\n",
        "  - `replace_numbers`\n",
        "  - `n_pre`\n",
        "  - `n_post`\n",
        "  - `C`\n",
        "  - `penalty`\n",
        "\n",
        "  3. Between our provided tokenizer class, the one-hot converter function, and the Logistic Regression model itself, there are lots of changes we've made from the simpler unigram baseline, most represented through hyperparameters. Modifying all (or a subset) of the parameters listed above, find a parameter setting that matches the performance of the original unigram model on the dev set. What parameters acheive most similar performance to the original unigram model? Your answer should be supported by experimental results. If your parameter choices are correct, it is acceptable if the final performance you find is actually _worse_ than what we find with our simpler baseline above.\n",
        "\n",
        "  __Hint__: Consider under what settings will the tokenizer output data that looks most like the raw, unprocessed data?\n",
        "\n",
        "  __Hint 2__: Use a small Logistic regression model (e.g., `max_iter=25`) for iteration speed here. It's acceptable if your final experimental results are using this configuration.\n",
        "\n",
        "  4. The generic setting used in the cells above already acheive a significant performance improvement over the unigram baseline. What parameters of the list above are most influential in driving that performance gain?\n",
        "\n",
        "  5. Experiment with various other combinations of these parameters. In order for things to run efficiently, ensure that `n_pre + n_post` is no more than 4. What parameters seem to matter more generally? Your answer should be supported by dev-set evaluation results. Does it make sense to you that these parameters matter more than others? What is the best performance you can get with any parameters you try? TAs were able to get performance up to 0.7 -- can  you match that?\n",
        "\n",
        "  6. (Optional, not for credit) What's the _best *best*_ final performance you can obtain with a Baseline system here? Here, to be fair, you should first find your optimal configuration via dev-set experiments, and only evaluate on the test set immediately prior to readying your final writeup. Can you beat the TAs solution? "
      ]
    },
    {
      "cell_type": "markdown",
      "metadata": {
        "id": "NieBpn5Dmjmr",
        "colab_type": "text"
      },
      "source": [
        "## Using a sequential model\n",
        "For this section, we'll refine our approach to the above task by using a sequential, natural language processing model. This task _does_ rely on the same datasets used in the previous part, and some of the code used earlier as well, so if you've restarted your environment for some reason, make sure you re-run those cells. Additionally, unlike in the prior section, here you will need to fill in some missing code blocks (preceeded by large, obvious comments in the code) in order for things to run and work properly. So, the code below *__will not__* run as it stands, but should run seamlessly once you've fixed it according to the provided instructions.\n",
        "\n",
        "Note that this section extensively uses PyTorch, one of the most popular current deep learning libraries. We will _not_ explain introductory PyTorch concepts here; instead, we expect you to be roughly familiar with the basics of deep learning software, and to supplement your background with external resources as needed to be comfortable with basic PyTorch. Some good options for external resources are the PyTorch Tutorials, available [here](https://pytorch.org/tutorials/). We will, however, explain what we're doing, and offer a brief outline of the classes we use, design decisions we make, and common patterns or antipatterns in PyTorch design.\n",
        "\n",
        "Similarly, we also do not explain in depth the theory behind the model we ultimately use here, a Gated Recurrent Unit (GRU) recurrent neural network (RNN) model. If you'd like to learn more about GRUs, they are explained in more depth in [this](https://towardsdatascience.com/illustrated-guide-to-lstms-and-gru-s-a-step-by-step-explanation-44e9eb85bf21) blogpost, as well as (subordinately to LSTMs, but still) in [this](https://colah.github.io/posts/2015-08-Understanding-LSTMs/) excellent post by Cristopher Olah.\n",
        "\n",
        "Now, onto some pytorch boilerplate.\n",
        "### PyTorch Datasets\n",
        "PyTorch's `torch.utils.data.Dataset` class and corresponding `torch.utils.data.dataloader` class are the primary ways to encapsulate your data for use in a PyTorch neural network model. The `Dataset` class is a base class, with two mandatory abstract methods: `__len__` and `__getitem__`. As its name indicates, `__len__` must return the _length_ of the dataset stored in your subclass---i.e., the number of samples (_not_ the number of batches or anything like this, the raw number of samples in total). Similarly well-named, `__getitem__` takes an integral index and must return pytorch tensors corresponding to the sample at that index in the data. Note that there _are_ constraints on the shapes of the tensors returned by `__getitem__`; namely, they must match for all indices passed to `__getitem__` (unless you define a specialized collate function, which we do not here). This is because the PyTorch dataloader utilities will call `__getitem__` for each element of a batch and collate the results into batched tensors. In general, this fact also implies it is wise to push as much of the processing in your `Dataset` subclass outside of the `__getitem__` path as possible so it isn't run each sample of your batch, and is instead run once (e.g., at construction) then stored for repeated use.\n",
        "\n",
        "In this assignment, we've nearly completely defined the dataset for you; however, you *__will__* have to modify things, as we task you with completing some broken code blocks. Accordingly, this code *__will not__* run as it is now--you'll need to fix it first."
      ]
    },
    {
      "cell_type": "code",
      "metadata": {
        "id": "G2_kVC67vVhS",
        "colab_type": "code",
        "colab": {}
      },
      "source": [
        "import torch, torch.nn as nn, torch.utils.data as data, torch.optim as optim\n",
        "from allennlp.modules.time_distributed import TimeDistributed\n",
        "\n",
        "class NERDataset(data.Dataset):\n",
        "  def __init__(\n",
        "      self, dataset_list, tokenizer, max_len=None, already_indexed=False,\n",
        "      get_char_sequence=True, keep_chars_for_rare_words=True,\n",
        "      use_cuda=torch.cuda.is_available()\n",
        "  ):\n",
        "    \"\"\"\n",
        "    dataset_list: [ sentence 1: [((word_1, (auxiliary_features...)), label_1), ...], ...]\n",
        "    \"\"\"\n",
        "    super().__init__()\n",
        "\n",
        "    self.dataset_list = dataset_list\n",
        "    self.num_aux_features = len(tokenizer.auxiliary_features)\n",
        "    self.N = len(dataset_list)\n",
        "    self.__set_index(max_len)\n",
        "\n",
        "    self.vocab_idxmap = tokenizer.vocab_idxmap\n",
        "    assert UNK in self.vocab_idxmap and PAD in self.vocab_idxmap\n",
        "    self.labels_idxmap = tokenizer.labels_idxmap\n",
        "    assert PAD in self.labels_idxmap\n",
        "    self.use_cuda = use_cuda\n",
        "\n",
        "    assert not already_indexed and get_char_sequence, \"Can't do both.\"\n",
        "\n",
        "    self.tokenizer = tokenizer\n",
        "    self.get_char_sequence = get_char_sequence\n",
        "    self.keep_chars_for_rare_words = True\n",
        "    if self.get_char_sequence:\n",
        "      self.max_word_len = max(\n",
        "          len(w) for s in self.dataset_list for (w, _), _ in s\n",
        "      )\n",
        "        \n",
        "    self.already_indexed = already_indexed\n",
        "\n",
        "  def __set_index(self, global_max_len):\n",
        "    self.max_len = max(len(sent) for sent in self.dataset_list)\n",
        "    if global_max_len is None or self.max_len < global_max_len:\n",
        "      self.index = [(i, 0) for i in range(self.N)]\n",
        "      return\n",
        "\n",
        "    self.max_len = global_max_len\n",
        "    self.index = []\n",
        "    for i, sent in enumerate(self.dataset_list):\n",
        "      if len(sent) < self.max_len:\n",
        "        self.index.append((i, 0))\n",
        "        continue\n",
        "      \n",
        "      for idx in range(0, len(sent), self.max_len):\n",
        "        self.index.append((i, idx))      \n",
        "\n",
        "  def __len__(self): return len(self.index)\n",
        "\n",
        "  def __to_tensor(self, arr):\n",
        "    tens = torch.Tensor(arr).long()\n",
        "    if self.use_cuda: tens = tens.cuda()\n",
        "    return tens\n",
        "\n",
        "  def __getitem__(self, idx):\n",
        "    sent_idx, start_idx = self.index[idx]\n",
        "    sent = self.dataset_list[sent_idx][start_idx:start_idx+self.max_len]\n",
        "\n",
        "    X, C, C_mask, A, Y = [], [], [], [], []\n",
        "    # A simple modification here enables this to run on raw data.\n",
        "    for (w_orig, aux), l in sent:\n",
        "      w = w_orig\n",
        "\n",
        "      ## TODO: Task #1: ########################################################\n",
        "      ## For this task, you need to fill in the Dataset construction logic    ##\n",
        "      ## for this part of `__getitem__`. In each clause of the below if       ##\n",
        "      ## statement, some lines will be left incomplete. Fill them in,         ##\n",
        "      ## remembering what the point of this method is: Given an input         ##\n",
        "      ## sequence of words, return:                                           ##\n",
        "      ##   1) A tensor `mask` of shape [self.max_len,] containing a mask with ##\n",
        "      ##      1s indicating whether or not there was a real word present at   ##\n",
        "      ##      that position. This tensor is created later in the function,and ##\n",
        "      ##      you needn't worry about it here.                                ##\n",
        "      ##   2) A tensor `X` of shape [self.max_len,] containing an integral    ##\n",
        "      ##      index (based on the map from word -> index in                   ##\n",
        "      ##      `self.vocab_idxmap`) for each word in the sentence. You will    ##\n",
        "      ##      help create `X` here.                                           ##\n",
        "      ##   3) (If `self.get_char_sequence`): A tensor `C` of shape            ##\n",
        "      ##      [self.max_len, self.max_word_len] containing a sequence of      ##\n",
        "      ##      sequence of integral indexs corresponding to each letter in     ##\n",
        "      ##      each word (via the mapping in `self.tokenizer.chars_idxmap`).   ##\n",
        "      ##   4) (If `self.get_char_sequence`): A tensor `C_mask` of shape       ##\n",
        "      ##      [self.max_len, self.max_word_len] containing a sequence of      ##\n",
        "      ##      sequence of masks indicating which characters were present in   ##\n",
        "      ##      which words.                                                    ##\n",
        "      ##   5) A tensor `A` of shape [self.max_len, self.num_aux_features]     ##\n",
        "      ##      containing the auxiliary features per token. You won't need to  ##\n",
        "      ##      do anything with `A` here.                                      ##\n",
        "      ##   6) A tensor `Y` of shape [self.max_len,] containing the labels per ##\n",
        "      ##      token. You won't need to adjust `Y` here.                       ##\n",
        "      ## In this section, you'll need to help us construct some of these      ##\n",
        "      ## pieces.                                                              ##\n",
        "      ##########################################################################\n",
        "\n",
        "      if self.already_indexed: \n",
        "        # In this case, we don't need to change anything--the indexing has\n",
        "        # already been done.\n",
        "        X.append(w)\n",
        "      else: \n",
        "        # TODO: Fill this in. Here, we need to convert `w` to an index, using\n",
        "        # the map `self.vocab_idxmap`. Note that `w` may not be in this map, in\n",
        "        # which case we want to convert it to an UNK token before indexifying\n",
        "        # it. Once you've converted it, append it to `X`. Feel free to use\n",
        "        # helper variables.\n",
        "        i = self.vocab_idxmap.get(w, self.vocab_idxmap[UNK])\n",
        "        X.append(i)\n",
        "      if self.get_char_sequence:\n",
        "        if self.keep_chars_for_rare_words: w_chars = w_orig\n",
        "        else: w_chars = w\n",
        "\n",
        "        if w_chars in (UNK, PAD, PUNCT): w_chars = ''\n",
        "        delta = self.max_word_len - len(w_chars)\n",
        "\n",
        "        # TODO: Fill this in. Here, we have `w_chars` and delta -- now we just\n",
        "        # need to convert the characters in w_chars to indices and pad the list\n",
        "        # to self.max_word_len.\n",
        "\n",
        "        cseq = [tokenizer.chars_idxmap.get(c) for c in w_chars]\n",
        "        cseq += [tokenizer.chars_idxmap[PAD]]*delta\n",
        "        C.append(cseq)\n",
        "\n",
        "        ## End Task #1 #########################################################\n",
        "\n",
        "        C_mask.append([1] * len(w_chars) + [0] * delta)\n",
        "\n",
        "      A.append(list(aux))\n",
        "\n",
        "      l = l if l in self.labels_idxmap else PAD #We ignore labels we don't know.\n",
        "      Y.append(self.labels_idxmap[l])\n",
        "    \n",
        "    delta = self.max_len - len(X)\n",
        "    if delta > 0:\n",
        "      mask = [1] * len(X) + [0] * delta\n",
        "      X.extend([self.vocab_idxmap[PAD]] * delta)\n",
        "      if self.get_char_sequence:\n",
        "        # Here, by construction, we rely on max_word_len being always larger\n",
        "        C.extend([[self.tokenizer.chars_idxmap[PAD]]*self.max_word_len] * delta)\n",
        "        C_mask.extend([[0]*self.max_word_len] * delta)\n",
        "      A.extend([[0] * self.num_aux_features] * delta)\n",
        "      Y.extend([self.labels_idxmap[PAD]] * delta)\n",
        "    else:\n",
        "      mask = [1] * self.max_len\n",
        "      X = X[:self.max_len]\n",
        "      A = A[:self.max_len]\n",
        "      if self.get_char_sequence:\n",
        "        C = C[:self.max_len]\n",
        "        C_mask = C_mask[:self.max_len]\n",
        "      Y = Y[:self.max_len]\n",
        "\n",
        "    if self.get_char_sequence:\n",
        "      return (\n",
        "          self.__to_tensor(mask), self.__to_tensor(X), self.__to_tensor(C),\n",
        "          self.__to_tensor(C_mask), self.__to_tensor(A).float(),\n",
        "          self.__to_tensor(Y)\n",
        "      )\n",
        "    else:\n",
        "      return (\n",
        "          self.__to_tensor(mask), self.__to_tensor(X),\n",
        "          self.__to_tensor(A).float(), self.__to_tensor(Y)\n",
        "      )"
      ],
      "execution_count": 0,
      "outputs": []
    },
    {
      "cell_type": "markdown",
      "metadata": {
        "id": "w0kb51Oci2XN",
        "colab_type": "text"
      },
      "source": [
        "To see what the dataset produces, we can instantiate one here and call it, using our tokenizer class from 2.1 here as well. Calling `train_dataset[0]` at the end (equivalent to `train_dataset.__getitem__(0)`) returns the tensors corresponding to the first example in our train dataset. Note these tensors are all padded out to the passed `max_len` (50), which is necessary here so all entries collate properly. The entries in the padding positions will be ignored in both model running and loss calculation."
      ]
    },
    {
      "cell_type": "code",
      "metadata": {
        "id": "KVCWfhkwxkvY",
        "colab_type": "code",
        "colab": {
          "base_uri": "https://localhost:8080/",
          "height": 459
        },
        "outputId": "cc09b5eb-0eb6-40ff-f9e3-75776e1839b2"
      },
      "source": [
        "nn_tokenizer = Tokenizer(rare_words_thresh=10)\n",
        "nn_tokenizer.fit(train)\n",
        "train_tokenized = nn_tokenizer.transform(train, as_index=False)\n",
        "\n",
        "train_dataset = NERDataset(\n",
        "    train_tokenized, nn_tokenizer, max_len=50, already_indexed=False\n",
        ")\n",
        "\n",
        "print(train_dataset.max_word_len)\n",
        "for i in train_dataset[0]:\n",
        "  print(i.shape)\n",
        "  display(i[:2])"
      ],
      "execution_count": 37,
      "outputs": [
        {
          "output_type": "stream",
          "text": [
            "58\n",
            "torch.Size([50])\n"
          ],
          "name": "stdout"
        },
        {
          "output_type": "display_data",
          "data": {
            "text/plain": [
              "tensor([1, 1], device='cuda:0')"
            ]
          },
          "metadata": {
            "tags": []
          }
        },
        {
          "output_type": "stream",
          "text": [
            "torch.Size([50])\n"
          ],
          "name": "stdout"
        },
        {
          "output_type": "display_data",
          "data": {
            "text/plain": [
              "tensor([59, 41], device='cuda:0')"
            ]
          },
          "metadata": {
            "tags": []
          }
        },
        {
          "output_type": "stream",
          "text": [
            "torch.Size([50, 58])\n"
          ],
          "name": "stdout"
        },
        {
          "output_type": "display_data",
          "data": {
            "text/plain": [
              "tensor([[ 7,  2, 11,  9,  7, 12,  0,  0,  0,  0,  0,  0,  0,  0,  0,  0,  0,  0,\n",
              "          0,  0,  0,  0,  0,  0,  0,  0,  0,  0,  0,  0,  0,  0,  0,  0,  0,  0,\n",
              "          0,  0,  0,  0,  0,  0,  0,  0,  0,  0,  0,  0,  0,  0,  0,  0,  0,  0,\n",
              "          0,  0,  0,  0],\n",
              "        [12,  4,  6,  2,  0,  0,  0,  0,  0,  0,  0,  0,  0,  0,  0,  0,  0,  0,\n",
              "          0,  0,  0,  0,  0,  0,  0,  0,  0,  0,  0,  0,  0,  0,  0,  0,  0,  0,\n",
              "          0,  0,  0,  0,  0,  0,  0,  0,  0,  0,  0,  0,  0,  0,  0,  0,  0,  0,\n",
              "          0,  0,  0,  0]], device='cuda:0')"
            ]
          },
          "metadata": {
            "tags": []
          }
        },
        {
          "output_type": "stream",
          "text": [
            "torch.Size([50, 58])\n"
          ],
          "name": "stdout"
        },
        {
          "output_type": "display_data",
          "data": {
            "text/plain": [
              "tensor([[1, 1, 1, 1, 1, 1, 0, 0, 0, 0, 0, 0, 0, 0, 0, 0, 0, 0, 0, 0, 0, 0, 0, 0,\n",
              "         0, 0, 0, 0, 0, 0, 0, 0, 0, 0, 0, 0, 0, 0, 0, 0, 0, 0, 0, 0, 0, 0, 0, 0,\n",
              "         0, 0, 0, 0, 0, 0, 0, 0, 0, 0],\n",
              "        [1, 1, 1, 1, 0, 0, 0, 0, 0, 0, 0, 0, 0, 0, 0, 0, 0, 0, 0, 0, 0, 0, 0, 0,\n",
              "         0, 0, 0, 0, 0, 0, 0, 0, 0, 0, 0, 0, 0, 0, 0, 0, 0, 0, 0, 0, 0, 0, 0, 0,\n",
              "         0, 0, 0, 0, 0, 0, 0, 0, 0, 0]], device='cuda:0')"
            ]
          },
          "metadata": {
            "tags": []
          }
        },
        {
          "output_type": "stream",
          "text": [
            "torch.Size([50, 2])\n"
          ],
          "name": "stdout"
        },
        {
          "output_type": "display_data",
          "data": {
            "text/plain": [
              "tensor([[0., 1.],\n",
              "        [1., 0.]], device='cuda:0')"
            ]
          },
          "metadata": {
            "tags": []
          }
        },
        {
          "output_type": "stream",
          "text": [
            "torch.Size([50])\n"
          ],
          "name": "stdout"
        },
        {
          "output_type": "display_data",
          "data": {
            "text/plain": [
              "tensor([0, 0], device='cuda:0')"
            ]
          },
          "metadata": {
            "tags": []
          }
        }
      ]
    },
    {
      "cell_type": "markdown",
      "metadata": {
        "id": "albci3Cjjbjq",
        "colab_type": "text"
      },
      "source": [
        "### Model Class & Training Loop\n",
        "\n",
        "Now onto the model class and training loop logic for this problem. Note that here, you *__will__* have to modify things, as we task you with completing some broken code blocks. Accordingly, this code *__will not__* run as it is now--you'll need to fix it first. We'll give a brief overview of each section here, and have comments within the code. \n",
        "\n",
        "#### Model Class\n",
        "Pytorch model classes, also called _modules_, are all subclassed from `torch.nn.Module`, which contains much of the logic necessary for, among other things, automatic differentiation. There are different schools of thought on the best way to design modules, from an engineering perspective. One approach is to try to make many small modules, each of which is relatively isolated and encompasses only a small part of the model, then assemble them heirarchically into a larger whole. This approach is more modular and flexible, which can be very advantageous in research. Another is to have most of your model in a few larger modules, which will often go so far as to compute final losses or normalized probabilities straight from raw input. This approach argues that, with research use cases often requiring nuanced, individualized support, trying to re-use smaller modules risks making code more brittle and dependent on more special-cased support, and that it is better to stick with only the basic primitives provided by torch directly.\n",
        "\n",
        "Here, given our use case is narrow and limited, we've defined just one `nn.Module` subclass, called `NER_GRU`. This class, on `forward`, ingests `mask`, a tensor describing which words are actually present in this sentence, the tokenized word sequence `X`, a tensor `aux` containing the auxiliary features output by the tokenizer (e.g., capitalization status, etc.), and the final output labels (numerically encoded) in `labels`. It first embeds the words via a trainable, randomly initialized word embedding layer, adds to these embeddings the auxiliary features, projected into the embedding layer via a linear transformation, runs this sequence through a GRU parametrized by the hyperparameters passed, passes each sequential output of the GRU through a linear output layer, then scores the whole system with a `CrossEntropyLoss` against the provided labels. It also normalizes the per-token scores into probabilities via a `nn.Softmax` layer and passes these probabilities out as well as the loss."
      ]
    },
    {
      "cell_type": "code",
      "metadata": {
        "id": "HYhqlkT82uoS",
        "colab_type": "code",
        "colab": {}
      },
      "source": [
        "class SeqModelTypes(Enum):\n",
        "  NONE = auto()\n",
        "  GRU = auto()\n",
        "  LSTM = auto()\n",
        "\n",
        "class NER_Model(nn.Module):\n",
        "  SeqModelConstructors = {\n",
        "      SeqModelTypes.GRU: nn.GRU,\n",
        "      SeqModelTypes.LSTM: nn.LSTM,\n",
        "  }\n",
        "\n",
        "  def __init__(\n",
        "      self,\n",
        "      tokenizer = nn_tokenizer,\n",
        "      embed_size = 50,\n",
        "      hidden_size = 150,\n",
        "      num_layers = 1,\n",
        "      dropout = 0.1,\n",
        "      bidirectional = False,\n",
        "      rnn_type=SeqModelTypes.LSTM,\n",
        "      char_rnn_type=SeqModelTypes.NONE, # if NONE, params below ignored.\n",
        "      char_embed_size=25,\n",
        "      char_rnn_hidden_size=50,\n",
        "      char_rnn_num_layers=1,\n",
        "      char_rnn_bidirectional=True,\n",
        "  ):\n",
        "    assert rnn_type != SeqModelTypes.NONE\n",
        "\n",
        "    super().__init__()\n",
        "\n",
        "    # We use the tokenizer as a convenient storage location for the vocab and\n",
        "    # label indexmapstest = read_dataset_file('2014_test.tsv'), as well as the number of auxiliary features.\n",
        "    self.vocab_idxmap = tokenizer.vocab_idxmap\n",
        "    self.labels_idxmap = tokenizer.labels_idxmap\n",
        "    self.num_aux_features = len(tokenizer.auxiliary_features)\n",
        "    self.char_idxmap = tokenizer.chars_idxmap\n",
        "\n",
        "    # Embedding hyperparameters\n",
        "    self.vocab_size = len(self.vocab_idxmap)\n",
        "    self.char_vocab_size = len(self.char_idxmap)\n",
        "    self.embed_size = embed_size\n",
        "    self.char_embed_size = char_embed_size\n",
        "\n",
        "    # GRU Hyperparameters\n",
        "    self.hidden_size = hidden_size\n",
        "    self.num_layers = num_layers\n",
        "    self.dropout = dropout\n",
        "    self.bidirectional = bidirectional\n",
        "    self.rnn_type = rnn_type\n",
        "    self.char_rnn_type = char_rnn_type\n",
        "    self.embed_char_seq = (self.char_rnn_type != SeqModelTypes.NONE)\n",
        "    self.char_rnn_hidden_size = char_rnn_hidden_size\n",
        "    self.char_rnn_num_layers = char_rnn_num_layers\n",
        "    self.char_rnn_bidirectional = char_rnn_bidirectional\n",
        "\n",
        "    # Output Hyperparameters\n",
        "    self.num_classes = len(self.labels_idxmap) - 1 # -1 for padding\n",
        "\n",
        "    # Model parts\n",
        "    self.embed_layer = nn.Embedding(\n",
        "        self.vocab_size, self.embed_size, padding_idx=self.vocab_idxmap[PAD],\n",
        "    )\n",
        "    if self.num_aux_features:\n",
        "      # We only need to produce this layer if we have any aux features...\n",
        "      self.aux_embed_layer = nn.Linear(self.num_aux_features, self.embed_size)\n",
        "    \n",
        "    sent_rnn_params = dict(\n",
        "      input_size    = self.embed_size,\n",
        "      hidden_size   = self.hidden_size,\n",
        "      num_layers    = self.num_layers,\n",
        "      batch_first   = True,\n",
        "      dropout       = self.dropout,\n",
        "      bidirectional = self.bidirectional,\n",
        "    )\n",
        "    self.rnn = NER_Model.SeqModelConstructors[rnn_type](**sent_rnn_params)\n",
        "\n",
        "    if self.embed_char_seq:\n",
        "      self.char_embed_layer = nn.Embedding(\n",
        "          self.char_vocab_size, self.char_embed_size,\n",
        "          padding_idx=self.char_idxmap[PAD]\n",
        "      )\n",
        "      char_rnn_params = dict(\n",
        "        input_size    = self.char_embed_size,\n",
        "        hidden_size   = self.char_rnn_hidden_size,\n",
        "        num_layers    = self.char_rnn_num_layers,\n",
        "        batch_first   = True,\n",
        "        dropout       = self.dropout,\n",
        "        bidirectional = self.char_rnn_bidirectional,\n",
        "      )\n",
        "\n",
        "      # Time distributed expects a simple module, which returns a tensor.\n",
        "      # Unfortunately, pytorch RNNs don't do this. So we use a virtual module\n",
        "      # to account for this.\n",
        "      class SimpleOutputRNN(nn.Module):\n",
        "        def __init__(self, rnn_cnstr, rnn_kwargs):\n",
        "          super().__init__()\n",
        "\n",
        "          self.rnn = rnn_cnstr(**rnn_kwargs)\n",
        "          if 'num_layers' in rnn_kwargs:\n",
        "            self.num_layers = rnn_kwargs['num_layers']\n",
        "          else: self.num_layers = 1\n",
        "          if 'bidirectional' in rnn_kwargs and rnn_kwargs['bidirectional']:\n",
        "            self.num_directions = 2\n",
        "          else: self.num_directions = 1\n",
        "\n",
        "          self.hidden_size = rnn_kwargs['hidden_size']\n",
        "\n",
        "        def forward(self, seq):\n",
        "          \"\"\"\n",
        "            `seq` is of shape (augmented batch_size, rnn_seq_len, hidden_dim)\n",
        "          \"\"\"\n",
        "          aug_batch_size, seq_len, _ = seq.shape\n",
        "          rnn_out = self.rnn(seq)[0]\n",
        "          # if type(rnn_out) is tuple: rnn_out = rnn_out[0]\n",
        "          return rnn_out.view(aug_batch_size, seq_len, -1)\n",
        " \n",
        "      self.char_rnn = TimeDistributed(SimpleOutputRNN(\n",
        "          NER_Model.SeqModelConstructors[self.char_rnn_type], char_rnn_params\n",
        "      ))\n",
        "\n",
        "      self.char_num_directions = (2 if self.char_rnn_bidirectional else 1)\n",
        "      char_rnn_out_dim = self.char_num_directions * self.char_rnn_hidden_size\n",
        "      self.char_seq_embed_layer = nn.Linear(char_rnn_out_dim, self.embed_size)\n",
        "\n",
        "    num_directions = (2 if self.bidirectional else 1)\n",
        "    rnn_out_dim = num_directions * self.hidden_size\n",
        "\n",
        "    self.output_layer = nn.Linear(rnn_out_dim, self.num_classes)\n",
        "\n",
        "    # Loss & Output normalization\n",
        "    self.softmax = nn.Softmax(dim=2)\n",
        "    self.loss_fn = nn.CrossEntropyLoss(ignore_index = self.labels_idxmap[PAD])\n",
        "\n",
        "  def forward(self, *inputs):\n",
        "    \"\"\"\n",
        "    Inputs:\n",
        "      `mask` is of shape (batch_size, seq_len), contains 1 if word is present, 0\n",
        "        otherwise.\n",
        "      `X` is of shape (batch_size, seq_len), contains ids of words to be\n",
        "        embedded.\n",
        "      `C` is of shape (batch_size, seq_len, word_len), contains ids of chars\n",
        "        within words to be embedded. Only present if self.embed_char_seq.\n",
        "      `C_mask` is of shape (batch_size, seq_len, word_len), contains 1 if char\n",
        "        is present, 0 otherwise. Only present if self.embed_char_seq.\n",
        "      `aux` is of shape (batch_size, seq_len, self.num_aux_features), contains any\n",
        "        auxiliary features computed by the tokenizer (e.g., is_capitalized)\n",
        "      `labels` is of shape (batch_size, seq_len), contains ids of labels per\n",
        "        token.\n",
        "    Outputs:\n",
        "      `probs` is of shape (batch_size, seq_len, self.num_classes). Contains\n",
        "        normalized probabilities per token, per class. All probabilities for\n",
        "        padding tokens have been zeroed out.\n",
        "      `loss` is a scalar, containing the mean cross entropy loss across all\n",
        "        tokens and all sentences. Note that this loss doesn't do anything clever\n",
        "        w.r.t. normalizing for sentence length --- i.e., it is not a \n",
        "        averaged per-sentence/per-example loss, but rather a per-token loss. For\n",
        "        our purposes this is fine.\n",
        "    \"\"\"\n",
        "\n",
        "    if self.embed_char_seq:\n",
        "      mask, X, C, C_mask, aux, labels = inputs\n",
        "    else:\n",
        "      mask, X, aux, labels = inputs\n",
        "\n",
        "    # For this problem, we ask you to fill in part of the forward method of this\n",
        "    # neural network. Recall our stated plan.\n",
        "    #  1. First, we're going to embed the input `X` (recall we've initialized\n",
        "    #     an embedding layer already in `self.embed_layer`.\n",
        "    #  2. Next, if there are any auxiliary features, we'll project those into\n",
        "    #     into the embedding space via our projection layer\n",
        "    #     `self.aux_embed_layer`, and add them to the embedded words.\n",
        "    #  3. Embed the character sequence. This will be a miniature version of our\n",
        "    #     whole pipeline. First, we embed them according to the embedding layer\n",
        "    #     `self.char_embed_layer`, then we pass them through our (modified)\n",
        "    #     `self.char_rnn`, followed by the char rnn output layer \n",
        "    #     `self.char_seq_embed_layer`. Finally, we add them to our embedded\n",
        "    #     words \n",
        "    #  4. We pass this featurized embedding tensor through `self.rnn`, keeping\n",
        "    #     the output at each token via the first element of the pytorch RNN\n",
        "    #     output tuple.\n",
        "    #  5. We send these per-token output through `self.output_layer` to get our \n",
        "    #     scores.\n",
        "    #  6. Finally, we compute our loss and probabilities, and return them.\n",
        "\n",
        "    # First we embed, always the words and the auxiliary features as well if\n",
        "    # present.\n",
        "\n",
        "    token_features = []\n",
        "    token_features.append(self.embed_layer(X))\n",
        "\n",
        "    if self.num_aux_features: \n",
        "      token_features.append(self.aux_embed_layer(aux.float()))\n",
        "\n",
        "    if self.embed_char_seq:\n",
        "      # Now we embed the character sequence\n",
        "      embedded_chars = self.char_embed_layer(C)\n",
        "      char_rnn_out = self.char_rnn(embedded_chars)\n",
        "      # `char_rnn_out` is of shape (batch, seq, word_len, hidden_dim)\n",
        "      # We take an average pooling over the word-level, subject to C_mask.\n",
        "\n",
        "      # `C_mask` is of shape (batch, seq, word_len)\n",
        "      char_rnn_mask = C_mask.unsqueeze(3).expand_as(char_rnn_out)\n",
        "      char_rnn_out = (char_rnn_out * char_rnn_mask).sum(dim=2)\n",
        "      word_lens = C_mask.sum(dim=2).unsqueeze(2).expand_as(char_rnn_out)\n",
        "      \n",
        "      # Here, we're really just computing char_rnn_out / word_lens. Except,\n",
        "      # for padding words, word_len can be 0, so we need to catch that case,\n",
        "      # and zero it out, then divide by something that looks like word_lens\n",
        "      # otherwise or is 1 to avoid illusory nans. We use torch.where to catch\n",
        "      # these conditionals.\n",
        "      word_lens_or_one = torch.where(\n",
        "          word_lens == 0, torch.ones_like(word_lens), word_lens\n",
        "      )\n",
        "      char_rnn_out = torch.where(\n",
        "          word_lens == 0, torch.zeros_like(char_rnn_out),\n",
        "          char_rnn_out / word_lens_or_one\n",
        "      )\n",
        "\n",
        "      char_rnn_out = self.char_seq_embed_layer(char_rnn_out)\n",
        "\n",
        "      token_features.append(char_rnn_out)\n",
        "\n",
        "    #### TODO: Task #2: ########################################################\n",
        "    ##   Combine all the per-token features together, then pass them through  ##\n",
        "    ##   `self.rnn` and `self.output_layer` to get our per-token, per-class   ##\n",
        "    ##   scores.                                                              ##\n",
        "    ##   *Hint:* Remember that PyTorch's RNN methods return tuples, and you   ##\n",
        "    ##   only need part of the tuple here.                                    ##\n",
        "    ############################################################################\n",
        "    embedded_token_seq = torch.cat(token_features)\n",
        "    rnn_out = self.rnn(embedded_token_seq)\n",
        "    scores = self.output_layer(rnn_out[0])\n",
        "    #### End Task #2 ###########################################################\n",
        "\n",
        "\n",
        "    # scores is of shape (batch_size, seq_len, num_classes), but the loss\n",
        "    # expects data of the shape (batch_size, num_classes, d_1, d_2, ...) and\n",
        "    # labels of the shape (batch_size, d_1, d_2, ...), so we need to reshape:\n",
        "    scores_reshaped = scores.transpose(1, 2)\n",
        "    labels_reshaped = labels # This is actually fine as is\n",
        "    loss = self.loss_fn(scores_reshaped, labels_reshaped)\n",
        "\n",
        "    # We comptue probabilities here for convenience later.\n",
        "    probs = self.softmax(scores) * mask.unsqueeze(2).expand_as(scores)\n",
        "    \n",
        "    return probs, loss"
      ],
      "execution_count": 0,
      "outputs": []
    },
    {
      "cell_type": "markdown",
      "metadata": {
        "id": "E638a6_qo4gJ",
        "colab_type": "text"
      },
      "source": [
        "#### Train & Evaluation Loops\n",
        "We also need to write our training and evaluation loops here. Note that there are libraries to automate some of this logic, most notably PyTorch's own [Ignite](https://pytorch.org/ignite/), which we do not use here for simplicity but are very useful for larger projects.\n",
        "\n",
        "Our train and evaluation loops are simple. In the `eval_model` function, we simply create a deterministic (i.e., `shuffle=False`) `DataLoader` over the dev set, then iterate through this dataloader and collate the final probabilities. These are then re-structured to match the original data formatting and passed into the `ner_eval` function from part 1. We default to large `batch_size` in this function because larger batches can afford greater efficiencies in terms of GPU usage, and the validation batch size will not affect performance as no gradients are computed during evaluation.\n",
        "\n",
        "In the `run_model` function, we use a very similar setup the `eval_model` function just described, save that we run over the train dataset many times, once per epoch, optimizing the parameters via the [`Adam` optimizer](https://pytorch.org/docs/stable/optim.html?highlight=adam#torch.optim.Adam) each batch. Each epoch, we also evaluate the model on the validation data, so that we can track final performance. Note the hyperparameters passed to this function:\n",
        "  * `num_epochs`\n",
        "  * `batch_size`\n",
        "  * `learning_rate_init`\n",
        "\n",
        "All of these can have significant impacts on learning speed and final performance."
      ]
    },
    {
      "cell_type": "code",
      "metadata": {
        "id": "tr8M0yLu-Vnk",
        "colab_type": "code",
        "colab": {}
      },
      "source": [
        "def eval_model(val_dataset, model, batch_size = 1024, debug=False):\n",
        "  val_dataloader = data.DataLoader(\n",
        "      val_dataset, batch_size=batch_size, shuffle=False\n",
        "  )\n",
        "  num_val_batches = len(val_dataloader)\n",
        "\n",
        "  model.eval()\n",
        "  val_batches = tqdm(\n",
        "      val_dataloader, total=num_val_batches, leave=False, desc=\"Val Batch\"\n",
        "  )\n",
        "  val_probs, val_probs_flat = [], []\n",
        "  val_labels, val_labels_flat = [], []\n",
        "  val_loss = 0\n",
        "  for batch in val_batches:\n",
        "    with torch.no_grad():\n",
        "      probs, loss = model(*batch)\n",
        "      val_loss += loss.detach().cpu().numpy()\n",
        "      probs = list(probs.detach().cpu().numpy())\n",
        "      mask = list(batch[0].detach().cpu().numpy())\n",
        "      labels = list(batch[-1].detach().cpu().numpy())\n",
        "    probs_ragged, probs_flat = [], []\n",
        "    labels_ragged, labels_flat = [], []\n",
        "    for probs_sent, mask_sent, labels_sent in zip(probs, mask, labels):\n",
        "      probs_ragged.append(probs_sent[:sum(mask_sent)])\n",
        "      labels_ragged.append(labels_sent[:sum(mask_sent)])\n",
        "      probs_flat.extend(probs_sent[:sum(mask_sent)])\n",
        "      labels_flat.extend(labels_sent[:sum(mask_sent)])\n",
        "    val_probs.extend(probs_ragged)\n",
        "    val_labels.extend(labels_ragged)\n",
        "    val_probs_flat.extend(probs_flat)\n",
        "    val_labels_flat.extend(labels_flat)\n",
        "\n",
        "  if debug: \n",
        "      return val_probs, val_dataset.dataset_list, val_dataset.labels_idxmap\n",
        "\n",
        "  val_loss /= num_val_batches\n",
        "  val_f1 = f1_score(val_labels_flat, np.argmax(val_probs_flat, axis=1), average='macro')\n",
        "\n",
        "  return val_loss, val_f1\n",
        "\n",
        "def run_model(\n",
        "    train_dataset, val_dataset, model,\n",
        "    num_epochs = 20,\n",
        "    batch_size = 64,\n",
        "    learning_rate_init = 3e-4,\n",
        "    val_batch_size=512,\n",
        "    step_size = 10,\n",
        "    gamma = 0.1,\n",
        "):\n",
        "  train_dataloader = data.DataLoader(\n",
        "      train_dataset, batch_size=batch_size, shuffle=True\n",
        "  )\n",
        "  num_train_batches = len(train_dataloader)\n",
        "\n",
        "  optimizer = optim.AdamW(model.parameters(), lr=learning_rate_init)\n",
        "  sch = optim.lr_scheduler.StepLR(\n",
        "      optimizer, step_size, gamma=gamma, last_epoch=-1\n",
        "  )\n",
        "\n",
        "  epoch_progress_temp = \"Epoch: Train Loss %.2e, Dev F1 %.2f\"\n",
        "  batch_progress_temp = \"Train Batch: %.2e\"\n",
        "\n",
        "  epochs = tqdm(\n",
        "      range(num_epochs), desc=epoch_progress_temp % (np.NaN, np.NaN)\n",
        "  )\n",
        "  val_f1s = []\n",
        "  train_losses = []\n",
        "  val_losses = []\n",
        "  for epoch in epochs:\n",
        "    model.train()\n",
        "    \n",
        "    train_batches = tqdm(\n",
        "        train_dataloader, total=num_train_batches, leave=False,\n",
        "        desc=batch_progress_temp % (np.NaN),\n",
        "    )\n",
        "    losses_epoch = []\n",
        "    for batch in train_batches:\n",
        "      ## TODO: Task #3: ########################################################\n",
        "      ## Here, you need to compute the actual training loop for this train    ##\n",
        "      ## function. Note that this section of code is relatively model         ##\n",
        "      ## agnostic. All you need to do is zero the gradients stored in our     ##\n",
        "      ## optimizer, compute the loss of the model on the batch (recall our    ##\n",
        "      ## model outputs both the probabilities and the loss on each call to    ##\n",
        "      ## forward, run the `backward` step of PyTorch's automatic              ##\n",
        "      ## differentiation system on the loss tensor, then `step` with the      ##\n",
        "      ## optimizer to adjust the model parameters.                            ##\n",
        "      ## Go through some basic PyTorch tutorials if this is unfamiliar to     ##\n",
        "      ## you. A paritcularly good place to look could be here:                ##\n",
        "      ## https://pytorch.org/tutorials/beginner/blitz/cifar10_tutorial.html,  ##\n",
        "      ## in particular, Section 4.\n",
        "      ##########################################################################\n",
        "\n",
        "      # Complete the optimizer here. Store the loss in a tensor called `loss`\n",
        "      # or the rest of the function will not work.\n",
        "      \n",
        "\n",
        "      ## End Task #3 ###########################################################\n",
        "\n",
        "      loss_value = loss.detach().cpu().numpy()\n",
        "      train_batches.set_description(batch_progress_temp % loss_value)\n",
        "      losses_epoch.append(loss_value)\n",
        "\n",
        "    val_loss, val_f1 = eval_model(val_dataset, model, val_batch_size)\n",
        "\n",
        "    val_losses.append(val_loss)\n",
        "    val_f1s.append(val_f1)\n",
        "    train_losses.append(losses_epoch)\n",
        "\n",
        "    epochs.set_description(\n",
        "        epoch_progress_temp % (np.mean(losses_epoch[-20:]), val_f1)\n",
        "    )\n",
        "    sch.step()\n",
        "\n",
        "  return model, train_losses, val_losses, val_f1s"
      ],
      "execution_count": 0,
      "outputs": []
    },
    {
      "cell_type": "markdown",
      "metadata": {
        "id": "ZC9s13UdqmBT",
        "colab_type": "text"
      },
      "source": [
        "Finally, with all that done, it's time to actually train our model. Note two things:\n",
        "  1. For training purposes, we set the maximum length of any sentence over which we can train to 50 tokens. But, at validation time, we leave it unset, allowing the system to span sentences much longer. Is this sensible? What impact might this have on our training?\n",
        "  2. This cell will take a fairly long time (e.g., 15 - 20 minutes) to train/run. It will print output after the datasets are constructed, then show a progress bar (if this does not appear to be working properly, ensure you are using the most recent version of chrome, and recall that you should've restarted the runtime once after running the very first import cell of this notebook) during training."
      ]
    },
    {
      "cell_type": "code",
      "metadata": {
        "id": "rhp6eL4bJOMr",
        "colab_type": "code",
        "colab": {}
      },
      "source": [
        "%%time\n",
        "nn_tokenizer = Tokenizer(\n",
        "  rare_words_thresh=RARE_WORDS_THRESHOLD,\n",
        "  auxiliary_features=[],\n",
        "  lowercase=True,\n",
        "  remove_punct=False,\n",
        "  replace_only_punct=False,\n",
        "  replace_numbers=NUM,\n",
        ")\n",
        "nn_tokenizer.fit(train)\n",
        "train_tokenized = nn_tokenizer.transform(train, as_index=False)\n",
        "dev_tokenized = nn_tokenizer.transform(dev, as_index=False)\n",
        "\n",
        "train_dataset = NERDataset(\n",
        "    train_tokenized, nn_tokenizer, max_len=100, already_indexed=False\n",
        ")\n",
        "val_dataset = NERDataset(\n",
        "    dev_tokenized, nn_tokenizer, max_len=None, already_indexed=False\n",
        ")\n",
        "\n",
        "print(\n",
        "    \"Produced train and validation datasets. \"\n",
        "    \"Validation max_len is %d\" % val_dataset.max_len\n",
        ")\n",
        "\n",
        "model = NER_Model(\n",
        "  tokenizer=nn_tokenizer,\n",
        "  embed_size=300,\n",
        "  dropout=0.5,\n",
        "  hidden_size=450,\n",
        "  num_layers=1,\n",
        "  bidirectional=True,\n",
        "  rnn_type = SeqModelTypes.LSTM,\n",
        "  char_rnn_type = SeqModelTypes.LSTM,\n",
        ")\n",
        "\n",
        "model.cuda()\n",
        "\n",
        "model, train_losses, val_losses, val_f1s = run_model(\n",
        "    train_dataset, val_dataset, model, num_epochs=30, learning_rate_init=3e-4,\n",
        "    gamma = 0.5, val_batch_size=256\n",
        ")"
      ],
      "execution_count": 0,
      "outputs": []
    },
    {
      "cell_type": "markdown",
      "metadata": {
        "id": "VTG7ICybrbYx",
        "colab_type": "text"
      },
      "source": [
        "### Your Deliverables\n",
        "#### Fixing the Neural Network\n",
        "In the code above, there are three major blocks of incomplete code: one within the `NERDataset` class's `__getitem__` function, one within the `NER_Model` class's `forward` function, and one within the `run_model` function. All are denoted with large comment blocks describing what is missing. Fill in these incomplete code sections. When fixed, you should obtain a dev-set macro F1 of approximately 0.75 after 20 epochs. Find and fix these issues, then answer the following questions:\n",
        "  1. How did you fill in these code sections? Be specific, including code snippets and commentary on what your code is doing at each step?\n",
        "  2. What final performance did you obtain, first, on the dev-set, and second, on the test-set? As with the baseline system, you will need to write code yourself to measure the performance on the test dataset.\n",
        "  3. (Optional, not for credit): What is the _best_ performance you can obtain with a neural network model? What hyperparameters did you use / changes did you make to obtain this?\n",
        "\n",
        "#### Comparison to the Baseline System\n",
        "We saw in part 1 that a number of hyperparameters were very impactful on the performance of the baseline system. Here, we'll explore some of those parameters for this model as well.\n",
        "  1. How sensitive is the system to the tokenization parameters `lowercase`, `remove_punct`, and `replace_numbers`? Is it similarly sensitive as the baseline system? Does this make sense?\n",
        "  2. More generally, are you surprised at the performance of the neural network relative to the baseline system? What can the neural network here do that our baseline system can't, and why might this be important for this task? What advantages does our baseline have over the neural network, and why might they be helpful? List at least 2 main differences between the neural network and the baseline system that could contribute to any performance discrepancy, and for each comment on why you expect that could be a major contributing factor. For each, also give a sample, synthetic sentence that illustrates a case where you think these differences could be important.\n",
        "\n",
        "#### Extensions\n",
        "These models, while thoughtful, could definitely be extended in many ways. Think of one way each the baseline model and the neural network models could be extended. For each of these, describe the extension and indicate why you think it might improve performance as well as any reasons it might _not_ improve performance (as it is always good to consider why something might not work as well as why it might).\n",
        "\n",
        "__Hint__: Check out the [paper](https://arxiv.org/abs/1606.03475) by Dernoncourt et al., for some ideas. There is a major component missing from both our models that is described in their system."
      ]
    }
  ]
}